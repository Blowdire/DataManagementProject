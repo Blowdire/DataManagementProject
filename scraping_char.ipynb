{
 "cells": [
  {
   "cell_type": "code",
   "execution_count": 2,
   "metadata": {},
   "outputs": [],
   "source": [
    "import pandas as pd\n",
    "from bs4 import BeautifulSoup\n",
    "import requests\n",
    "from tqdm import tqdm\n",
    "import json"
   ]
  },
  {
   "cell_type": "code",
   "execution_count": null,
   "metadata": {},
   "outputs": [],
   "source": [
    "# main page with letters\n",
    "\n",
    "next_link = \"https://marvelcinematicuniverse.fandom.com/wiki/Category:Characters\"\n",
    "\n",
    "characters_link_list = []\n",
    "while next_link != None:\n",
    "    response = requests.get(next_link)\n",
    "    html_page = response.text\n",
    "    html_tree = BeautifulSoup(html_page)\n",
    "    results = html_tree.find_all(\"a\", class_=\"category-page__member-link\")\n",
    "    next_link = html_tree.find(\n",
    "        \"a\", class_=\"category-page__pagination-next wds-button wds-is-secondary\")\n",
    "    next_link = next_link[\"href\"] if next_link != None else None\n",
    "\n",
    "    for result in results:\n",
    "        characters_link_list.append(\n",
    "            [result.text, \"https://marvelcinematicuniverse.fandom.com\"+result[\"href\"]])\n"
   ]
  },
  {
   "cell_type": "code",
   "execution_count": 26,
   "metadata": {},
   "outputs": [],
   "source": [
    "lista_personaggi = pd.DataFrame(characters_link_list, columns=[\"Nome\", \"Link\"])"
   ]
  },
  {
   "cell_type": "code",
   "execution_count": 12,
   "metadata": {},
   "outputs": [
    {
     "data": {
      "text/html": [
       "<div>\n",
       "<style scoped>\n",
       "    .dataframe tbody tr th:only-of-type {\n",
       "        vertical-align: middle;\n",
       "    }\n",
       "\n",
       "    .dataframe tbody tr th {\n",
       "        vertical-align: top;\n",
       "    }\n",
       "\n",
       "    .dataframe thead th {\n",
       "        text-align: right;\n",
       "    }\n",
       "</style>\n",
       "<table border=\"1\" class=\"dataframe\">\n",
       "  <thead>\n",
       "    <tr style=\"text-align: right;\">\n",
       "      <th></th>\n",
       "      <th>Nome</th>\n",
       "      <th>Link</th>\n",
       "      <th>Biografia</th>\n",
       "    </tr>\n",
       "  </thead>\n",
       "  <tbody>\n",
       "    <tr>\n",
       "      <th>0</th>\n",
       "      <td>A'Lars</td>\n",
       "      <td>https://marvelcinematicuniverse.fandom.com/wik...</td>\n",
       "      <td>['Biography', 'Life on Titan', \"A'Lars fathere...</td>\n",
       "    </tr>\n",
       "    <tr>\n",
       "      <th>1</th>\n",
       "      <td>A. Kennedy</td>\n",
       "      <td>https://marvelcinematicuniverse.fandom.com/wik...</td>\n",
       "      <td>['Biography', 'First Encounter With S.H.I.E.L....</td>\n",
       "    </tr>\n",
       "    <tr>\n",
       "      <th>2</th>\n",
       "      <td>A.I.M. President</td>\n",
       "      <td>https://marvelcinematicuniverse.fandom.com/wik...</td>\n",
       "      <td>['Biography', 'Obadiah Stane contacted the A.I...</td>\n",
       "    </tr>\n",
       "    <tr>\n",
       "      <th>3</th>\n",
       "      <td>Aaron (Apple Inc.)</td>\n",
       "      <td>https://marvelcinematicuniverse.fandom.com/wik...</td>\n",
       "      <td>['Biography', 'Apple Inc.', 'Assisting Custome...</td>\n",
       "    </tr>\n",
       "    <tr>\n",
       "      <th>4</th>\n",
       "      <td>Aaron (Baby)</td>\n",
       "      <td>https://marvelcinematicuniverse.fandom.com/wik...</td>\n",
       "      <td>['Biography', \"Sophie walked with her son crad...</td>\n",
       "    </tr>\n",
       "  </tbody>\n",
       "</table>\n",
       "</div>"
      ],
      "text/plain": [
       "                 Nome                                               Link  \\\n",
       "0              A'Lars  https://marvelcinematicuniverse.fandom.com/wik...   \n",
       "1          A. Kennedy  https://marvelcinematicuniverse.fandom.com/wik...   \n",
       "2    A.I.M. President  https://marvelcinematicuniverse.fandom.com/wik...   \n",
       "3  Aaron (Apple Inc.)  https://marvelcinematicuniverse.fandom.com/wik...   \n",
       "4        Aaron (Baby)  https://marvelcinematicuniverse.fandom.com/wik...   \n",
       "\n",
       "                                           Biografia  \n",
       "0  ['Biography', 'Life on Titan', \"A'Lars fathere...  \n",
       "1  ['Biography', 'First Encounter With S.H.I.E.L....  \n",
       "2  ['Biography', 'Obadiah Stane contacted the A.I...  \n",
       "3  ['Biography', 'Apple Inc.', 'Assisting Custome...  \n",
       "4  ['Biography', \"Sophie walked with her son crad...  "
      ]
     },
     "execution_count": 12,
     "metadata": {},
     "output_type": "execute_result"
    }
   ],
   "source": [
    "lista_personaggi = pd.read_csv(\"./Datasets/list_of_characters_with_biography.csv\")\n",
    "lista_personaggi.head()"
   ]
  },
  {
   "cell_type": "code",
   "execution_count": 16,
   "metadata": {},
   "outputs": [
    {
     "data": {
      "text/html": [
       "<div>\n",
       "<style scoped>\n",
       "    .dataframe tbody tr th:only-of-type {\n",
       "        vertical-align: middle;\n",
       "    }\n",
       "\n",
       "    .dataframe tbody tr th {\n",
       "        vertical-align: top;\n",
       "    }\n",
       "\n",
       "    .dataframe thead th {\n",
       "        text-align: right;\n",
       "    }\n",
       "</style>\n",
       "<table border=\"1\" class=\"dataframe\">\n",
       "  <thead>\n",
       "    <tr style=\"text-align: right;\">\n",
       "      <th></th>\n",
       "      <th>Nome</th>\n",
       "      <th>Link</th>\n",
       "      <th>Biografia</th>\n",
       "    </tr>\n",
       "  </thead>\n",
       "  <tbody>\n",
       "    <tr>\n",
       "      <th>0</th>\n",
       "      <td>A'Lars</td>\n",
       "      <td>https://marvelcinematicuniverse.fandom.com/wik...</td>\n",
       "      <td>['Biography', 'Life on Titan', \"A'Lars fathere...</td>\n",
       "    </tr>\n",
       "    <tr>\n",
       "      <th>1</th>\n",
       "      <td>A. Kennedy</td>\n",
       "      <td>https://marvelcinematicuniverse.fandom.com/wik...</td>\n",
       "      <td>['Biography', 'First Encounter With S.H.I.E.L....</td>\n",
       "    </tr>\n",
       "    <tr>\n",
       "      <th>2</th>\n",
       "      <td>A.I.M. President</td>\n",
       "      <td>https://marvelcinematicuniverse.fandom.com/wik...</td>\n",
       "      <td>['Biography', 'Obadiah Stane contacted the A.I...</td>\n",
       "    </tr>\n",
       "    <tr>\n",
       "      <th>3</th>\n",
       "      <td>Aaron (Apple Inc.)</td>\n",
       "      <td>https://marvelcinematicuniverse.fandom.com/wik...</td>\n",
       "      <td>['Biography', 'Apple Inc.', 'Assisting Custome...</td>\n",
       "    </tr>\n",
       "    <tr>\n",
       "      <th>4</th>\n",
       "      <td>Aaron (Baby)</td>\n",
       "      <td>https://marvelcinematicuniverse.fandom.com/wik...</td>\n",
       "      <td>['Biography', \"Sophie walked with her son crad...</td>\n",
       "    </tr>\n",
       "  </tbody>\n",
       "</table>\n",
       "</div>"
      ],
      "text/plain": [
       "                 Nome                                               Link  \\\n",
       "0              A'Lars  https://marvelcinematicuniverse.fandom.com/wik...   \n",
       "1          A. Kennedy  https://marvelcinematicuniverse.fandom.com/wik...   \n",
       "2    A.I.M. President  https://marvelcinematicuniverse.fandom.com/wik...   \n",
       "3  Aaron (Apple Inc.)  https://marvelcinematicuniverse.fandom.com/wik...   \n",
       "4        Aaron (Baby)  https://marvelcinematicuniverse.fandom.com/wik...   \n",
       "\n",
       "                                           Biografia  \n",
       "0  ['Biography', 'Life on Titan', \"A'Lars fathere...  \n",
       "1  ['Biography', 'First Encounter With S.H.I.E.L....  \n",
       "2  ['Biography', 'Obadiah Stane contacted the A.I...  \n",
       "3  ['Biography', 'Apple Inc.', 'Assisting Custome...  \n",
       "4  ['Biography', \"Sophie walked with her son crad...  "
      ]
     },
     "execution_count": 16,
     "metadata": {},
     "output_type": "execute_result"
    }
   ],
   "source": [
    "lista_personaggi.head()\n"
   ]
  },
  {
   "cell_type": "code",
   "execution_count": 8,
   "metadata": {},
   "outputs": [
    {
     "data": {
      "text/plain": [
       "(3747, 2)"
      ]
     },
     "execution_count": 8,
     "metadata": {},
     "output_type": "execute_result"
    }
   ],
   "source": [
    "lista_personaggi.shape"
   ]
  },
  {
   "cell_type": "code",
   "execution_count": 3,
   "metadata": {},
   "outputs": [],
   "source": [
    "def cerca_bio(page_tree):\n",
    "    biography_list = []\n",
    "    biography_initial = page_tree.find_all(id=\"Biography\")\n",
    "    description_ended = False\n",
    "    if(biography_initial):\n",
    "        next_span = biography_initial[0].parent.find_next()\n",
    "\n",
    "        while not description_ended:\n",
    "            if next_span.name != \"a\" and next_span.name != \"sup\":\n",
    "                biography_list.append(next_span.text)\n",
    "\n",
    "            next_span = next_span.find_next()\n",
    "            if next_span.name == \"h2\":\n",
    "                description_ended = True\n",
    "            biography_list = list(dict.fromkeys(biography_list))\n",
    "            lista_personaggi.at[idx, \"Biografia\"] = biography_list\n",
    "    return biography_list"
   ]
  },
  {
   "cell_type": "code",
   "execution_count": 23,
   "metadata": {},
   "outputs": [],
   "source": [
    "def cerca_serie(page_tree):\n",
    "    movies_list = []\n",
    "    tag_lista_film = None\n",
    "    movies_initial = page_tree.find_all(\"div\", class_=\"pi-item pi-data pi-item-spacing pi-border-color\")\n",
    "    for element in movies_initial:\n",
    "        if element[\"data-source\"] == \"tv series\":\n",
    "            tag_lista_film = element\n",
    "\n",
    "    if tag_lista_film != None:\n",
    "        links = tag_lista_film.find_all(\"i\")\n",
    "        for link in links:\n",
    "            movies_list.append([link.text, link.find_next(\"a\")[\"href\"]])\n",
    "    return movies_list"
   ]
  },
  {
   "cell_type": "code",
   "execution_count": 22,
   "metadata": {},
   "outputs": [],
   "source": [
    "def cerca_film(page_tree):\n",
    "    movies_list = []\n",
    "    tag_lista_film = None\n",
    "    movies_initial = page_tree.find_all(\"div\", class_=\"pi-item pi-data pi-item-spacing pi-border-color\")\n",
    "    for element in movies_initial:\n",
    "        if element[\"data-source\"] == \"movie\":\n",
    "            tag_lista_film = element\n",
    "    \n",
    "    if tag_lista_film != None:\n",
    "        links = tag_lista_film.find_all(\"i\")\n",
    "        for link in links:\n",
    "            movies_list.append([link.text, link.find_next(\"a\")[\"href\"]])\n",
    "    return movies_list"
   ]
  },
  {
   "cell_type": "code",
   "execution_count": 13,
   "metadata": {},
   "outputs": [],
   "source": [
    "def cerca_relazione_recursive(list_item):\n",
    "  if not list_item:\n",
    "    return []\n",
    "  next_items = list_item.find_all(\"li\")\n",
    "  if not next_items:\n",
    "    return [list_item.text.split(\" - \",1)]\n",
    "  else:\n",
    "    recursive_list = []\n",
    "    for item in next_items:\n",
    "      recursive_list += cerca_relazione_recursive(item)\n",
    "    return recursive_list\n",
    "\n"
   ]
  },
  {
   "cell_type": "code",
   "execution_count": 14,
   "metadata": {},
   "outputs": [],
   "source": [
    "def cerca_relazione(page_tree):\n",
    "  relationship_initial_tag = page_tree.find(id=\"Relationships\")\n",
    "  if relationship_initial_tag:\n",
    "    rel_table = relationship_initial_tag.find_next(\"table\")\n",
    "    relation_list = []\n",
    "    if rel_table:\n",
    "      for ul_list in rel_table.find_all(\"ul\"):\n",
    "        for list_item in ul_list.find_all(\"li\"):\n",
    "          relation_list += cerca_relazione_recursive(list_item)\n",
    "    return relation_list\n"
   ]
  },
  {
   "cell_type": "code",
   "execution_count": 24,
   "metadata": {},
   "outputs": [
    {
     "name": "stderr",
     "output_type": "stream",
     "text": [
      "100%|██████████| 3746/3746 [11:27<00:00,  5.45it/s]\n"
     ]
    }
   ],
   "source": [
    "from IPython.display import clear_output\n",
    "lista_personaggi = pd.read_csv(\n",
    "    \"./Datasets/scraping_personaggi_completo_filtered_name.csv\")\n",
    "#lista_personaggi[\"Biografia\"] = None\n",
    "lista_personaggi[\"Film\"] = None\n",
    "lista_personaggi[\"Serie\"] = None\n",
    "# lista_personaggi[\"Relazioni\"] = None\n",
    "\n",
    "num_iterazioni = 0\n",
    "\n",
    "for idx, row in tqdm(lista_personaggi.iterrows(), total=lista_personaggi.shape[0]):\n",
    "    character_page_response = requests.get(row[\"Link\"])\n",
    "    character_page_tree = BeautifulSoup(character_page_response.text)\n",
    "    #biografia = cerca_bio(character_page_tree)\n",
    "    film = cerca_film(character_page_tree)\n",
    "    serie = cerca_serie(character_page_tree)\n",
    "    # relazioni = cerca_relazione(character_page_tree)\n",
    "    #lista_personaggi.at[idx, \"Biografia\"] = biografia\n",
    "    lista_personaggi.at[idx, \"Film\"] = json.dumps(film)\n",
    "    lista_personaggi.at[idx, \"Serie\"] = json.dumps(serie)\n",
    "    # lista_personaggi.at[idx, \"Relazioni\"] = json.dumps(relazioni)\n"
   ]
  },
  {
   "cell_type": "code",
   "execution_count": 25,
   "metadata": {},
   "outputs": [],
   "source": [
    "lista_personaggi.to_csv(\"./Datasets/scraping_personaggi_completo.csv\", index=False)"
   ]
  },
  {
   "cell_type": "code",
   "execution_count": 37,
   "metadata": {},
   "outputs": [
    {
     "name": "stdout",
     "output_type": "stream",
     "text": [
      "0\n"
     ]
    }
   ],
   "source": [
    "lista_personaggi = pd.read_csv(\"./Datasets/scraping_personaggi_completo.csv\")\n",
    "lista_personaggi.head(20)\n",
    "filt = lista_personaggi.query(\"Nome == 'Grandmother'\")\n",
    "print(len(filt[\"Relazioni\"]))\n"
   ]
  },
  {
   "cell_type": "code",
   "execution_count": 38,
   "metadata": {},
   "outputs": [
    {
     "name": "stderr",
     "output_type": "stream",
     "text": [
      "100%|██████████| 3746/3746 [00:00<00:00, 21648.21it/s]\n"
     ]
    }
   ],
   "source": [
    "lista_personaggi[\"Processed_Name\"] = None\n",
    "for idx, row in tqdm(lista_personaggi.iterrows(), total=lista_personaggi.shape[0]):\n",
    "  lista_personaggi.at[idx, \"Processed_Name\"]= row[\"Nome\"].replace(\"'\", \" \").replace('\"', \" \").replace(\" \\u2020\",\"\")\n",
    "lista_personaggi.to_csv(\"./Datasets/scraping_personaggi_completo_filtered_name.csv\", index=False)\n"
   ]
  },
  {
   "cell_type": "code",
   "execution_count": 39,
   "metadata": {},
   "outputs": [
    {
     "name": "stdout",
     "output_type": "stream",
     "text": [
      "[[\"test\", \"test\"]]\n"
     ]
    },
    {
     "name": "stderr",
     "output_type": "stream",
     "text": [
      "100%|██████████| 3746/3746 [00:47<00:00, 79.47it/s] \n"
     ]
    },
    {
     "name": "stdout",
     "output_type": "stream",
     "text": [
      "Errors 171\n"
     ]
    }
   ],
   "source": [
    "test =[['test','test']]\n",
    "print(json.dumps(test))\n",
    "lista_personaggi = pd.read_csv(\n",
    "    \"./Datasets/scraping_personaggi_completo_filtered_name.csv\")\n",
    "lista_personaggi[\"Filtered_relazioni\"] = None\n",
    "errors =0\n",
    "for idx, row in tqdm(lista_personaggi.iterrows(), total=lista_personaggi.shape[0]):\n",
    "  try:\n",
    "    relations = json.loads(row[\"Relazioni\"])\n",
    "    filtered_relations = []\n",
    "    for relation in relations:\n",
    "        querystring = \"Processed_Name == '%s'\" % (\n",
    "          relation[0].replace(\"'\", \" \").replace('\"', \" \").replace(\" \\u2020\",\"\"))\n",
    "        if len(lista_personaggi.query(querystring)) != 0:\n",
    "          filtered_relations.append(relation)\n",
    "\n",
    "    lista_personaggi.at[idx, \"Filtered_relazioni\"] = filtered_relations\n",
    "  except Exception as e:\n",
    "    errors+=1\n",
    "print(\"Errors %s\"%(errors))\n",
    "  \n",
    "lista_personaggi.to_csv(\"./Datasets/scraping_personaggi_completo_filtered_relations.csv\", index=False)\n"
   ]
  },
  {
   "cell_type": "code",
   "execution_count": 56,
   "metadata": {},
   "outputs": [],
   "source": [
    "def get_film_info(page_tree):\n",
    "  try:\n",
    "    side_info = page_tree.find(\n",
    "        \"aside\", class_=\"portable-infobox pi-background pi-border-color pi-theme-wikia pi-layout-default\")\n",
    "    divs = side_info.find_all(\n",
    "        \"div\", class_=\"pi-item pi-data pi-item-spacing pi-border-color\")\n",
    "    directors_list = []\n",
    "    writer_list = []\n",
    "    producer_list = []\n",
    "    composer_list = []\n",
    "    release_date = None\n",
    "    runtime = None\n",
    "    boxoffice = None\n",
    "    for div in divs:\n",
    "        if div[\"data-source\"] == \"director\":\n",
    "          directors_tags = div.find_all(\"a\")\n",
    "          for director in directors_tags:\n",
    "            if director[\"href\"] != \"#cite_note-1\":\n",
    "              directors_list.append([director.text, director[\"href\"]])\n",
    "        elif div[\"data-source\"] == \"writer\":\n",
    "          writers_tags = div.find_all(\"a\")\n",
    "          for writer in writers_tags:\n",
    "            if writer[\"href\"] != \"#cite_note-1\":\n",
    "              writer_list.append([writer.text, writer[\"href\"]])\n",
    "        elif div[\"data-source\"] == \"producer\":\n",
    "          producer_tags = div.find_all(\"a\")\n",
    "          for producer in producer_tags:\n",
    "            if producer[\"href\"] != \"#cite_note-1\":\n",
    "              producer_list.append([producer.text, producer[\"href\"]])\n",
    "        elif div[\"data-source\"] == \"composer\":\n",
    "          composer_tags = div.find_all(\"a\")\n",
    "          for composer in composer_tags:\n",
    "            if composer[\"href\"] != \"#cite_note-1\":\n",
    "              composer_list.append([composer.text, composer[\"href\"]])\n",
    "        elif div[\"data-source\"] == \"release\":\n",
    "          tags = div.find_all(\"div\")\n",
    "          for tag in tags:\n",
    "            release_date = tag.text\n",
    "        elif div[\"data-source\"] == \"runtime\":\n",
    "          tags = div.find_all(\"div\")\n",
    "          for tag in tags:\n",
    "            runtime = tag.text\n",
    "        elif div[\"data-source\"] == \"boxoffice\":\n",
    "          tags = div.find_all(\"div\")\n",
    "          for tag in tags:\n",
    "            boxoffice = tag.text\n",
    "    return ([directors_list, writer_list, producer_list, composer_list, release_date, runtime, boxoffice])\n",
    "  except Exception as e:\n",
    "    print(e)\n",
    "\n",
    "  \n",
    "\n",
    "def get_synopsis(page_tree):\n",
    "  try:\n",
    "    synopsis = []\n",
    "    title = page_tree.find(\n",
    "        id=\"Synopsis\")\n",
    "    next_tag = title.find_next()\n",
    "    while next_tag.name == \"p\" and next_tag:\n",
    "      synopsis.append(next_tag.text)\n",
    "      next_tag = next_tag.find_next_sibling()\n",
    "    return (synopsis)\n",
    "  except Exception as e:\n",
    "    print(e)\n",
    "\n",
    "  \n",
    "\n",
    "def film_scraping(film_name=\"Avengers: Infinity War\", film_url=\"https://marvelcinematicuniverse.fandom.com/wiki/Avengers:_Infinity_War\"):\n",
    "  try:\n",
    "    film_page_response = requests.get(film_url)\n",
    "    film_page_tree = BeautifulSoup(film_page_response.text)\n",
    "    # film_info = get_film_info(film_page_tree)\n",
    "    get_synopsis(film_page_tree)\n",
    "  except Exception as e:\n",
    "    print(e)\n"
   ]
  },
  {
   "cell_type": "code",
   "execution_count": 59,
   "metadata": {},
   "outputs": [
    {
     "name": "stderr",
     "output_type": "stream",
     "text": [
      "100%|██████████| 3746/3746 [00:00<00:00, 10579.04it/s]"
     ]
    },
    {
     "name": "stdout",
     "output_type": "stream",
     "text": [
      "['/wiki/Avengers:_Infinity_War', '/wiki/Captain_America:_The_Winter_Soldier', '/wiki/Spider-Man:_Homecoming', '/wiki/Guardians_of_the_Galaxy_Vol._2', '/wiki/The_Incredible_Hulk', '/wiki/Shang-Chi_and_the_Legend_of_the_Ten_Rings', '/wiki/Captain_America:_The_First_Avenger', '/wiki/The_Avengers', '/wiki/Avengers:_Age_of_Ultron', '/wiki/Spider-Man:_No_Way_Home', '/wiki/Iron_Man_(film)', '/wiki/Captain_Marvel_(film)', '/wiki/Iron_Man_2', '/wiki/Guardians_of_the_Galaxy_Vol._3', '/wiki/Doctor_Strange_(film)', '/wiki/Avengers:_Endgame', '/wiki/Eternals_(film)', '/wiki/Iron_Man_3', '/wiki/Black_Widow_(film)', '/wiki/The_Marvels', '/wiki/Ant-Man_and_the_Wasp', '/wiki/Black_Panther:_Wakanda_Forever', '/wiki/Thor_(film)', '/wiki/Ant-Man_(film)', '/wiki/Captain_America:_Civil_War', '/wiki/Spider-Man:_Far_From_Home', '/wiki/Ant-Man_and_the_Wasp:_Quantumania', '/wiki/Thor:_Love_and_Thunder', '/wiki/Thor:_Ragnarok', '/wiki/Black_Panther_(film)', '/wiki/Guardians_of_the_Galaxy_(film)', '/wiki/Blade_(film)', '/wiki/Thor:_The_Dark_World', '/wiki/Captain_America_4', '/wiki/Daredevil_(TV_series)', '/wiki/The_Dark_at_the_End_of_the_Tunnel', '/wiki/Doctor_Strange_in_the_Multiverse_of_Madness', '/wiki/Jessica_Jones_(TV_series)', '/wiki/AKA_Sin_Bin', '/wiki/The_Man_in_the_Box', '/wiki/Shang-Chi_2', '/wiki/Spider-Man_4']\n"
     ]
    },
    {
     "name": "stderr",
     "output_type": "stream",
     "text": [
      "\n"
     ]
    }
   ],
   "source": [
    "lista_personaggi = pd.read_csv(\"Datasets/scraping_personaggi_completo_filtered_relations.csv\")\n",
    "lista_film_links = []\n",
    "for idx, row in tqdm(lista_personaggi.iterrows(), total=lista_personaggi.shape[0]):\n",
    "  films = json.loads(row[\"Film\"])\n",
    "  for film in films:\n",
    "    if film[1] not in lista_film_links:\n",
    "      lista_film_links.append(film[1])\n",
    "print(lista_film_links)\n"
   ]
  },
  {
   "cell_type": "code",
   "execution_count": null,
   "metadata": {},
   "outputs": [],
   "source": [
    "lista_personaggi.head(20)"
   ]
  }
 ],
 "metadata": {
  "interpreter": {
   "hash": "22f5c8559ee5d16991f9240bd2c1a679b03627a0e94304b0bc26d90d3a5752ce"
  },
  "kernelspec": {
   "display_name": "Python 3.9.7 64-bit ('MainEnv': conda)",
   "language": "python",
   "name": "python3"
  },
  "language_info": {
   "codemirror_mode": {
    "name": "ipython",
    "version": 3
   },
   "file_extension": ".py",
   "mimetype": "text/x-python",
   "name": "python",
   "nbconvert_exporter": "python",
   "pygments_lexer": "ipython3",
   "version": "3.9.1"
  },
  "orig_nbformat": 4
 },
 "nbformat": 4,
 "nbformat_minor": 2
}
