{
 "cells": [
  {
   "cell_type": "code",
   "execution_count": 24,
   "metadata": {},
   "outputs": [],
   "source": [
    "import pandas as pd\n",
    "from bs4 import BeautifulSoup\n",
    "import requests\n",
    "from tqdm import tqdm"
   ]
  },
  {
   "cell_type": "code",
   "execution_count": 25,
   "metadata": {},
   "outputs": [],
   "source": [
    "# main page with letters\n",
    "\n",
    "next_link = \"https://marvelcinematicuniverse.fandom.com/wiki/Category:Characters\"\n",
    "\n",
    "characters_link_list = []\n",
    "while next_link != None:\n",
    "    response = requests.get(next_link)\n",
    "    html_page = response.text\n",
    "    html_tree = BeautifulSoup(html_page)\n",
    "    results = html_tree.find_all(\"a\", class_=\"category-page__member-link\")\n",
    "    next_link = html_tree.find(\n",
    "        \"a\", class_=\"category-page__pagination-next wds-button wds-is-secondary\")\n",
    "    next_link = next_link[\"href\"] if next_link != None else None\n",
    "\n",
    "    for result in results:\n",
    "        characters_link_list.append(\n",
    "            [result.text, \"https://marvelcinematicuniverse.fandom.com\"+result[\"href\"]])\n"
   ]
  },
  {
   "cell_type": "code",
   "execution_count": 26,
   "metadata": {},
   "outputs": [],
   "source": [
    "lista_personaggi = pd.DataFrame(characters_link_list, columns=[\"Nome\", \"Link\"])"
   ]
  },
  {
   "cell_type": "code",
   "execution_count": 27,
   "metadata": {},
   "outputs": [
    {
     "data": {
      "text/html": [
       "<div>\n",
       "<style scoped>\n",
       "    .dataframe tbody tr th:only-of-type {\n",
       "        vertical-align: middle;\n",
       "    }\n",
       "\n",
       "    .dataframe tbody tr th {\n",
       "        vertical-align: top;\n",
       "    }\n",
       "\n",
       "    .dataframe thead th {\n",
       "        text-align: right;\n",
       "    }\n",
       "</style>\n",
       "<table border=\"1\" class=\"dataframe\">\n",
       "  <thead>\n",
       "    <tr style=\"text-align: right;\">\n",
       "      <th></th>\n",
       "      <th>Nome</th>\n",
       "      <th>Link</th>\n",
       "    </tr>\n",
       "  </thead>\n",
       "  <tbody>\n",
       "    <tr>\n",
       "      <th>0</th>\n",
       "      <td>A'Lars</td>\n",
       "      <td>https://marvelcinematicuniverse.fandom.com/wik...</td>\n",
       "    </tr>\n",
       "    <tr>\n",
       "      <th>1</th>\n",
       "      <td>A. Kennedy</td>\n",
       "      <td>https://marvelcinematicuniverse.fandom.com/wik...</td>\n",
       "    </tr>\n",
       "    <tr>\n",
       "      <th>2</th>\n",
       "      <td>A.I.M. President</td>\n",
       "      <td>https://marvelcinematicuniverse.fandom.com/wik...</td>\n",
       "    </tr>\n",
       "    <tr>\n",
       "      <th>3</th>\n",
       "      <td>Aaron (Apple Inc.)</td>\n",
       "      <td>https://marvelcinematicuniverse.fandom.com/wik...</td>\n",
       "    </tr>\n",
       "    <tr>\n",
       "      <th>4</th>\n",
       "      <td>Aaron (Baby)</td>\n",
       "      <td>https://marvelcinematicuniverse.fandom.com/wik...</td>\n",
       "    </tr>\n",
       "  </tbody>\n",
       "</table>\n",
       "</div>"
      ],
      "text/plain": [
       "                 Nome                                               Link\n",
       "0              A'Lars  https://marvelcinematicuniverse.fandom.com/wik...\n",
       "1          A. Kennedy  https://marvelcinematicuniverse.fandom.com/wik...\n",
       "2    A.I.M. President  https://marvelcinematicuniverse.fandom.com/wik...\n",
       "3  Aaron (Apple Inc.)  https://marvelcinematicuniverse.fandom.com/wik...\n",
       "4        Aaron (Baby)  https://marvelcinematicuniverse.fandom.com/wik..."
      ]
     },
     "execution_count": 27,
     "metadata": {},
     "output_type": "execute_result"
    }
   ],
   "source": [
    "lista_personaggi.head()"
   ]
  },
  {
   "cell_type": "code",
   "execution_count": 28,
   "metadata": {},
   "outputs": [
    {
     "data": {
      "text/plain": [
       "(3749, 2)"
      ]
     },
     "execution_count": 28,
     "metadata": {},
     "output_type": "execute_result"
    }
   ],
   "source": [
    "lista_personaggi.shape"
   ]
  },
  {
   "cell_type": "code",
   "execution_count": 29,
   "metadata": {},
   "outputs": [],
   "source": [
    "def cerca_bio(page_tree):\n",
    "    biography_list = []\n",
    "    biography_initial = page_tree.find_all(id=\"Biography\")\n",
    "    description_ended = False\n",
    "    if(biography_initial):\n",
    "        next_span = biography_initial[0].parent.find_next()\n",
    "\n",
    "        while not description_ended:\n",
    "            if next_span.name != \"a\" and next_span.name != \"sup\":\n",
    "                biography_list.append(next_span.text)\n",
    "\n",
    "            next_span = next_span.find_next()\n",
    "            if next_span.name == \"h2\":\n",
    "                description_ended = True\n",
    "            biography_list = list(dict.fromkeys(biography_list))\n",
    "            lista_personaggi.at[idx, \"Biografia\"] = biography_list\n",
    "    return biography_list"
   ]
  },
  {
   "cell_type": "code",
   "execution_count": null,
   "metadata": {},
   "outputs": [],
   "source": [
    "def cerca_serie(page_tree):\n",
    "    movies_list = []\n",
    "    tag_lista_film = None\n",
    "    movies_initial = page_tree.find_all(\"div\", class_=\"pi-item pi-data pi-item-spacing pi-border-color\")\n",
    "    for element in movies_initial:\n",
    "        if element[\"data-source\"] == \"tv series\":\n",
    "            tag_lista_film = element\n",
    "\n",
    "    if tag_lista_film != None:\n",
    "        links = tag_lista_film.find_all(\"i\")\n",
    "        for link in links:\n",
    "            movies_list.append(link.text)\n",
    "    return movies_list"
   ]
  },
  {
   "cell_type": "code",
   "execution_count": 34,
   "metadata": {},
   "outputs": [],
   "source": [
    "def cerca_film(page_tree):\n",
    "    movies_list = []\n",
    "    tag_lista_film = None\n",
    "    movies_initial = page_tree.find_all(\"div\", class_=\"pi-item pi-data pi-item-spacing pi-border-color\")\n",
    "    for element in movies_initial:\n",
    "        if element[\"data-source\"] == \"movie\":\n",
    "            tag_lista_film = element\n",
    "    \n",
    "    if tag_lista_film != None:\n",
    "        links = tag_lista_film.find_all(\"i\")\n",
    "        for link in links:\n",
    "            movies_list.append(link.text)\n",
    "    return movies_list"
   ]
  },
  {
   "cell_type": "code",
   "execution_count": 37,
   "metadata": {},
   "outputs": [
    {
     "name": "stderr",
     "output_type": "stream",
     "text": [
      "  0%|          | 1/3749 [00:00<31:43,  1.97it/s]"
     ]
    },
    {
     "name": "stdout",
     "output_type": "stream",
     "text": [
      "['Avengers: Infinity War']\n"
     ]
    },
    {
     "name": "stderr",
     "output_type": "stream",
     "text": [
      "  0%|          | 2/3749 [00:01<32:12,  1.94it/s]"
     ]
    },
    {
     "name": "stdout",
     "output_type": "stream",
     "text": [
      "[]\n"
     ]
    },
    {
     "name": "stderr",
     "output_type": "stream",
     "text": [
      "  0%|          | 3/3749 [00:01<30:28,  2.05it/s]"
     ]
    },
    {
     "name": "stdout",
     "output_type": "stream",
     "text": [
      "[]\n"
     ]
    },
    {
     "name": "stderr",
     "output_type": "stream",
     "text": [
      "  0%|          | 4/3749 [00:01<30:07,  2.07it/s]"
     ]
    },
    {
     "name": "stdout",
     "output_type": "stream",
     "text": [
      "['Captain America: The Winter Soldier']\n"
     ]
    },
    {
     "name": "stderr",
     "output_type": "stream",
     "text": [
      "  0%|          | 5/3749 [00:02<34:09,  1.83it/s]"
     ]
    },
    {
     "name": "stdout",
     "output_type": "stream",
     "text": [
      "[]\n"
     ]
    },
    {
     "name": "stderr",
     "output_type": "stream",
     "text": [
      "  0%|          | 6/3749 [00:02<30:16,  2.06it/s]"
     ]
    },
    {
     "name": "stdout",
     "output_type": "stream",
     "text": [
      "[]\n"
     ]
    },
    {
     "name": "stderr",
     "output_type": "stream",
     "text": [
      "  0%|          | 7/3749 [00:03<29:49,  2.09it/s]"
     ]
    },
    {
     "name": "stdout",
     "output_type": "stream",
     "text": [
      "[]\n"
     ]
    },
    {
     "name": "stderr",
     "output_type": "stream",
     "text": [
      "  0%|          | 8/3749 [00:03<28:26,  2.19it/s]"
     ]
    },
    {
     "name": "stdout",
     "output_type": "stream",
     "text": [
      "[]\n"
     ]
    },
    {
     "name": "stderr",
     "output_type": "stream",
     "text": [
      "  0%|          | 9/3749 [00:04<27:38,  2.26it/s]"
     ]
    },
    {
     "name": "stdout",
     "output_type": "stream",
     "text": [
      "[]\n"
     ]
    },
    {
     "name": "stderr",
     "output_type": "stream",
     "text": [
      "  0%|          | 10/3749 [00:04<27:30,  2.27it/s]"
     ]
    },
    {
     "name": "stdout",
     "output_type": "stream",
     "text": [
      "['Spider-Man: Homecoming']\n"
     ]
    },
    {
     "name": "stderr",
     "output_type": "stream",
     "text": [
      "  0%|          | 11/3749 [00:05<28:02,  2.22it/s]"
     ]
    },
    {
     "name": "stdout",
     "output_type": "stream",
     "text": [
      "[]\n"
     ]
    },
    {
     "name": "stderr",
     "output_type": "stream",
     "text": [
      "  0%|          | 12/3749 [00:05<28:09,  2.21it/s]"
     ]
    },
    {
     "name": "stdout",
     "output_type": "stream",
     "text": [
      "[]\n"
     ]
    },
    {
     "name": "stderr",
     "output_type": "stream",
     "text": [
      "  0%|          | 13/3749 [00:05<26:15,  2.37it/s]"
     ]
    },
    {
     "name": "stdout",
     "output_type": "stream",
     "text": [
      "[]\n"
     ]
    },
    {
     "name": "stderr",
     "output_type": "stream",
     "text": [
      "  0%|          | 14/3749 [00:06<28:58,  2.15it/s]"
     ]
    },
    {
     "name": "stdout",
     "output_type": "stream",
     "text": [
      "['Guardians of the Galaxy Vol. 2']\n"
     ]
    },
    {
     "name": "stderr",
     "output_type": "stream",
     "text": [
      "  0%|          | 15/3749 [00:06<28:00,  2.22it/s]"
     ]
    },
    {
     "name": "stdout",
     "output_type": "stream",
     "text": [
      "[]\n"
     ]
    },
    {
     "name": "stderr",
     "output_type": "stream",
     "text": [
      "  0%|          | 16/3749 [00:07<29:13,  2.13it/s]"
     ]
    },
    {
     "name": "stdout",
     "output_type": "stream",
     "text": [
      "[]\n"
     ]
    },
    {
     "name": "stderr",
     "output_type": "stream",
     "text": [
      "  0%|          | 17/3749 [00:08<33:16,  1.87it/s]"
     ]
    },
    {
     "name": "stdout",
     "output_type": "stream",
     "text": [
      "['The Incredible Hulk', 'Shang-Chi and the Legend of the Ten Rings']\n"
     ]
    },
    {
     "name": "stderr",
     "output_type": "stream",
     "text": [
      "  0%|          | 18/3749 [00:08<32:52,  1.89it/s]"
     ]
    },
    {
     "name": "stdout",
     "output_type": "stream",
     "text": [
      "['The Incredible Hulk', 'Captain America: The First Avenger', 'The Avengers', 'Avengers: Age of Ultron', 'Spider-Man: Homecoming']\n"
     ]
    },
    {
     "name": "stderr",
     "output_type": "stream",
     "text": [
      "  1%|          | 19/3749 [00:09<31:35,  1.97it/s]"
     ]
    },
    {
     "name": "stdout",
     "output_type": "stream",
     "text": [
      "[]\n"
     ]
    },
    {
     "name": "stderr",
     "output_type": "stream",
     "text": [
      "  1%|          | 19/3749 [00:10<33:31,  1.85it/s]"
     ]
    },
    {
     "name": "stdout",
     "output_type": "stream",
     "text": [
      "[]\n"
     ]
    },
    {
     "name": "stderr",
     "output_type": "stream",
     "text": [
      "\n"
     ]
    }
   ],
   "source": [
    "lista_personaggi[\"Biografia\"] = None\n",
    "lista_personaggi[\"Film\"] = None\n",
    "lista_personaggi[\"Serie\"] = None\n",
    "\n",
    "num_iterazioni = 0\n",
    "\n",
    "for idx, row in tqdm(lista_personaggi.iterrows(), total=lista_personaggi.shape[0]):\n",
    "    character_page_response = requests.get(row[\"Link\"])\n",
    "    character_page_tree = BeautifulSoup(character_page_response.text)\n",
    "    biografia = cerca_bio(character_page_tree)\n",
    "    film = cerca_film(character_page_tree)\n",
    "    serie = cerca_serie(character_page_tree)\n",
    "    lista_personaggi.at[idx, \"Biografia\"] = biografia\n",
    "    lista_personaggi.at[idx, \"Film\"] = film\n",
    "    lista_personaggi.at[idx, \"Serie\"] = serie\n",
    "    num_iterazioni += 1\n",
    "    if num_iterazioni == 20:\n",
    "        break"
   ]
  },
  {
   "cell_type": "code",
   "execution_count": 38,
   "metadata": {},
   "outputs": [
    {
     "data": {
      "text/html": [
       "<div>\n",
       "<style scoped>\n",
       "    .dataframe tbody tr th:only-of-type {\n",
       "        vertical-align: middle;\n",
       "    }\n",
       "\n",
       "    .dataframe tbody tr th {\n",
       "        vertical-align: top;\n",
       "    }\n",
       "\n",
       "    .dataframe thead th {\n",
       "        text-align: right;\n",
       "    }\n",
       "</style>\n",
       "<table border=\"1\" class=\"dataframe\">\n",
       "  <thead>\n",
       "    <tr style=\"text-align: right;\">\n",
       "      <th></th>\n",
       "      <th>Nome</th>\n",
       "      <th>Link</th>\n",
       "      <th>Biografia</th>\n",
       "      <th>Film</th>\n",
       "    </tr>\n",
       "  </thead>\n",
       "  <tbody>\n",
       "    <tr>\n",
       "      <th>0</th>\n",
       "      <td>A'Lars</td>\n",
       "      <td>https://marvelcinematicuniverse.fandom.com/wik...</td>\n",
       "      <td>[Biography, Life on Titan, A'Lars fathered two...</td>\n",
       "      <td>[Avengers: Infinity War]</td>\n",
       "    </tr>\n",
       "    <tr>\n",
       "      <th>1</th>\n",
       "      <td>A. Kennedy</td>\n",
       "      <td>https://marvelcinematicuniverse.fandom.com/wik...</td>\n",
       "      <td>[Biography, First Encounter With S.H.I.E.L.D.,...</td>\n",
       "      <td>[]</td>\n",
       "    </tr>\n",
       "    <tr>\n",
       "      <th>2</th>\n",
       "      <td>A.I.M. President</td>\n",
       "      <td>https://marvelcinematicuniverse.fandom.com/wik...</td>\n",
       "      <td>[Biography, Obadiah Stane contacted the A.I.M....</td>\n",
       "      <td>[]</td>\n",
       "    </tr>\n",
       "    <tr>\n",
       "      <th>3</th>\n",
       "      <td>Aaron (Apple Inc.)</td>\n",
       "      <td>https://marvelcinematicuniverse.fandom.com/wik...</td>\n",
       "      <td>[Biography, Apple Inc., Assisting Customers, \\...</td>\n",
       "      <td>[Captain America: The Winter Soldier]</td>\n",
       "    </tr>\n",
       "    <tr>\n",
       "      <th>4</th>\n",
       "      <td>Aaron (Baby)</td>\n",
       "      <td>https://marvelcinematicuniverse.fandom.com/wik...</td>\n",
       "      <td>[Biography, Sophie walked with her son cradled...</td>\n",
       "      <td>[]</td>\n",
       "    </tr>\n",
       "    <tr>\n",
       "      <th>5</th>\n",
       "      <td>Aaron James</td>\n",
       "      <td>https://marvelcinematicuniverse.fandom.com/wik...</td>\n",
       "      <td>[Biography, Court Case, With Matt Murdock as h...</td>\n",
       "      <td>[]</td>\n",
       "    </tr>\n",
       "    <tr>\n",
       "      <th>6</th>\n",
       "      <td>Aaron Martinez</td>\n",
       "      <td>https://marvelcinematicuniverse.fandom.com/wik...</td>\n",
       "      <td>[Biography, Aaron Martinez was a criminal, sel...</td>\n",
       "      <td>[]</td>\n",
       "    </tr>\n",
       "    <tr>\n",
       "      <th>7</th>\n",
       "      <td>Abby</td>\n",
       "      <td>https://marvelcinematicuniverse.fandom.com/wik...</td>\n",
       "      <td>[Biography, Terrigenesis, \\n\"When the Mist hit...</td>\n",
       "      <td>[]</td>\n",
       "    </tr>\n",
       "    <tr>\n",
       "      <th>8</th>\n",
       "      <td>Abby Rose</td>\n",
       "      <td>https://marvelcinematicuniverse.fandom.com/wik...</td>\n",
       "      <td>[Biography, To be added\\n, To be added]</td>\n",
       "      <td>[]</td>\n",
       "    </tr>\n",
       "    <tr>\n",
       "      <th>9</th>\n",
       "      <td>Abe Brown</td>\n",
       "      <td>https://marvelcinematicuniverse.fandom.com/wik...</td>\n",
       "      <td>[Biography, Decathlon Team, \\n\"Fort Sumter!\"\"F...</td>\n",
       "      <td>[Spider-Man: Homecoming]</td>\n",
       "    </tr>\n",
       "    <tr>\n",
       "      <th>10</th>\n",
       "      <td>Abe Yasumi</td>\n",
       "      <td>https://marvelcinematicuniverse.fandom.com/wik...</td>\n",
       "      <td>[]</td>\n",
       "      <td>[]</td>\n",
       "    </tr>\n",
       "    <tr>\n",
       "      <th>11</th>\n",
       "      <td>Abel</td>\n",
       "      <td>https://marvelcinematicuniverse.fandom.com/wik...</td>\n",
       "      <td>[Biography, Confrontation with S.H.I.E.L.D., A...</td>\n",
       "      <td>[]</td>\n",
       "    </tr>\n",
       "    <tr>\n",
       "      <th>12</th>\n",
       "      <td>Abilash Tandon</td>\n",
       "      <td>https://marvelcinematicuniverse.fandom.com/wik...</td>\n",
       "      <td>[Biography, Early Life, Abilash Tandon lived i...</td>\n",
       "      <td>[]</td>\n",
       "    </tr>\n",
       "    <tr>\n",
       "      <th>13</th>\n",
       "      <td>Abilisk</td>\n",
       "      <td>https://marvelcinematicuniverse.fandom.com/wik...</td>\n",
       "      <td>[Biography, Attacking Sovereign, The Abilisk a...</td>\n",
       "      <td>[Guardians of the Galaxy Vol. 2]</td>\n",
       "    </tr>\n",
       "    <tr>\n",
       "      <th>14</th>\n",
       "      <td>Abner Brody</td>\n",
       "      <td>https://marvelcinematicuniverse.fandom.com/wik...</td>\n",
       "      <td>[Biography, Brody was a physicst, who during h...</td>\n",
       "      <td>[]</td>\n",
       "    </tr>\n",
       "    <tr>\n",
       "      <th>15</th>\n",
       "      <td>Abner Croit</td>\n",
       "      <td>https://marvelcinematicuniverse.fandom.com/wik...</td>\n",
       "      <td>[Biography, Croit was experimenting with Darkf...</td>\n",
       "      <td>[]</td>\n",
       "    </tr>\n",
       "    <tr>\n",
       "      <th>16</th>\n",
       "      <td>Abomination</td>\n",
       "      <td>https://marvelcinematicuniverse.fandom.com/wik...</td>\n",
       "      <td>[Biography, Early Life, Military Career, \\n\"I ...</td>\n",
       "      <td>[The Incredible Hulk, Shang-Chi and the Legend...</td>\n",
       "    </tr>\n",
       "    <tr>\n",
       "      <th>17</th>\n",
       "      <td>Abraham Erskine</td>\n",
       "      <td>https://marvelcinematicuniverse.fandom.com/wik...</td>\n",
       "      <td>[Biography, Early Life, Adolf Hitler's Offer, ...</td>\n",
       "      <td>[The Incredible Hulk, Captain America: The Fir...</td>\n",
       "    </tr>\n",
       "    <tr>\n",
       "      <th>18</th>\n",
       "      <td>Abraham Erskine/Super Soldier Peggy Carter</td>\n",
       "      <td>https://marvelcinematicuniverse.fandom.com/wik...</td>\n",
       "      <td>[Biography, \\n\\nThis section needs a rewrite\\n...</td>\n",
       "      <td>[]</td>\n",
       "    </tr>\n",
       "    <tr>\n",
       "      <th>19</th>\n",
       "      <td>Absorbing Man</td>\n",
       "      <td>https://marvelcinematicuniverse.fandom.com/wik...</td>\n",
       "      <td>[Biography, Early Life, Criminal Record, \\n\"He...</td>\n",
       "      <td>[]</td>\n",
       "    </tr>\n",
       "  </tbody>\n",
       "</table>\n",
       "</div>"
      ],
      "text/plain": [
       "                                          Nome  \\\n",
       "0                                       A'Lars   \n",
       "1                                   A. Kennedy   \n",
       "2                             A.I.M. President   \n",
       "3                           Aaron (Apple Inc.)   \n",
       "4                                 Aaron (Baby)   \n",
       "5                                  Aaron James   \n",
       "6                               Aaron Martinez   \n",
       "7                                         Abby   \n",
       "8                                    Abby Rose   \n",
       "9                                    Abe Brown   \n",
       "10                                  Abe Yasumi   \n",
       "11                                        Abel   \n",
       "12                              Abilash Tandon   \n",
       "13                                     Abilisk   \n",
       "14                                 Abner Brody   \n",
       "15                                 Abner Croit   \n",
       "16                                 Abomination   \n",
       "17                             Abraham Erskine   \n",
       "18  Abraham Erskine/Super Soldier Peggy Carter   \n",
       "19                               Absorbing Man   \n",
       "\n",
       "                                                 Link  \\\n",
       "0   https://marvelcinematicuniverse.fandom.com/wik...   \n",
       "1   https://marvelcinematicuniverse.fandom.com/wik...   \n",
       "2   https://marvelcinematicuniverse.fandom.com/wik...   \n",
       "3   https://marvelcinematicuniverse.fandom.com/wik...   \n",
       "4   https://marvelcinematicuniverse.fandom.com/wik...   \n",
       "5   https://marvelcinematicuniverse.fandom.com/wik...   \n",
       "6   https://marvelcinematicuniverse.fandom.com/wik...   \n",
       "7   https://marvelcinematicuniverse.fandom.com/wik...   \n",
       "8   https://marvelcinematicuniverse.fandom.com/wik...   \n",
       "9   https://marvelcinematicuniverse.fandom.com/wik...   \n",
       "10  https://marvelcinematicuniverse.fandom.com/wik...   \n",
       "11  https://marvelcinematicuniverse.fandom.com/wik...   \n",
       "12  https://marvelcinematicuniverse.fandom.com/wik...   \n",
       "13  https://marvelcinematicuniverse.fandom.com/wik...   \n",
       "14  https://marvelcinematicuniverse.fandom.com/wik...   \n",
       "15  https://marvelcinematicuniverse.fandom.com/wik...   \n",
       "16  https://marvelcinematicuniverse.fandom.com/wik...   \n",
       "17  https://marvelcinematicuniverse.fandom.com/wik...   \n",
       "18  https://marvelcinematicuniverse.fandom.com/wik...   \n",
       "19  https://marvelcinematicuniverse.fandom.com/wik...   \n",
       "\n",
       "                                            Biografia  \\\n",
       "0   [Biography, Life on Titan, A'Lars fathered two...   \n",
       "1   [Biography, First Encounter With S.H.I.E.L.D.,...   \n",
       "2   [Biography, Obadiah Stane contacted the A.I.M....   \n",
       "3   [Biography, Apple Inc., Assisting Customers, \\...   \n",
       "4   [Biography, Sophie walked with her son cradled...   \n",
       "5   [Biography, Court Case, With Matt Murdock as h...   \n",
       "6   [Biography, Aaron Martinez was a criminal, sel...   \n",
       "7   [Biography, Terrigenesis, \\n\"When the Mist hit...   \n",
       "8             [Biography, To be added\\n, To be added]   \n",
       "9   [Biography, Decathlon Team, \\n\"Fort Sumter!\"\"F...   \n",
       "10                                                 []   \n",
       "11  [Biography, Confrontation with S.H.I.E.L.D., A...   \n",
       "12  [Biography, Early Life, Abilash Tandon lived i...   \n",
       "13  [Biography, Attacking Sovereign, The Abilisk a...   \n",
       "14  [Biography, Brody was a physicst, who during h...   \n",
       "15  [Biography, Croit was experimenting with Darkf...   \n",
       "16  [Biography, Early Life, Military Career, \\n\"I ...   \n",
       "17  [Biography, Early Life, Adolf Hitler's Offer, ...   \n",
       "18  [Biography, \\n\\nThis section needs a rewrite\\n...   \n",
       "19  [Biography, Early Life, Criminal Record, \\n\"He...   \n",
       "\n",
       "                                                 Film  \n",
       "0                            [Avengers: Infinity War]  \n",
       "1                                                  []  \n",
       "2                                                  []  \n",
       "3               [Captain America: The Winter Soldier]  \n",
       "4                                                  []  \n",
       "5                                                  []  \n",
       "6                                                  []  \n",
       "7                                                  []  \n",
       "8                                                  []  \n",
       "9                            [Spider-Man: Homecoming]  \n",
       "10                                                 []  \n",
       "11                                                 []  \n",
       "12                                                 []  \n",
       "13                   [Guardians of the Galaxy Vol. 2]  \n",
       "14                                                 []  \n",
       "15                                                 []  \n",
       "16  [The Incredible Hulk, Shang-Chi and the Legend...  \n",
       "17  [The Incredible Hulk, Captain America: The Fir...  \n",
       "18                                                 []  \n",
       "19                                                 []  "
      ]
     },
     "execution_count": 38,
     "metadata": {},
     "output_type": "execute_result"
    }
   ],
   "source": [
    "lista_personaggi.head(20)"
   ]
  }
 ],
 "metadata": {
  "interpreter": {
   "hash": "22f5c8559ee5d16991f9240bd2c1a679b03627a0e94304b0bc26d90d3a5752ce"
  },
  "kernelspec": {
   "display_name": "Python 3.9.7 64-bit ('MainEnv': conda)",
   "language": "python",
   "name": "python3"
  },
  "language_info": {
   "codemirror_mode": {
    "name": "ipython",
    "version": 3
   },
   "file_extension": ".py",
   "mimetype": "text/x-python",
   "name": "python",
   "nbconvert_exporter": "python",
   "pygments_lexer": "ipython3",
   "version": "3.9.7"
  },
  "orig_nbformat": 4
 },
 "nbformat": 4,
 "nbformat_minor": 2
}
