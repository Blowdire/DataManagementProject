{
 "cells": [
  {
   "cell_type": "code",
   "execution_count": 1,
   "metadata": {},
   "outputs": [],
   "source": [
    "import pandas as pd\n",
    "from bs4 import BeautifulSoup\n",
    "import requests\n",
    "from tqdm import tqdm"
   ]
  },
  {
   "cell_type": "code",
   "execution_count": 3,
   "metadata": {},
   "outputs": [
    {
     "ename": "KeyboardInterrupt",
     "evalue": "",
     "output_type": "error",
     "traceback": [
      "\u001b[1;31m---------------------------------------------------------------------------\u001b[0m",
      "\u001b[1;31mKeyboardInterrupt\u001b[0m                         Traceback (most recent call last)",
      "\u001b[1;32m~\\AppData\\Local\\Temp/ipykernel_15856/1140041017.py\u001b[0m in \u001b[0;36m<module>\u001b[1;34m\u001b[0m\n\u001b[0;32m      5\u001b[0m \u001b[0mcharacters_link_list\u001b[0m \u001b[1;33m=\u001b[0m \u001b[1;33m[\u001b[0m\u001b[1;33m]\u001b[0m\u001b[1;33m\u001b[0m\u001b[1;33m\u001b[0m\u001b[0m\n\u001b[0;32m      6\u001b[0m \u001b[1;32mwhile\u001b[0m \u001b[0mnext_link\u001b[0m \u001b[1;33m!=\u001b[0m \u001b[1;32mNone\u001b[0m\u001b[1;33m:\u001b[0m\u001b[1;33m\u001b[0m\u001b[1;33m\u001b[0m\u001b[0m\n\u001b[1;32m----> 7\u001b[1;33m     \u001b[0mresponse\u001b[0m \u001b[1;33m=\u001b[0m \u001b[0mrequests\u001b[0m\u001b[1;33m.\u001b[0m\u001b[0mget\u001b[0m\u001b[1;33m(\u001b[0m\u001b[0mnext_link\u001b[0m\u001b[1;33m)\u001b[0m\u001b[1;33m\u001b[0m\u001b[1;33m\u001b[0m\u001b[0m\n\u001b[0m\u001b[0;32m      8\u001b[0m     \u001b[0mhtml_page\u001b[0m \u001b[1;33m=\u001b[0m \u001b[0mresponse\u001b[0m\u001b[1;33m.\u001b[0m\u001b[0mtext\u001b[0m\u001b[1;33m\u001b[0m\u001b[1;33m\u001b[0m\u001b[0m\n\u001b[0;32m      9\u001b[0m     \u001b[0mhtml_tree\u001b[0m \u001b[1;33m=\u001b[0m \u001b[0mBeautifulSoup\u001b[0m\u001b[1;33m(\u001b[0m\u001b[0mhtml_page\u001b[0m\u001b[1;33m)\u001b[0m\u001b[1;33m\u001b[0m\u001b[1;33m\u001b[0m\u001b[0m\n",
      "\u001b[1;32mC:\\Python39\\lib\\site-packages\\requests\\api.py\u001b[0m in \u001b[0;36mget\u001b[1;34m(url, params, **kwargs)\u001b[0m\n\u001b[0;32m     73\u001b[0m     \"\"\"\n\u001b[0;32m     74\u001b[0m \u001b[1;33m\u001b[0m\u001b[0m\n\u001b[1;32m---> 75\u001b[1;33m     \u001b[1;32mreturn\u001b[0m \u001b[0mrequest\u001b[0m\u001b[1;33m(\u001b[0m\u001b[1;34m'get'\u001b[0m\u001b[1;33m,\u001b[0m \u001b[0murl\u001b[0m\u001b[1;33m,\u001b[0m \u001b[0mparams\u001b[0m\u001b[1;33m=\u001b[0m\u001b[0mparams\u001b[0m\u001b[1;33m,\u001b[0m \u001b[1;33m**\u001b[0m\u001b[0mkwargs\u001b[0m\u001b[1;33m)\u001b[0m\u001b[1;33m\u001b[0m\u001b[1;33m\u001b[0m\u001b[0m\n\u001b[0m\u001b[0;32m     76\u001b[0m \u001b[1;33m\u001b[0m\u001b[0m\n\u001b[0;32m     77\u001b[0m \u001b[1;33m\u001b[0m\u001b[0m\n",
      "\u001b[1;32mC:\\Python39\\lib\\site-packages\\requests\\api.py\u001b[0m in \u001b[0;36mrequest\u001b[1;34m(method, url, **kwargs)\u001b[0m\n\u001b[0;32m     59\u001b[0m     \u001b[1;31m# cases, and look like a memory leak in others.\u001b[0m\u001b[1;33m\u001b[0m\u001b[1;33m\u001b[0m\u001b[1;33m\u001b[0m\u001b[0m\n\u001b[0;32m     60\u001b[0m     \u001b[1;32mwith\u001b[0m \u001b[0msessions\u001b[0m\u001b[1;33m.\u001b[0m\u001b[0mSession\u001b[0m\u001b[1;33m(\u001b[0m\u001b[1;33m)\u001b[0m \u001b[1;32mas\u001b[0m \u001b[0msession\u001b[0m\u001b[1;33m:\u001b[0m\u001b[1;33m\u001b[0m\u001b[1;33m\u001b[0m\u001b[0m\n\u001b[1;32m---> 61\u001b[1;33m         \u001b[1;32mreturn\u001b[0m \u001b[0msession\u001b[0m\u001b[1;33m.\u001b[0m\u001b[0mrequest\u001b[0m\u001b[1;33m(\u001b[0m\u001b[0mmethod\u001b[0m\u001b[1;33m=\u001b[0m\u001b[0mmethod\u001b[0m\u001b[1;33m,\u001b[0m \u001b[0murl\u001b[0m\u001b[1;33m=\u001b[0m\u001b[0murl\u001b[0m\u001b[1;33m,\u001b[0m \u001b[1;33m**\u001b[0m\u001b[0mkwargs\u001b[0m\u001b[1;33m)\u001b[0m\u001b[1;33m\u001b[0m\u001b[1;33m\u001b[0m\u001b[0m\n\u001b[0m\u001b[0;32m     62\u001b[0m \u001b[1;33m\u001b[0m\u001b[0m\n\u001b[0;32m     63\u001b[0m \u001b[1;33m\u001b[0m\u001b[0m\n",
      "\u001b[1;32mC:\\Python39\\lib\\site-packages\\requests\\sessions.py\u001b[0m in \u001b[0;36mrequest\u001b[1;34m(self, method, url, params, data, headers, cookies, files, auth, timeout, allow_redirects, proxies, hooks, stream, verify, cert, json)\u001b[0m\n\u001b[0;32m    540\u001b[0m         }\n\u001b[0;32m    541\u001b[0m         \u001b[0msend_kwargs\u001b[0m\u001b[1;33m.\u001b[0m\u001b[0mupdate\u001b[0m\u001b[1;33m(\u001b[0m\u001b[0msettings\u001b[0m\u001b[1;33m)\u001b[0m\u001b[1;33m\u001b[0m\u001b[1;33m\u001b[0m\u001b[0m\n\u001b[1;32m--> 542\u001b[1;33m         \u001b[0mresp\u001b[0m \u001b[1;33m=\u001b[0m \u001b[0mself\u001b[0m\u001b[1;33m.\u001b[0m\u001b[0msend\u001b[0m\u001b[1;33m(\u001b[0m\u001b[0mprep\u001b[0m\u001b[1;33m,\u001b[0m \u001b[1;33m**\u001b[0m\u001b[0msend_kwargs\u001b[0m\u001b[1;33m)\u001b[0m\u001b[1;33m\u001b[0m\u001b[1;33m\u001b[0m\u001b[0m\n\u001b[0m\u001b[0;32m    543\u001b[0m \u001b[1;33m\u001b[0m\u001b[0m\n\u001b[0;32m    544\u001b[0m         \u001b[1;32mreturn\u001b[0m \u001b[0mresp\u001b[0m\u001b[1;33m\u001b[0m\u001b[1;33m\u001b[0m\u001b[0m\n",
      "\u001b[1;32mC:\\Python39\\lib\\site-packages\\requests\\sessions.py\u001b[0m in \u001b[0;36msend\u001b[1;34m(self, request, **kwargs)\u001b[0m\n\u001b[0;32m    653\u001b[0m \u001b[1;33m\u001b[0m\u001b[0m\n\u001b[0;32m    654\u001b[0m         \u001b[1;31m# Send the request\u001b[0m\u001b[1;33m\u001b[0m\u001b[1;33m\u001b[0m\u001b[1;33m\u001b[0m\u001b[0m\n\u001b[1;32m--> 655\u001b[1;33m         \u001b[0mr\u001b[0m \u001b[1;33m=\u001b[0m \u001b[0madapter\u001b[0m\u001b[1;33m.\u001b[0m\u001b[0msend\u001b[0m\u001b[1;33m(\u001b[0m\u001b[0mrequest\u001b[0m\u001b[1;33m,\u001b[0m \u001b[1;33m**\u001b[0m\u001b[0mkwargs\u001b[0m\u001b[1;33m)\u001b[0m\u001b[1;33m\u001b[0m\u001b[1;33m\u001b[0m\u001b[0m\n\u001b[0m\u001b[0;32m    656\u001b[0m \u001b[1;33m\u001b[0m\u001b[0m\n\u001b[0;32m    657\u001b[0m         \u001b[1;31m# Total elapsed time of the request (approximately)\u001b[0m\u001b[1;33m\u001b[0m\u001b[1;33m\u001b[0m\u001b[1;33m\u001b[0m\u001b[0m\n",
      "\u001b[1;32mC:\\Python39\\lib\\site-packages\\requests\\adapters.py\u001b[0m in \u001b[0;36msend\u001b[1;34m(self, request, stream, timeout, verify, cert, proxies)\u001b[0m\n\u001b[0;32m    437\u001b[0m         \u001b[1;32mtry\u001b[0m\u001b[1;33m:\u001b[0m\u001b[1;33m\u001b[0m\u001b[1;33m\u001b[0m\u001b[0m\n\u001b[0;32m    438\u001b[0m             \u001b[1;32mif\u001b[0m \u001b[1;32mnot\u001b[0m \u001b[0mchunked\u001b[0m\u001b[1;33m:\u001b[0m\u001b[1;33m\u001b[0m\u001b[1;33m\u001b[0m\u001b[0m\n\u001b[1;32m--> 439\u001b[1;33m                 resp = conn.urlopen(\n\u001b[0m\u001b[0;32m    440\u001b[0m                     \u001b[0mmethod\u001b[0m\u001b[1;33m=\u001b[0m\u001b[0mrequest\u001b[0m\u001b[1;33m.\u001b[0m\u001b[0mmethod\u001b[0m\u001b[1;33m,\u001b[0m\u001b[1;33m\u001b[0m\u001b[1;33m\u001b[0m\u001b[0m\n\u001b[0;32m    441\u001b[0m                     \u001b[0murl\u001b[0m\u001b[1;33m=\u001b[0m\u001b[0murl\u001b[0m\u001b[1;33m,\u001b[0m\u001b[1;33m\u001b[0m\u001b[1;33m\u001b[0m\u001b[0m\n",
      "\u001b[1;32mC:\\Python39\\lib\\site-packages\\urllib3\\connectionpool.py\u001b[0m in \u001b[0;36murlopen\u001b[1;34m(self, method, url, body, headers, retries, redirect, assert_same_host, timeout, pool_timeout, release_conn, chunked, body_pos, **response_kw)\u001b[0m\n\u001b[0;32m    697\u001b[0m \u001b[1;33m\u001b[0m\u001b[0m\n\u001b[0;32m    698\u001b[0m             \u001b[1;31m# Make the request on the httplib connection object.\u001b[0m\u001b[1;33m\u001b[0m\u001b[1;33m\u001b[0m\u001b[1;33m\u001b[0m\u001b[0m\n\u001b[1;32m--> 699\u001b[1;33m             httplib_response = self._make_request(\n\u001b[0m\u001b[0;32m    700\u001b[0m                 \u001b[0mconn\u001b[0m\u001b[1;33m,\u001b[0m\u001b[1;33m\u001b[0m\u001b[1;33m\u001b[0m\u001b[0m\n\u001b[0;32m    701\u001b[0m                 \u001b[0mmethod\u001b[0m\u001b[1;33m,\u001b[0m\u001b[1;33m\u001b[0m\u001b[1;33m\u001b[0m\u001b[0m\n",
      "\u001b[1;32mC:\\Python39\\lib\\site-packages\\urllib3\\connectionpool.py\u001b[0m in \u001b[0;36m_make_request\u001b[1;34m(self, conn, method, url, timeout, chunked, **httplib_request_kw)\u001b[0m\n\u001b[0;32m    443\u001b[0m                     \u001b[1;31m# Python 3 (including for exceptions like SystemExit).\u001b[0m\u001b[1;33m\u001b[0m\u001b[1;33m\u001b[0m\u001b[1;33m\u001b[0m\u001b[0m\n\u001b[0;32m    444\u001b[0m                     \u001b[1;31m# Otherwise it looks like a bug in the code.\u001b[0m\u001b[1;33m\u001b[0m\u001b[1;33m\u001b[0m\u001b[1;33m\u001b[0m\u001b[0m\n\u001b[1;32m--> 445\u001b[1;33m                     \u001b[0msix\u001b[0m\u001b[1;33m.\u001b[0m\u001b[0mraise_from\u001b[0m\u001b[1;33m(\u001b[0m\u001b[0me\u001b[0m\u001b[1;33m,\u001b[0m \u001b[1;32mNone\u001b[0m\u001b[1;33m)\u001b[0m\u001b[1;33m\u001b[0m\u001b[1;33m\u001b[0m\u001b[0m\n\u001b[0m\u001b[0;32m    446\u001b[0m         \u001b[1;32mexcept\u001b[0m \u001b[1;33m(\u001b[0m\u001b[0mSocketTimeout\u001b[0m\u001b[1;33m,\u001b[0m \u001b[0mBaseSSLError\u001b[0m\u001b[1;33m,\u001b[0m \u001b[0mSocketError\u001b[0m\u001b[1;33m)\u001b[0m \u001b[1;32mas\u001b[0m \u001b[0me\u001b[0m\u001b[1;33m:\u001b[0m\u001b[1;33m\u001b[0m\u001b[1;33m\u001b[0m\u001b[0m\n\u001b[0;32m    447\u001b[0m             \u001b[0mself\u001b[0m\u001b[1;33m.\u001b[0m\u001b[0m_raise_timeout\u001b[0m\u001b[1;33m(\u001b[0m\u001b[0merr\u001b[0m\u001b[1;33m=\u001b[0m\u001b[0me\u001b[0m\u001b[1;33m,\u001b[0m \u001b[0murl\u001b[0m\u001b[1;33m=\u001b[0m\u001b[0murl\u001b[0m\u001b[1;33m,\u001b[0m \u001b[0mtimeout_value\u001b[0m\u001b[1;33m=\u001b[0m\u001b[0mread_timeout\u001b[0m\u001b[1;33m)\u001b[0m\u001b[1;33m\u001b[0m\u001b[1;33m\u001b[0m\u001b[0m\n",
      "\u001b[1;32mC:\\Python39\\lib\\site-packages\\urllib3\\packages\\six.py\u001b[0m in \u001b[0;36mraise_from\u001b[1;34m(value, from_value)\u001b[0m\n",
      "\u001b[1;32mC:\\Python39\\lib\\site-packages\\urllib3\\connectionpool.py\u001b[0m in \u001b[0;36m_make_request\u001b[1;34m(self, conn, method, url, timeout, chunked, **httplib_request_kw)\u001b[0m\n\u001b[0;32m    438\u001b[0m                 \u001b[1;31m# Python 3\u001b[0m\u001b[1;33m\u001b[0m\u001b[1;33m\u001b[0m\u001b[1;33m\u001b[0m\u001b[0m\n\u001b[0;32m    439\u001b[0m                 \u001b[1;32mtry\u001b[0m\u001b[1;33m:\u001b[0m\u001b[1;33m\u001b[0m\u001b[1;33m\u001b[0m\u001b[0m\n\u001b[1;32m--> 440\u001b[1;33m                     \u001b[0mhttplib_response\u001b[0m \u001b[1;33m=\u001b[0m \u001b[0mconn\u001b[0m\u001b[1;33m.\u001b[0m\u001b[0mgetresponse\u001b[0m\u001b[1;33m(\u001b[0m\u001b[1;33m)\u001b[0m\u001b[1;33m\u001b[0m\u001b[1;33m\u001b[0m\u001b[0m\n\u001b[0m\u001b[0;32m    441\u001b[0m                 \u001b[1;32mexcept\u001b[0m \u001b[0mBaseException\u001b[0m \u001b[1;32mas\u001b[0m \u001b[0me\u001b[0m\u001b[1;33m:\u001b[0m\u001b[1;33m\u001b[0m\u001b[1;33m\u001b[0m\u001b[0m\n\u001b[0;32m    442\u001b[0m                     \u001b[1;31m# Remove the TypeError from the exception chain in\u001b[0m\u001b[1;33m\u001b[0m\u001b[1;33m\u001b[0m\u001b[1;33m\u001b[0m\u001b[0m\n",
      "\u001b[1;32mC:\\Python39\\lib\\http\\client.py\u001b[0m in \u001b[0;36mgetresponse\u001b[1;34m(self)\u001b[0m\n\u001b[0;32m   1345\u001b[0m         \u001b[1;32mtry\u001b[0m\u001b[1;33m:\u001b[0m\u001b[1;33m\u001b[0m\u001b[1;33m\u001b[0m\u001b[0m\n\u001b[0;32m   1346\u001b[0m             \u001b[1;32mtry\u001b[0m\u001b[1;33m:\u001b[0m\u001b[1;33m\u001b[0m\u001b[1;33m\u001b[0m\u001b[0m\n\u001b[1;32m-> 1347\u001b[1;33m                 \u001b[0mresponse\u001b[0m\u001b[1;33m.\u001b[0m\u001b[0mbegin\u001b[0m\u001b[1;33m(\u001b[0m\u001b[1;33m)\u001b[0m\u001b[1;33m\u001b[0m\u001b[1;33m\u001b[0m\u001b[0m\n\u001b[0m\u001b[0;32m   1348\u001b[0m             \u001b[1;32mexcept\u001b[0m \u001b[0mConnectionError\u001b[0m\u001b[1;33m:\u001b[0m\u001b[1;33m\u001b[0m\u001b[1;33m\u001b[0m\u001b[0m\n\u001b[0;32m   1349\u001b[0m                 \u001b[0mself\u001b[0m\u001b[1;33m.\u001b[0m\u001b[0mclose\u001b[0m\u001b[1;33m(\u001b[0m\u001b[1;33m)\u001b[0m\u001b[1;33m\u001b[0m\u001b[1;33m\u001b[0m\u001b[0m\n",
      "\u001b[1;32mC:\\Python39\\lib\\http\\client.py\u001b[0m in \u001b[0;36mbegin\u001b[1;34m(self)\u001b[0m\n\u001b[0;32m    305\u001b[0m         \u001b[1;31m# read until we get a non-100 response\u001b[0m\u001b[1;33m\u001b[0m\u001b[1;33m\u001b[0m\u001b[1;33m\u001b[0m\u001b[0m\n\u001b[0;32m    306\u001b[0m         \u001b[1;32mwhile\u001b[0m \u001b[1;32mTrue\u001b[0m\u001b[1;33m:\u001b[0m\u001b[1;33m\u001b[0m\u001b[1;33m\u001b[0m\u001b[0m\n\u001b[1;32m--> 307\u001b[1;33m             \u001b[0mversion\u001b[0m\u001b[1;33m,\u001b[0m \u001b[0mstatus\u001b[0m\u001b[1;33m,\u001b[0m \u001b[0mreason\u001b[0m \u001b[1;33m=\u001b[0m \u001b[0mself\u001b[0m\u001b[1;33m.\u001b[0m\u001b[0m_read_status\u001b[0m\u001b[1;33m(\u001b[0m\u001b[1;33m)\u001b[0m\u001b[1;33m\u001b[0m\u001b[1;33m\u001b[0m\u001b[0m\n\u001b[0m\u001b[0;32m    308\u001b[0m             \u001b[1;32mif\u001b[0m \u001b[0mstatus\u001b[0m \u001b[1;33m!=\u001b[0m \u001b[0mCONTINUE\u001b[0m\u001b[1;33m:\u001b[0m\u001b[1;33m\u001b[0m\u001b[1;33m\u001b[0m\u001b[0m\n\u001b[0;32m    309\u001b[0m                 \u001b[1;32mbreak\u001b[0m\u001b[1;33m\u001b[0m\u001b[1;33m\u001b[0m\u001b[0m\n",
      "\u001b[1;32mC:\\Python39\\lib\\http\\client.py\u001b[0m in \u001b[0;36m_read_status\u001b[1;34m(self)\u001b[0m\n\u001b[0;32m    266\u001b[0m \u001b[1;33m\u001b[0m\u001b[0m\n\u001b[0;32m    267\u001b[0m     \u001b[1;32mdef\u001b[0m \u001b[0m_read_status\u001b[0m\u001b[1;33m(\u001b[0m\u001b[0mself\u001b[0m\u001b[1;33m)\u001b[0m\u001b[1;33m:\u001b[0m\u001b[1;33m\u001b[0m\u001b[1;33m\u001b[0m\u001b[0m\n\u001b[1;32m--> 268\u001b[1;33m         \u001b[0mline\u001b[0m \u001b[1;33m=\u001b[0m \u001b[0mstr\u001b[0m\u001b[1;33m(\u001b[0m\u001b[0mself\u001b[0m\u001b[1;33m.\u001b[0m\u001b[0mfp\u001b[0m\u001b[1;33m.\u001b[0m\u001b[0mreadline\u001b[0m\u001b[1;33m(\u001b[0m\u001b[0m_MAXLINE\u001b[0m \u001b[1;33m+\u001b[0m \u001b[1;36m1\u001b[0m\u001b[1;33m)\u001b[0m\u001b[1;33m,\u001b[0m \u001b[1;34m\"iso-8859-1\"\u001b[0m\u001b[1;33m)\u001b[0m\u001b[1;33m\u001b[0m\u001b[1;33m\u001b[0m\u001b[0m\n\u001b[0m\u001b[0;32m    269\u001b[0m         \u001b[1;32mif\u001b[0m \u001b[0mlen\u001b[0m\u001b[1;33m(\u001b[0m\u001b[0mline\u001b[0m\u001b[1;33m)\u001b[0m \u001b[1;33m>\u001b[0m \u001b[0m_MAXLINE\u001b[0m\u001b[1;33m:\u001b[0m\u001b[1;33m\u001b[0m\u001b[1;33m\u001b[0m\u001b[0m\n\u001b[0;32m    270\u001b[0m             \u001b[1;32mraise\u001b[0m \u001b[0mLineTooLong\u001b[0m\u001b[1;33m(\u001b[0m\u001b[1;34m\"status line\"\u001b[0m\u001b[1;33m)\u001b[0m\u001b[1;33m\u001b[0m\u001b[1;33m\u001b[0m\u001b[0m\n",
      "\u001b[1;32mC:\\Python39\\lib\\socket.py\u001b[0m in \u001b[0;36mreadinto\u001b[1;34m(self, b)\u001b[0m\n\u001b[0;32m    702\u001b[0m         \u001b[1;32mwhile\u001b[0m \u001b[1;32mTrue\u001b[0m\u001b[1;33m:\u001b[0m\u001b[1;33m\u001b[0m\u001b[1;33m\u001b[0m\u001b[0m\n\u001b[0;32m    703\u001b[0m             \u001b[1;32mtry\u001b[0m\u001b[1;33m:\u001b[0m\u001b[1;33m\u001b[0m\u001b[1;33m\u001b[0m\u001b[0m\n\u001b[1;32m--> 704\u001b[1;33m                 \u001b[1;32mreturn\u001b[0m \u001b[0mself\u001b[0m\u001b[1;33m.\u001b[0m\u001b[0m_sock\u001b[0m\u001b[1;33m.\u001b[0m\u001b[0mrecv_into\u001b[0m\u001b[1;33m(\u001b[0m\u001b[0mb\u001b[0m\u001b[1;33m)\u001b[0m\u001b[1;33m\u001b[0m\u001b[1;33m\u001b[0m\u001b[0m\n\u001b[0m\u001b[0;32m    705\u001b[0m             \u001b[1;32mexcept\u001b[0m \u001b[0mtimeout\u001b[0m\u001b[1;33m:\u001b[0m\u001b[1;33m\u001b[0m\u001b[1;33m\u001b[0m\u001b[0m\n\u001b[0;32m    706\u001b[0m                 \u001b[0mself\u001b[0m\u001b[1;33m.\u001b[0m\u001b[0m_timeout_occurred\u001b[0m \u001b[1;33m=\u001b[0m \u001b[1;32mTrue\u001b[0m\u001b[1;33m\u001b[0m\u001b[1;33m\u001b[0m\u001b[0m\n",
      "\u001b[1;32mC:\\Python39\\lib\\ssl.py\u001b[0m in \u001b[0;36mrecv_into\u001b[1;34m(self, buffer, nbytes, flags)\u001b[0m\n\u001b[0;32m   1239\u001b[0m                   \u001b[1;34m\"non-zero flags not allowed in calls to recv_into() on %s\"\u001b[0m \u001b[1;33m%\u001b[0m\u001b[1;33m\u001b[0m\u001b[1;33m\u001b[0m\u001b[0m\n\u001b[0;32m   1240\u001b[0m                   self.__class__)\n\u001b[1;32m-> 1241\u001b[1;33m             \u001b[1;32mreturn\u001b[0m \u001b[0mself\u001b[0m\u001b[1;33m.\u001b[0m\u001b[0mread\u001b[0m\u001b[1;33m(\u001b[0m\u001b[0mnbytes\u001b[0m\u001b[1;33m,\u001b[0m \u001b[0mbuffer\u001b[0m\u001b[1;33m)\u001b[0m\u001b[1;33m\u001b[0m\u001b[1;33m\u001b[0m\u001b[0m\n\u001b[0m\u001b[0;32m   1242\u001b[0m         \u001b[1;32melse\u001b[0m\u001b[1;33m:\u001b[0m\u001b[1;33m\u001b[0m\u001b[1;33m\u001b[0m\u001b[0m\n\u001b[0;32m   1243\u001b[0m             \u001b[1;32mreturn\u001b[0m \u001b[0msuper\u001b[0m\u001b[1;33m(\u001b[0m\u001b[1;33m)\u001b[0m\u001b[1;33m.\u001b[0m\u001b[0mrecv_into\u001b[0m\u001b[1;33m(\u001b[0m\u001b[0mbuffer\u001b[0m\u001b[1;33m,\u001b[0m \u001b[0mnbytes\u001b[0m\u001b[1;33m,\u001b[0m \u001b[0mflags\u001b[0m\u001b[1;33m)\u001b[0m\u001b[1;33m\u001b[0m\u001b[1;33m\u001b[0m\u001b[0m\n",
      "\u001b[1;32mC:\\Python39\\lib\\ssl.py\u001b[0m in \u001b[0;36mread\u001b[1;34m(self, len, buffer)\u001b[0m\n\u001b[0;32m   1097\u001b[0m         \u001b[1;32mtry\u001b[0m\u001b[1;33m:\u001b[0m\u001b[1;33m\u001b[0m\u001b[1;33m\u001b[0m\u001b[0m\n\u001b[0;32m   1098\u001b[0m             \u001b[1;32mif\u001b[0m \u001b[0mbuffer\u001b[0m \u001b[1;32mis\u001b[0m \u001b[1;32mnot\u001b[0m \u001b[1;32mNone\u001b[0m\u001b[1;33m:\u001b[0m\u001b[1;33m\u001b[0m\u001b[1;33m\u001b[0m\u001b[0m\n\u001b[1;32m-> 1099\u001b[1;33m                 \u001b[1;32mreturn\u001b[0m \u001b[0mself\u001b[0m\u001b[1;33m.\u001b[0m\u001b[0m_sslobj\u001b[0m\u001b[1;33m.\u001b[0m\u001b[0mread\u001b[0m\u001b[1;33m(\u001b[0m\u001b[0mlen\u001b[0m\u001b[1;33m,\u001b[0m \u001b[0mbuffer\u001b[0m\u001b[1;33m)\u001b[0m\u001b[1;33m\u001b[0m\u001b[1;33m\u001b[0m\u001b[0m\n\u001b[0m\u001b[0;32m   1100\u001b[0m             \u001b[1;32melse\u001b[0m\u001b[1;33m:\u001b[0m\u001b[1;33m\u001b[0m\u001b[1;33m\u001b[0m\u001b[0m\n\u001b[0;32m   1101\u001b[0m                 \u001b[1;32mreturn\u001b[0m \u001b[0mself\u001b[0m\u001b[1;33m.\u001b[0m\u001b[0m_sslobj\u001b[0m\u001b[1;33m.\u001b[0m\u001b[0mread\u001b[0m\u001b[1;33m(\u001b[0m\u001b[0mlen\u001b[0m\u001b[1;33m)\u001b[0m\u001b[1;33m\u001b[0m\u001b[1;33m\u001b[0m\u001b[0m\n",
      "\u001b[1;31mKeyboardInterrupt\u001b[0m: "
     ]
    }
   ],
   "source": [
    "# main page with letters\n",
    "\n",
    "next_link = \"https://marvelcinematicuniverse.fandom.com/wiki/Category:Characters\"\n",
    "\n",
    "characters_link_list = []\n",
    "while next_link != None:\n",
    "    response = requests.get(next_link)\n",
    "    html_page = response.text\n",
    "    html_tree = BeautifulSoup(html_page)\n",
    "    results = html_tree.find_all(\"a\", class_=\"category-page__member-link\")\n",
    "    next_link = html_tree.find(\n",
    "        \"a\", class_=\"category-page__pagination-next wds-button wds-is-secondary\")\n",
    "    next_link = next_link[\"href\"] if next_link != None else None\n",
    "\n",
    "    for result in results:\n",
    "        characters_link_list.append(\n",
    "            [result.text, \"https://marvelcinematicuniverse.fandom.com\"+result[\"href\"]])\n"
   ]
  },
  {
   "cell_type": "code",
   "execution_count": 26,
   "metadata": {},
   "outputs": [],
   "source": [
    "lista_personaggi = pd.DataFrame(characters_link_list, columns=[\"Nome\", \"Link\"])"
   ]
  },
  {
   "cell_type": "code",
   "execution_count": 27,
   "metadata": {},
   "outputs": [
    {
     "data": {
      "text/html": [
       "<div>\n",
       "<style scoped>\n",
       "    .dataframe tbody tr th:only-of-type {\n",
       "        vertical-align: middle;\n",
       "    }\n",
       "\n",
       "    .dataframe tbody tr th {\n",
       "        vertical-align: top;\n",
       "    }\n",
       "\n",
       "    .dataframe thead th {\n",
       "        text-align: right;\n",
       "    }\n",
       "</style>\n",
       "<table border=\"1\" class=\"dataframe\">\n",
       "  <thead>\n",
       "    <tr style=\"text-align: right;\">\n",
       "      <th></th>\n",
       "      <th>Nome</th>\n",
       "      <th>Link</th>\n",
       "    </tr>\n",
       "  </thead>\n",
       "  <tbody>\n",
       "    <tr>\n",
       "      <th>0</th>\n",
       "      <td>A'Lars</td>\n",
       "      <td>https://marvelcinematicuniverse.fandom.com/wik...</td>\n",
       "    </tr>\n",
       "    <tr>\n",
       "      <th>1</th>\n",
       "      <td>A. Kennedy</td>\n",
       "      <td>https://marvelcinematicuniverse.fandom.com/wik...</td>\n",
       "    </tr>\n",
       "    <tr>\n",
       "      <th>2</th>\n",
       "      <td>A.I.M. President</td>\n",
       "      <td>https://marvelcinematicuniverse.fandom.com/wik...</td>\n",
       "    </tr>\n",
       "    <tr>\n",
       "      <th>3</th>\n",
       "      <td>Aaron (Apple Inc.)</td>\n",
       "      <td>https://marvelcinematicuniverse.fandom.com/wik...</td>\n",
       "    </tr>\n",
       "    <tr>\n",
       "      <th>4</th>\n",
       "      <td>Aaron (Baby)</td>\n",
       "      <td>https://marvelcinematicuniverse.fandom.com/wik...</td>\n",
       "    </tr>\n",
       "  </tbody>\n",
       "</table>\n",
       "</div>"
      ],
      "text/plain": [
       "                 Nome                                               Link\n",
       "0              A'Lars  https://marvelcinematicuniverse.fandom.com/wik...\n",
       "1          A. Kennedy  https://marvelcinematicuniverse.fandom.com/wik...\n",
       "2    A.I.M. President  https://marvelcinematicuniverse.fandom.com/wik...\n",
       "3  Aaron (Apple Inc.)  https://marvelcinematicuniverse.fandom.com/wik...\n",
       "4        Aaron (Baby)  https://marvelcinematicuniverse.fandom.com/wik..."
      ]
     },
     "execution_count": 27,
     "metadata": {},
     "output_type": "execute_result"
    }
   ],
   "source": [
    "lista_personaggi.head()"
   ]
  },
  {
   "cell_type": "code",
   "execution_count": 28,
   "metadata": {},
   "outputs": [
    {
     "data": {
      "text/plain": [
       "(3749, 2)"
      ]
     },
     "execution_count": 28,
     "metadata": {},
     "output_type": "execute_result"
    }
   ],
   "source": [
    "lista_personaggi.shape"
   ]
  },
  {
   "cell_type": "code",
   "execution_count": 29,
   "metadata": {},
   "outputs": [],
   "source": [
    "def cerca_bio(page_tree):\n",
    "    biography_list = []\n",
    "    biography_initial = page_tree.find_all(id=\"Biography\")\n",
    "    description_ended = False\n",
    "    if(biography_initial):\n",
    "        next_span = biography_initial[0].parent.find_next()\n",
    "\n",
    "        while not description_ended:\n",
    "            if next_span.name != \"a\" and next_span.name != \"sup\":\n",
    "                biography_list.append(next_span.text)\n",
    "\n",
    "            next_span = next_span.find_next()\n",
    "            if next_span.name == \"h2\":\n",
    "                description_ended = True\n",
    "            biography_list = list(dict.fromkeys(biography_list))\n",
    "            lista_personaggi.at[idx, \"Biografia\"] = biography_list\n",
    "    return biography_list"
   ]
  },
  {
   "cell_type": "code",
   "execution_count": null,
   "metadata": {},
   "outputs": [],
   "source": [
    "def cerca_serie(page_tree):\n",
    "    movies_list = []\n",
    "    tag_lista_film = None\n",
    "    movies_initial = page_tree.find_all(\"div\", class_=\"pi-item pi-data pi-item-spacing pi-border-color\")\n",
    "    for element in movies_initial:\n",
    "        if element[\"data-source\"] == \"tv series\":\n",
    "            tag_lista_film = element\n",
    "\n",
    "    if tag_lista_film != None:\n",
    "        links = tag_lista_film.find_all(\"i\")\n",
    "        for link in links:\n",
    "            movies_list.append([link.text, link[\"href\"]])\n",
    "    return movies_list"
   ]
  },
  {
   "cell_type": "code",
   "execution_count": 34,
   "metadata": {},
   "outputs": [],
   "source": [
    "def cerca_film(page_tree):\n",
    "    movies_list = []\n",
    "    tag_lista_film = None\n",
    "    movies_initial = page_tree.find_all(\"div\", class_=\"pi-item pi-data pi-item-spacing pi-border-color\")\n",
    "    for element in movies_initial:\n",
    "        if element[\"data-source\"] == \"movie\":\n",
    "            tag_lista_film = element\n",
    "    \n",
    "    if tag_lista_film != None:\n",
    "        links = tag_lista_film.find_all(\"i\")\n",
    "        for link in links:\n",
    "            movies_list.append([link.text, link[\"href\"]])\n",
    "    return movies_list"
   ]
  },
  {
   "cell_type": "code",
   "execution_count": 35,
   "metadata": {},
   "outputs": [],
   "source": [
    "def cerca_relazione_recursive(list_item):\n",
    "  if not list_item:\n",
    "    return []\n",
    "  next_items = list_item.find_all(\"li\")\n",
    "  if not next_items:\n",
    "    return [list_item.text.split(\" - \",1)]\n",
    "  else:\n",
    "    recursive_list = []\n",
    "    for item in next_items:\n",
    "      recursive_list += cerca_relazione_recursive(item)\n",
    "    return recursive_list\n",
    "\n"
   ]
  },
  {
   "cell_type": "code",
   "execution_count": 36,
   "metadata": {},
   "outputs": [
    {
     "name": "stdout",
     "output_type": "stream",
     "text": [
      "[['Grandfather †'], ['Grandmother †'], ['Howard Stark †'], ['Howard Stark', 'Alternate Father'], ['Maria Stark †', 'Mother'], ['Mother-in-Law'], ['Morgan', 'Uncle-in-Law'], ['Pepper Potts', 'Wife'], ['Morgan Stark', 'Daughter'], ['Gerald Ford †'], ['Ronald Reagan †'], ['George H. W. Bush †'], ['Bill Clinton'], ['Edwin Jarvis †', 'Former Butler and Friend'], ['Happy Hogan', 'Close Friend and Former Bodyguard'], ['Bambi Arbogast', 'Employee'], ['Samantha Carlisle', 'Employee'], ['Trixie', 'Employee'], ['Jesse', 'Employee'], ['Abby Rose', 'Former Date'], ['Abby Rose', 'Former Date'], ['Edwin Jarvis †', 'Former Butler and Friend'], ['Happy Hogan', 'Close Friend and Former Bodyguard'], ['Bambi Arbogast', 'Employee'], ['Samantha Carlisle', 'Employee'], ['Trixie', 'Employee'], ['Jesse', 'Employee'], ['Abby Rose', 'Former Date'], ['Abby Rose', 'Former Date'], ['Maya Hansen †', 'One-Night Stand'], ['Ho Yinsen †', 'Friend and Savior'], ['Wu'], ['J.A.R.V.I.S.', 'Creation and Former Assistant'], ['Christine Everhart', 'One-Night Stand'], ['Eloise', 'Temporary Date'], ['Celeste'], ['Saul'], ['William Gabriel'], ['Sullivian'], ['Jimmy †'], ['Pratt †'], ['Ramirez †'], ['Ronald Coultrap'], ['Ralph Mays'], ['Scott Campbell', 'Former Enemy'], ['William Gabriel'], ['Sullivian'], ['Jimmy †'], ['Pratt †'], ['Ramirez †'], ['Ronald Coultrap'], ['Ralph Mays'], ['Scott Campbell', 'Former Enemy'], ['Watcher Informant'], ['Hugh Hefner'], ['Nate', 'Fan'], ['Corinna Vilon', 'One-Night Stand'], ['Michael Gorani'], ['Evetta Gorani'], ['Michael Gorani'], ['Evetta Gorani'], ['Bundespolizei'], ['Larry Ellison'], ['Larry Ellison'], ['U.S. Marshal'], ['Larson'], ['Elkin'], ['Busard'], ['Gibson'], ['Clements'], ['Goodwin'], ['Carlino'], ['Beckman'], ['Larson'], ['Elkin'], ['Busard'], ['Gibson'], ['Clements'], ['Goodwin'], ['Carlino'], ['Beckman'], ['Larson'], ['Elkin'], ['Busard'], ['Gibson'], ['Clements'], ['Goodwin'], ['Carlino'], ['Beckman'], ['Larson'], ['Elkin'], ['Busard'], ['Gibson'], ['Clements'], ['Goodwin'], ['Carlino'], ['Beckman'], ['Elon Musk'], ['Lemieux'], ['Adam Goldstein'], ['Rebecca'], ['Rebeca'], ['Mike Charles'], ['Phil Coulson †', 'Friend'], ['Garrett'], ['Galaga Guy'], ['Phil Coulson †', 'Friend'], ['Garrett'], ['Galaga Guy'], ['Nick Fury'], ['Maria Hill', 'Former Employee'], ['Cameron Klein'], ['Nick Fury'], ['Maria Hill', 'Former Employee'], ['Cameron Klein'], ['Steve Rogers/Captain America', 'Close Friend, Former Leader and Temporary Enemy'], ['Natasha Romanoff/Black Widow †', 'Former Assistant and Temporary Enemy'], ['Bruce Banner/Hulk', 'Close Friend and Temporary Enemy'], ['Thor', 'Temporary Enemy'], ['Clint Barton/Hawkeye', 'Temporary Enemy'], ['Wanda Maximoff/Scarlet Witch', 'Former Enthraller'], ['Pietro Maximoff/Quicksilver †', 'Former Enemy'], ['Vision †', 'Creation'], ['James Rhodes/War Machine', 'Best Friend and Temporary Enemy'], ['Sam Wilson/Falcon', 'Temporary Enemy'], ['Peter Parker/Spider-Man', 'Protégé and Savior'], ['Scott Lang/Ant-Man', 'Temporary Enemy'], ['Carol Danvers/Captain Marvel', 'Savior'], ['Steve Rogers/Captain America', 'Close Friend, Former Leader and Temporary Enemy'], ['Natasha Romanoff/Black Widow †', 'Former Assistant and Temporary Enemy'], ['Bruce Banner/Hulk', 'Close Friend and Temporary Enemy'], ['Thor', 'Temporary Enemy'], ['Clint Barton/Hawkeye', 'Temporary Enemy'], ['Wanda Maximoff/Scarlet Witch', 'Former Enthraller'], ['Pietro Maximoff/Quicksilver †', 'Former Enemy'], ['Vision †', 'Creation'], ['James Rhodes/War Machine', 'Best Friend and Temporary Enemy'], ['Sam Wilson/Falcon', 'Temporary Enemy'], ['Peter Parker/Spider-Man', 'Protégé and Savior'], ['Scott Lang/Ant-Man', 'Temporary Enemy'], ['Carol Danvers/Captain Marvel', 'Savior'], ['Erik Selvig'], ['Anne Marie Hoag'], ['Anne Marie Hoag'], ['Harley Keener', 'Friend'], ['Gary'], ['Mrs. Davis'], ['Matthew Ellis'], ['Helen Cho'], ['Laura Barton', 'Hostess'], ['Cooper Barton'], ['Lila Barton'], ['F.R.I.D.A.Y.', 'Creation and Assistant'], ['Karen', 'Creation'], ['Thaddeus Ross'], ['Everett Ross'], ['Joint Counter Terrorist Centre'], ['Everett Ross'], ['Joint Counter Terrorist Centre'], ['Sharon Carter'], [\"T'Challa/Black Panther\"], ['Shuri'], [\"T'Challa/Black Panther\"], ['Shuri'], ['May Parker †', 'Hostess'], ['FBI'], ['Stephen Strange/Doctor Strange', 'Former Rival and Savior'], ['Wong', 'Savior'], ['Stephen Strange/Doctor Strange', 'Former Rival and Savior'], ['Wong', 'Savior'], ['Peter Quill/Star-Lord', 'Temporary Enemy'], ['Drax the Destroyer', 'Temporary Attempted Victim'], ['Mantis', 'Temporary Enemy'], ['Nebula', 'Temporary Teammate and Friend'], ['Rocket Raccoon', 'Former Teammate'], ['Groot'], ['Peter Quill/Star-Lord', 'Temporary Enemy'], ['Drax the Destroyer', 'Temporary Attempted Victim'], ['Mantis', 'Temporary Enemy'], ['Nebula', 'Temporary Teammate and Friend'], ['Rocket Raccoon', 'Former Teammate'], ['Groot'], ['Gerald', 'Pet'], ['E.D.I.T.H.', 'Creation'], ['Okoye', 'Former Teammate'], ['Okoye', 'Former Teammate'], [\"M'Baku\"], [\"M'Baku\"], ['Border Tribe'], ['Wakandan Royal Guard'], ['Bucky Barnes/Winter Soldier', 'Former Attempted Victim'], ['Brunnhilde/Valkyrie'], ['Aragorn'], ['Korg'], ['Miek'], ['Einherjar'], ['Kraglin Obfonteri'], ['Kraglin Obfonteri'], ['Howard the Duck'], ['Hope van Dyne/Wasp'], ['Gamora'], ['Edwin Jarvis †', 'Former Butler and Friend'], ['Happy Hogan', 'Close Friend and Former Bodyguard'], ['Bambi Arbogast', 'Employee'], ['Samantha Carlisle', 'Employee'], ['Trixie', 'Employee'], ['Jesse', 'Employee'], ['Abby Rose', 'Former Date'], ['Abby Rose', 'Former Date'], ['Abby Rose', 'Former Date'], ['William Gabriel'], ['Sullivian'], ['Jimmy †'], ['Pratt †'], ['Ramirez †'], ['Ronald Coultrap'], ['Ralph Mays'], ['Scott Campbell', 'Former Enemy'], ['Michael Gorani'], ['Evetta Gorani'], ['Larry Ellison'], ['Larson'], ['Elkin'], ['Busard'], ['Gibson'], ['Clements'], ['Goodwin'], ['Carlino'], ['Beckman'], ['Larson'], ['Elkin'], ['Busard'], ['Gibson'], ['Clements'], ['Goodwin'], ['Carlino'], ['Beckman'], ['Larson'], ['Elkin'], ['Busard'], ['Gibson'], ['Clements'], ['Goodwin'], ['Carlino'], ['Beckman'], ['Phil Coulson †', 'Friend'], ['Garrett'], ['Galaga Guy'], ['Nick Fury'], ['Maria Hill', 'Former Employee'], ['Cameron Klein'], ['Steve Rogers/Captain America', 'Close Friend, Former Leader and Temporary Enemy'], ['Natasha Romanoff/Black Widow †', 'Former Assistant and Temporary Enemy'], ['Bruce Banner/Hulk', 'Close Friend and Temporary Enemy'], ['Thor', 'Temporary Enemy'], ['Clint Barton/Hawkeye', 'Temporary Enemy'], ['Wanda Maximoff/Scarlet Witch', 'Former Enthraller'], ['Pietro Maximoff/Quicksilver †', 'Former Enemy'], ['Vision †', 'Creation'], ['James Rhodes/War Machine', 'Best Friend and Temporary Enemy'], ['Sam Wilson/Falcon', 'Temporary Enemy'], ['Peter Parker/Spider-Man', 'Protégé and Savior'], ['Scott Lang/Ant-Man', 'Temporary Enemy'], ['Carol Danvers/Captain Marvel', 'Savior'], ['Anne Marie Hoag'], ['Everett Ross'], ['Joint Counter Terrorist Centre'], [\"T'Challa/Black Panther\"], ['Shuri'], ['Stephen Strange/Doctor Strange', 'Former Rival and Savior'], ['Wong', 'Savior'], ['Peter Quill/Star-Lord', 'Temporary Enemy'], ['Drax the Destroyer', 'Temporary Attempted Victim'], ['Mantis', 'Temporary Enemy'], ['Nebula', 'Temporary Teammate and Friend'], ['Rocket Raccoon', 'Former Teammate'], ['Groot'], ['Okoye', 'Former Teammate'], [\"M'Baku\"], ['Kraglin Obfonteri'], ['Xu Wenwu †'], ['Raza †'], ['Abu Bakaar'], ['Omar †'], ['Ahmed †'], ['Naib'], ['Cordo Gaines'], ['Aiden Julius'], ['Xu Wenwu †'], ['Raza †'], ['Abu Bakaar'], ['Omar †'], ['Ahmed †'], ['Naib'], ['Cordo Gaines'], ['Aiden Julius'], ['Obadiah Stane/Iron Monger †', 'Former Friend and Attempted Killer'], ['Lina', 'Former Love Interest'], ['Jenkins'], ['Roxxon Corporation', 'Business Rivals'], ['Justin Hammer', 'Business Rival'], ['Hammer Drones †'], ['Justin Hammer', 'Business Rival'], ['Hammer Drones †'], ['Turner'], ['Ivan Vanko/Whiplash †', 'Attempted Killer'], ['Omar'], ['Mitch'], ['Omar'], ['Mitch'], ['Loki †', 'Attempted Killer'], ['Leviathans'], ['Chitauri Gorillas'], ['Leviathans'], ['Chitauri Gorillas'], ['Alexander Pierce †'], ['Wolfgang von Strucker †'], ['List †', 'Victim'], ['Jensen'], ['Stern', 'Temporary Ally'], ['Jasper Sitwell †', 'Former Ally'], ['Brock Rumlow †'], ['Jack Rollins'], ['Alexander Pierce †'], ['Wolfgang von Strucker †'], ['List †', 'Victim'], ['Jensen'], ['Stern', 'Temporary Ally'], ['Jasper Sitwell †', 'Former Ally'], ['Brock Rumlow †'], ['Jack Rollins'], ['Aldrich Killian †', 'Former Fan, Attempted Killer and Attempted Victim'], ['Eric Savin †', 'Victim'], ['Ellen Brandt †', 'Attempted Killer and Victim'], ['Ponytail Express'], ['Aldrich Killian †', 'Former Fan, Attempted Killer and Attempted Victim'], ['Eric Savin †', 'Victim'], ['Ellen Brandt †', 'Attempted Killer and Victim'], ['Ponytail Express'], ['Trevor Slattery'], ['Rodriguez'], ['Vanessa'], ['Ultron Sentries'], ['Ultron Sentries'], ['Ulysses Klaue †', 'Former Contact'], [\"Klaue's Mercenary\"], ['Miriam Sharpe'], ['Quentin Beck †'], ['William Ginter Riva'], ['Victoria Snow'], ['Gutes Guterman'], ['Janice Lincoln'], ['Doug'], ['Quentin Beck †'], ['William Ginter Riva'], ['Victoria Snow'], ['Gutes Guterman'], ['Janice Lincoln'], ['Doug'], ['Helmut Zemo/Baron Zemo'], ['Ebony Maw †', 'Attempted Killer and Victim'], ['Cull Obsidian †', 'Attempted Killer'], ['Ebony Maw †', 'Attempted Killer and Victim'], ['Cull Obsidian †', 'Attempted Killer'], ['Thanos †', 'Attempted Killer'], ['Alexander Pierce'], ['Jasper Sitwell'], ['Brock Rumlow'], ['Jack Rollins'], ['Alexander Pierce'], ['Jasper Sitwell'], ['Brock Rumlow'], ['Jack Rollins'], ['Loki'], ['Tony Stark/Iron Man', 'Alternate Self'], ['Bruce Banner/Hulk'], ['Tony Stark/Iron Man', 'Alternate Self'], ['Bruce Banner/Hulk'], ['Phyllis Jenkins'], ['Phyllis Jenkins'], ['Chester'], ['Chester'], ['Nebula †'], ['Thanos †', 'Attempted Killer and Victim'], ['Ebony Maw †', 'Victim'], ['Cull Obsidian †', 'Attempted Killer'], ['Proxima Midnight †', 'Victim'], ['Corvus Glaive †'], ['Ebony Maw †', 'Victim'], ['Cull Obsidian †', 'Attempted Killer'], ['Proxima Midnight †', 'Victim'], ['Corvus Glaive †'], ['Sakaarans'], ['Outriders'], ['Xu Wenwu †'], ['Raza †'], ['Abu Bakaar'], ['Omar †'], ['Ahmed †'], ['Naib'], ['Cordo Gaines'], ['Aiden Julius'], ['Justin Hammer', 'Business Rival'], ['Hammer Drones †'], ['Omar'], ['Mitch'], ['Leviathans'], ['Chitauri Gorillas'], ['Alexander Pierce †'], ['Wolfgang von Strucker †'], ['List †', 'Victim'], ['Jensen'], ['Stern', 'Temporary Ally'], ['Jasper Sitwell †', 'Former Ally'], ['Brock Rumlow †'], ['Jack Rollins'], ['Aldrich Killian †', 'Former Fan, Attempted Killer and Attempted Victim'], ['Eric Savin †', 'Victim'], ['Ellen Brandt †', 'Attempted Killer and Victim'], ['Ponytail Express'], ['Ultron Sentries'], ['Quentin Beck †'], ['William Ginter Riva'], ['Victoria Snow'], ['Gutes Guterman'], ['Janice Lincoln'], ['Doug'], ['Ebony Maw †', 'Attempted Killer and Victim'], ['Cull Obsidian †', 'Attempted Killer'], ['Alexander Pierce'], ['Jasper Sitwell'], ['Brock Rumlow'], ['Jack Rollins'], ['Tony Stark/Iron Man', 'Alternate Self'], ['Bruce Banner/Hulk'], ['Phyllis Jenkins'], ['Chester'], ['Ebony Maw †', 'Victim'], ['Cull Obsidian †', 'Attempted Killer'], ['Proxima Midnight †', 'Victim'], ['Corvus Glaive †']]\n"
     ]
    }
   ],
   "source": [
    "def cerca_relazione(page_tree):\n",
    "  relationship_initial_tag = page_tree.find(id=\"Relationships\")\n",
    "  rel_table = relationship_initial_tag.find_next(\"table\")\n",
    "  relation_list = []\n",
    "  for ul_list in rel_table.find_all(\"ul\"):\n",
    "    for list_item in ul_list.find_all(\"li\"):\n",
    "      relation_list += cerca_relazione_recursive(list_item)\n",
    "  print(relation_list)\n",
    "  \n",
    "character_page_response = requests.get(\n",
    "    \"https://marvelcinematicuniverse.fandom.com/wiki/Iron_Man\")\n",
    "character_page_tree = BeautifulSoup(character_page_response.text)\n",
    "cerca_relazione(character_page_tree)"
   ]
  },
  {
   "cell_type": "code",
   "execution_count": 37,
   "metadata": {},
   "outputs": [
    {
     "name": "stderr",
     "output_type": "stream",
     "text": [
      "  0%|          | 1/3749 [00:00<31:43,  1.97it/s]"
     ]
    },
    {
     "name": "stdout",
     "output_type": "stream",
     "text": [
      "['Avengers: Infinity War']\n"
     ]
    },
    {
     "name": "stderr",
     "output_type": "stream",
     "text": [
      "  0%|          | 2/3749 [00:01<32:12,  1.94it/s]"
     ]
    },
    {
     "name": "stdout",
     "output_type": "stream",
     "text": [
      "[]\n"
     ]
    },
    {
     "name": "stderr",
     "output_type": "stream",
     "text": [
      "  0%|          | 3/3749 [00:01<30:28,  2.05it/s]"
     ]
    },
    {
     "name": "stdout",
     "output_type": "stream",
     "text": [
      "[]\n"
     ]
    },
    {
     "name": "stderr",
     "output_type": "stream",
     "text": [
      "  0%|          | 4/3749 [00:01<30:07,  2.07it/s]"
     ]
    },
    {
     "name": "stdout",
     "output_type": "stream",
     "text": [
      "['Captain America: The Winter Soldier']\n"
     ]
    },
    {
     "name": "stderr",
     "output_type": "stream",
     "text": [
      "  0%|          | 5/3749 [00:02<34:09,  1.83it/s]"
     ]
    },
    {
     "name": "stdout",
     "output_type": "stream",
     "text": [
      "[]\n"
     ]
    },
    {
     "name": "stderr",
     "output_type": "stream",
     "text": [
      "  0%|          | 6/3749 [00:02<30:16,  2.06it/s]"
     ]
    },
    {
     "name": "stdout",
     "output_type": "stream",
     "text": [
      "[]\n"
     ]
    },
    {
     "name": "stderr",
     "output_type": "stream",
     "text": [
      "  0%|          | 7/3749 [00:03<29:49,  2.09it/s]"
     ]
    },
    {
     "name": "stdout",
     "output_type": "stream",
     "text": [
      "[]\n"
     ]
    },
    {
     "name": "stderr",
     "output_type": "stream",
     "text": [
      "  0%|          | 8/3749 [00:03<28:26,  2.19it/s]"
     ]
    },
    {
     "name": "stdout",
     "output_type": "stream",
     "text": [
      "[]\n"
     ]
    },
    {
     "name": "stderr",
     "output_type": "stream",
     "text": [
      "  0%|          | 9/3749 [00:04<27:38,  2.26it/s]"
     ]
    },
    {
     "name": "stdout",
     "output_type": "stream",
     "text": [
      "[]\n"
     ]
    },
    {
     "name": "stderr",
     "output_type": "stream",
     "text": [
      "  0%|          | 10/3749 [00:04<27:30,  2.27it/s]"
     ]
    },
    {
     "name": "stdout",
     "output_type": "stream",
     "text": [
      "['Spider-Man: Homecoming']\n"
     ]
    },
    {
     "name": "stderr",
     "output_type": "stream",
     "text": [
      "  0%|          | 11/3749 [00:05<28:02,  2.22it/s]"
     ]
    },
    {
     "name": "stdout",
     "output_type": "stream",
     "text": [
      "[]\n"
     ]
    },
    {
     "name": "stderr",
     "output_type": "stream",
     "text": [
      "  0%|          | 12/3749 [00:05<28:09,  2.21it/s]"
     ]
    },
    {
     "name": "stdout",
     "output_type": "stream",
     "text": [
      "[]\n"
     ]
    },
    {
     "name": "stderr",
     "output_type": "stream",
     "text": [
      "  0%|          | 13/3749 [00:05<26:15,  2.37it/s]"
     ]
    },
    {
     "name": "stdout",
     "output_type": "stream",
     "text": [
      "[]\n"
     ]
    },
    {
     "name": "stderr",
     "output_type": "stream",
     "text": [
      "  0%|          | 14/3749 [00:06<28:58,  2.15it/s]"
     ]
    },
    {
     "name": "stdout",
     "output_type": "stream",
     "text": [
      "['Guardians of the Galaxy Vol. 2']\n"
     ]
    },
    {
     "name": "stderr",
     "output_type": "stream",
     "text": [
      "  0%|          | 15/3749 [00:06<28:00,  2.22it/s]"
     ]
    },
    {
     "name": "stdout",
     "output_type": "stream",
     "text": [
      "[]\n"
     ]
    },
    {
     "name": "stderr",
     "output_type": "stream",
     "text": [
      "  0%|          | 16/3749 [00:07<29:13,  2.13it/s]"
     ]
    },
    {
     "name": "stdout",
     "output_type": "stream",
     "text": [
      "[]\n"
     ]
    },
    {
     "name": "stderr",
     "output_type": "stream",
     "text": [
      "  0%|          | 17/3749 [00:08<33:16,  1.87it/s]"
     ]
    },
    {
     "name": "stdout",
     "output_type": "stream",
     "text": [
      "['The Incredible Hulk', 'Shang-Chi and the Legend of the Ten Rings']\n"
     ]
    },
    {
     "name": "stderr",
     "output_type": "stream",
     "text": [
      "  0%|          | 18/3749 [00:08<32:52,  1.89it/s]"
     ]
    },
    {
     "name": "stdout",
     "output_type": "stream",
     "text": [
      "['The Incredible Hulk', 'Captain America: The First Avenger', 'The Avengers', 'Avengers: Age of Ultron', 'Spider-Man: Homecoming']\n"
     ]
    },
    {
     "name": "stderr",
     "output_type": "stream",
     "text": [
      "  1%|          | 19/3749 [00:09<31:35,  1.97it/s]"
     ]
    },
    {
     "name": "stdout",
     "output_type": "stream",
     "text": [
      "[]\n"
     ]
    },
    {
     "name": "stderr",
     "output_type": "stream",
     "text": [
      "  1%|          | 19/3749 [00:10<33:31,  1.85it/s]"
     ]
    },
    {
     "name": "stdout",
     "output_type": "stream",
     "text": [
      "[]\n"
     ]
    },
    {
     "name": "stderr",
     "output_type": "stream",
     "text": [
      "\n"
     ]
    }
   ],
   "source": [
    "lista_personaggi[\"Biografia\"] = None\n",
    "lista_personaggi[\"Film\"] = None\n",
    "lista_personaggi[\"Serie\"] = None\n",
    "\n",
    "num_iterazioni = 0\n",
    "\n",
    "for idx, row in tqdm(lista_personaggi.iterrows(), total=lista_personaggi.shape[0]):\n",
    "    character_page_response = requests.get(row[\"Link\"])\n",
    "    character_page_tree = BeautifulSoup(character_page_response.text)\n",
    "    biografia = cerca_bio(character_page_tree)\n",
    "    film = cerca_film(character_page_tree)\n",
    "    serie = cerca_serie(character_page_tree)\n",
    "    lista_personaggi.at[idx, \"Biografia\"] = biografia\n",
    "    lista_personaggi.at[idx, \"Film\"] = film\n",
    "    lista_personaggi.at[idx, \"Serie\"] = serie\n",
    "    num_iterazioni += 1\n",
    "    if num_iterazioni == 20:\n",
    "        break"
   ]
  },
  {
   "cell_type": "code",
   "execution_count": 38,
   "metadata": {},
   "outputs": [
    {
     "data": {
      "text/html": [
       "<div>\n",
       "<style scoped>\n",
       "    .dataframe tbody tr th:only-of-type {\n",
       "        vertical-align: middle;\n",
       "    }\n",
       "\n",
       "    .dataframe tbody tr th {\n",
       "        vertical-align: top;\n",
       "    }\n",
       "\n",
       "    .dataframe thead th {\n",
       "        text-align: right;\n",
       "    }\n",
       "</style>\n",
       "<table border=\"1\" class=\"dataframe\">\n",
       "  <thead>\n",
       "    <tr style=\"text-align: right;\">\n",
       "      <th></th>\n",
       "      <th>Nome</th>\n",
       "      <th>Link</th>\n",
       "      <th>Biografia</th>\n",
       "      <th>Film</th>\n",
       "    </tr>\n",
       "  </thead>\n",
       "  <tbody>\n",
       "    <tr>\n",
       "      <th>0</th>\n",
       "      <td>A'Lars</td>\n",
       "      <td>https://marvelcinematicuniverse.fandom.com/wik...</td>\n",
       "      <td>[Biography, Life on Titan, A'Lars fathered two...</td>\n",
       "      <td>[Avengers: Infinity War]</td>\n",
       "    </tr>\n",
       "    <tr>\n",
       "      <th>1</th>\n",
       "      <td>A. Kennedy</td>\n",
       "      <td>https://marvelcinematicuniverse.fandom.com/wik...</td>\n",
       "      <td>[Biography, First Encounter With S.H.I.E.L.D.,...</td>\n",
       "      <td>[]</td>\n",
       "    </tr>\n",
       "    <tr>\n",
       "      <th>2</th>\n",
       "      <td>A.I.M. President</td>\n",
       "      <td>https://marvelcinematicuniverse.fandom.com/wik...</td>\n",
       "      <td>[Biography, Obadiah Stane contacted the A.I.M....</td>\n",
       "      <td>[]</td>\n",
       "    </tr>\n",
       "    <tr>\n",
       "      <th>3</th>\n",
       "      <td>Aaron (Apple Inc.)</td>\n",
       "      <td>https://marvelcinematicuniverse.fandom.com/wik...</td>\n",
       "      <td>[Biography, Apple Inc., Assisting Customers, \\...</td>\n",
       "      <td>[Captain America: The Winter Soldier]</td>\n",
       "    </tr>\n",
       "    <tr>\n",
       "      <th>4</th>\n",
       "      <td>Aaron (Baby)</td>\n",
       "      <td>https://marvelcinematicuniverse.fandom.com/wik...</td>\n",
       "      <td>[Biography, Sophie walked with her son cradled...</td>\n",
       "      <td>[]</td>\n",
       "    </tr>\n",
       "    <tr>\n",
       "      <th>5</th>\n",
       "      <td>Aaron James</td>\n",
       "      <td>https://marvelcinematicuniverse.fandom.com/wik...</td>\n",
       "      <td>[Biography, Court Case, With Matt Murdock as h...</td>\n",
       "      <td>[]</td>\n",
       "    </tr>\n",
       "    <tr>\n",
       "      <th>6</th>\n",
       "      <td>Aaron Martinez</td>\n",
       "      <td>https://marvelcinematicuniverse.fandom.com/wik...</td>\n",
       "      <td>[Biography, Aaron Martinez was a criminal, sel...</td>\n",
       "      <td>[]</td>\n",
       "    </tr>\n",
       "    <tr>\n",
       "      <th>7</th>\n",
       "      <td>Abby</td>\n",
       "      <td>https://marvelcinematicuniverse.fandom.com/wik...</td>\n",
       "      <td>[Biography, Terrigenesis, \\n\"When the Mist hit...</td>\n",
       "      <td>[]</td>\n",
       "    </tr>\n",
       "    <tr>\n",
       "      <th>8</th>\n",
       "      <td>Abby Rose</td>\n",
       "      <td>https://marvelcinematicuniverse.fandom.com/wik...</td>\n",
       "      <td>[Biography, To be added\\n, To be added]</td>\n",
       "      <td>[]</td>\n",
       "    </tr>\n",
       "    <tr>\n",
       "      <th>9</th>\n",
       "      <td>Abe Brown</td>\n",
       "      <td>https://marvelcinematicuniverse.fandom.com/wik...</td>\n",
       "      <td>[Biography, Decathlon Team, \\n\"Fort Sumter!\"\"F...</td>\n",
       "      <td>[Spider-Man: Homecoming]</td>\n",
       "    </tr>\n",
       "    <tr>\n",
       "      <th>10</th>\n",
       "      <td>Abe Yasumi</td>\n",
       "      <td>https://marvelcinematicuniverse.fandom.com/wik...</td>\n",
       "      <td>[]</td>\n",
       "      <td>[]</td>\n",
       "    </tr>\n",
       "    <tr>\n",
       "      <th>11</th>\n",
       "      <td>Abel</td>\n",
       "      <td>https://marvelcinematicuniverse.fandom.com/wik...</td>\n",
       "      <td>[Biography, Confrontation with S.H.I.E.L.D., A...</td>\n",
       "      <td>[]</td>\n",
       "    </tr>\n",
       "    <tr>\n",
       "      <th>12</th>\n",
       "      <td>Abilash Tandon</td>\n",
       "      <td>https://marvelcinematicuniverse.fandom.com/wik...</td>\n",
       "      <td>[Biography, Early Life, Abilash Tandon lived i...</td>\n",
       "      <td>[]</td>\n",
       "    </tr>\n",
       "    <tr>\n",
       "      <th>13</th>\n",
       "      <td>Abilisk</td>\n",
       "      <td>https://marvelcinematicuniverse.fandom.com/wik...</td>\n",
       "      <td>[Biography, Attacking Sovereign, The Abilisk a...</td>\n",
       "      <td>[Guardians of the Galaxy Vol. 2]</td>\n",
       "    </tr>\n",
       "    <tr>\n",
       "      <th>14</th>\n",
       "      <td>Abner Brody</td>\n",
       "      <td>https://marvelcinematicuniverse.fandom.com/wik...</td>\n",
       "      <td>[Biography, Brody was a physicst, who during h...</td>\n",
       "      <td>[]</td>\n",
       "    </tr>\n",
       "    <tr>\n",
       "      <th>15</th>\n",
       "      <td>Abner Croit</td>\n",
       "      <td>https://marvelcinematicuniverse.fandom.com/wik...</td>\n",
       "      <td>[Biography, Croit was experimenting with Darkf...</td>\n",
       "      <td>[]</td>\n",
       "    </tr>\n",
       "    <tr>\n",
       "      <th>16</th>\n",
       "      <td>Abomination</td>\n",
       "      <td>https://marvelcinematicuniverse.fandom.com/wik...</td>\n",
       "      <td>[Biography, Early Life, Military Career, \\n\"I ...</td>\n",
       "      <td>[The Incredible Hulk, Shang-Chi and the Legend...</td>\n",
       "    </tr>\n",
       "    <tr>\n",
       "      <th>17</th>\n",
       "      <td>Abraham Erskine</td>\n",
       "      <td>https://marvelcinematicuniverse.fandom.com/wik...</td>\n",
       "      <td>[Biography, Early Life, Adolf Hitler's Offer, ...</td>\n",
       "      <td>[The Incredible Hulk, Captain America: The Fir...</td>\n",
       "    </tr>\n",
       "    <tr>\n",
       "      <th>18</th>\n",
       "      <td>Abraham Erskine/Super Soldier Peggy Carter</td>\n",
       "      <td>https://marvelcinematicuniverse.fandom.com/wik...</td>\n",
       "      <td>[Biography, \\n\\nThis section needs a rewrite\\n...</td>\n",
       "      <td>[]</td>\n",
       "    </tr>\n",
       "    <tr>\n",
       "      <th>19</th>\n",
       "      <td>Absorbing Man</td>\n",
       "      <td>https://marvelcinematicuniverse.fandom.com/wik...</td>\n",
       "      <td>[Biography, Early Life, Criminal Record, \\n\"He...</td>\n",
       "      <td>[]</td>\n",
       "    </tr>\n",
       "  </tbody>\n",
       "</table>\n",
       "</div>"
      ],
      "text/plain": [
       "                                          Nome  \\\n",
       "0                                       A'Lars   \n",
       "1                                   A. Kennedy   \n",
       "2                             A.I.M. President   \n",
       "3                           Aaron (Apple Inc.)   \n",
       "4                                 Aaron (Baby)   \n",
       "5                                  Aaron James   \n",
       "6                               Aaron Martinez   \n",
       "7                                         Abby   \n",
       "8                                    Abby Rose   \n",
       "9                                    Abe Brown   \n",
       "10                                  Abe Yasumi   \n",
       "11                                        Abel   \n",
       "12                              Abilash Tandon   \n",
       "13                                     Abilisk   \n",
       "14                                 Abner Brody   \n",
       "15                                 Abner Croit   \n",
       "16                                 Abomination   \n",
       "17                             Abraham Erskine   \n",
       "18  Abraham Erskine/Super Soldier Peggy Carter   \n",
       "19                               Absorbing Man   \n",
       "\n",
       "                                                 Link  \\\n",
       "0   https://marvelcinematicuniverse.fandom.com/wik...   \n",
       "1   https://marvelcinematicuniverse.fandom.com/wik...   \n",
       "2   https://marvelcinematicuniverse.fandom.com/wik...   \n",
       "3   https://marvelcinematicuniverse.fandom.com/wik...   \n",
       "4   https://marvelcinematicuniverse.fandom.com/wik...   \n",
       "5   https://marvelcinematicuniverse.fandom.com/wik...   \n",
       "6   https://marvelcinematicuniverse.fandom.com/wik...   \n",
       "7   https://marvelcinematicuniverse.fandom.com/wik...   \n",
       "8   https://marvelcinematicuniverse.fandom.com/wik...   \n",
       "9   https://marvelcinematicuniverse.fandom.com/wik...   \n",
       "10  https://marvelcinematicuniverse.fandom.com/wik...   \n",
       "11  https://marvelcinematicuniverse.fandom.com/wik...   \n",
       "12  https://marvelcinematicuniverse.fandom.com/wik...   \n",
       "13  https://marvelcinematicuniverse.fandom.com/wik...   \n",
       "14  https://marvelcinematicuniverse.fandom.com/wik...   \n",
       "15  https://marvelcinematicuniverse.fandom.com/wik...   \n",
       "16  https://marvelcinematicuniverse.fandom.com/wik...   \n",
       "17  https://marvelcinematicuniverse.fandom.com/wik...   \n",
       "18  https://marvelcinematicuniverse.fandom.com/wik...   \n",
       "19  https://marvelcinematicuniverse.fandom.com/wik...   \n",
       "\n",
       "                                            Biografia  \\\n",
       "0   [Biography, Life on Titan, A'Lars fathered two...   \n",
       "1   [Biography, First Encounter With S.H.I.E.L.D.,...   \n",
       "2   [Biography, Obadiah Stane contacted the A.I.M....   \n",
       "3   [Biography, Apple Inc., Assisting Customers, \\...   \n",
       "4   [Biography, Sophie walked with her son cradled...   \n",
       "5   [Biography, Court Case, With Matt Murdock as h...   \n",
       "6   [Biography, Aaron Martinez was a criminal, sel...   \n",
       "7   [Biography, Terrigenesis, \\n\"When the Mist hit...   \n",
       "8             [Biography, To be added\\n, To be added]   \n",
       "9   [Biography, Decathlon Team, \\n\"Fort Sumter!\"\"F...   \n",
       "10                                                 []   \n",
       "11  [Biography, Confrontation with S.H.I.E.L.D., A...   \n",
       "12  [Biography, Early Life, Abilash Tandon lived i...   \n",
       "13  [Biography, Attacking Sovereign, The Abilisk a...   \n",
       "14  [Biography, Brody was a physicst, who during h...   \n",
       "15  [Biography, Croit was experimenting with Darkf...   \n",
       "16  [Biography, Early Life, Military Career, \\n\"I ...   \n",
       "17  [Biography, Early Life, Adolf Hitler's Offer, ...   \n",
       "18  [Biography, \\n\\nThis section needs a rewrite\\n...   \n",
       "19  [Biography, Early Life, Criminal Record, \\n\"He...   \n",
       "\n",
       "                                                 Film  \n",
       "0                            [Avengers: Infinity War]  \n",
       "1                                                  []  \n",
       "2                                                  []  \n",
       "3               [Captain America: The Winter Soldier]  \n",
       "4                                                  []  \n",
       "5                                                  []  \n",
       "6                                                  []  \n",
       "7                                                  []  \n",
       "8                                                  []  \n",
       "9                            [Spider-Man: Homecoming]  \n",
       "10                                                 []  \n",
       "11                                                 []  \n",
       "12                                                 []  \n",
       "13                   [Guardians of the Galaxy Vol. 2]  \n",
       "14                                                 []  \n",
       "15                                                 []  \n",
       "16  [The Incredible Hulk, Shang-Chi and the Legend...  \n",
       "17  [The Incredible Hulk, Captain America: The Fir...  \n",
       "18                                                 []  \n",
       "19                                                 []  "
      ]
     },
     "execution_count": 38,
     "metadata": {},
     "output_type": "execute_result"
    }
   ],
   "source": [
    "lista_personaggi.head(20)"
   ]
  }
 ],
 "metadata": {
  "interpreter": {
   "hash": "22f5c8559ee5d16991f9240bd2c1a679b03627a0e94304b0bc26d90d3a5752ce"
  },
  "kernelspec": {
   "display_name": "Python 3.9.7 64-bit ('MainEnv': conda)",
   "language": "python",
   "name": "python3"
  },
  "language_info": {
   "codemirror_mode": {
    "name": "ipython",
    "version": 3
   },
   "file_extension": ".py",
   "mimetype": "text/x-python",
   "name": "python",
   "nbconvert_exporter": "python",
   "pygments_lexer": "ipython3",
   "version": "3.9.1"
  },
  "orig_nbformat": 4
 },
 "nbformat": 4,
 "nbformat_minor": 2
}
