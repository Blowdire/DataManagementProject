{
 "cells": [
  {
   "cell_type": "code",
   "execution_count": 1,
   "metadata": {},
   "outputs": [],
   "source": [
    "import pandas as pd\n",
    "from bs4 import BeautifulSoup\n",
    "import requests\n",
    "from tqdm import tqdm\n",
    "import time\n",
    "import hashlib\n",
    "from neo4j import GraphDatabase\n",
    "import json\n",
    "import re\n"
   ]
  },
  {
   "cell_type": "code",
   "execution_count": 2,
   "metadata": {},
   "outputs": [],
   "source": [
    "db_host = \"bolt://localhost:7687\"\n",
    "password = \"1234qwer\"\n"
   ]
  },
  {
   "cell_type": "code",
   "execution_count": 3,
   "metadata": {},
   "outputs": [],
   "source": [
    "api_characters = pd.read_csv(\"./Datasets/api_character_list.csv\")\n",
    "scraping_characters = pd.read_csv(\n",
    "    \"./Datasets/scraping_personaggi_completo_filtered_relations.csv\")\n"
   ]
  },
  {
   "cell_type": "code",
   "execution_count": null,
   "metadata": {},
   "outputs": [],
   "source": [
    "scraping_characters.head(20)"
   ]
  },
  {
   "cell_type": "code",
   "execution_count": null,
   "metadata": {},
   "outputs": [],
   "source": [
    "api_characters.head(20)"
   ]
  },
  {
   "cell_type": "markdown",
   "metadata": {},
   "source": [
    "Add characters nodes with variant from API"
   ]
  },
  {
   "cell_type": "code",
   "execution_count": 50,
   "metadata": {},
   "outputs": [],
   "source": [
    "def add_character_node(tx, name, character_id, character_description):\n",
    "  processed_name = name.replace('\"', \" \").replace('\"',\" \")\n",
    "  nome_senza_parentesi = re.sub(\"[\\(\\[].*?[\\)\\]]\", \"\", processed_name.strip())\n",
    "  query_string = 'MERGE (c:character{name: \"%s\"})' %(nome_senza_parentesi.replace(\"'\", \" \").lower().strip())\n",
    "  tx.run(query_string)\n",
    "  tx.run(\n",
    "      \"MERGE (n:character_variant {name: '%s', character_id: %s, character_description: '%s'})\" %(name.replace(\"'\", ' ').replace('\"', \" \").replace(\"-\", \" \"), character_id, str(character_description).replace(\"'\", ' ').replace('\"', \" \").replace(\"-\", \" \")))\n",
    "  query_variant = 'MATCH (a:character{name:\"%s\"}),(b:character_variant {name: \"%s\", character_id: %s, character_description: \"%s\"}) MERGE (b)-[r:variante_di]->(a)' % (\n",
    "      nome_senza_parentesi.replace(\"'\", \" \").lower().strip(), name.replace(\"'\", ' ').replace('\"', \" \").replace(\"-\", \" \").strip(), character_id, str(character_description).replace(\"'\", ' ').replace('\"', \" \").replace(\"-\", \" \").strip(),)\n",
    "  tx.run(query_variant)\n"
   ]
  },
  {
   "cell_type": "code",
   "execution_count": 6,
   "metadata": {},
   "outputs": [],
   "source": [
    "driver = GraphDatabase.driver(db_host, auth=(\"neo4j\",password))"
   ]
  },
  {
   "cell_type": "code",
   "execution_count": 51,
   "metadata": {},
   "outputs": [
    {
     "name": "stderr",
     "output_type": "stream",
     "text": [
      " 41%|████      | 643/1559 [00:26<00:38, 23.65it/s]Failed to write data to connection IPv4Address(('localhost', 7687)) (IPv4Address(('127.0.0.1', 7687)))\n",
      "100%|██████████| 1559/1559 [01:08<00:00, 22.78it/s]\n"
     ]
    }
   ],
   "source": [
    "\n",
    "for idx, row in tqdm(api_characters.iterrows(), total=api_characters.shape[0]):\n",
    "    with driver.session() as session:\n",
    "        try:\n",
    "            session.write_transaction(\n",
    "                add_character_node, row['name'], row[\"id\"], row[\"description\"])\n",
    "        except Exception as e:\n",
    "            print(e\n",
    "            )"
   ]
  }
 ],
 "metadata": {
  "interpreter": {
   "hash": "63fd5069d213b44bf678585dea6b12cceca9941eaf7f819626cde1f2670de90d"
  },
  "kernelspec": {
   "display_name": "Python 3.9.1 64-bit",
   "language": "python",
   "name": "python3"
  },
  "language_info": {
   "codemirror_mode": {
    "name": "ipython",
    "version": 3
   },
   "file_extension": ".py",
   "mimetype": "text/x-python",
   "name": "python",
   "nbconvert_exporter": "python",
   "pygments_lexer": "ipython3",
   "version": "3.9.1"
  },
  "orig_nbformat": 4
 },
 "nbformat": 4,
 "nbformat_minor": 2
}
