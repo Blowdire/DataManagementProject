{
 "cells": [
  {
   "cell_type": "code",
   "execution_count": 2,
   "metadata": {},
   "outputs": [],
   "source": [
    "import pandas as pd\n",
    "from tqdm import tqdm\n",
    "from neo4j import GraphDatabase\n",
    "import json\n",
    "import re\n",
    "import os\n",
    "import glob"
   ]
  },
  {
   "cell_type": "code",
   "execution_count": 4,
   "metadata": {},
   "outputs": [],
   "source": [
    "\n",
    "path = \"./\"\n",
    "all_files = glob.glob(os.path.join(path, \"./Datasets/api_comic_list*.csv\"))\n",
    "df_from_each_file = (pd.read_csv(f, sep=',') for f in all_files)\n",
    "df_merged   = pd.concat(df_from_each_file, ignore_index=True)\n",
    "df_merged.to_csv( \"./Datasets/merged.csv\")"
   ]
  },
  {
   "cell_type": "code",
   "execution_count": 6,
   "metadata": {},
   "outputs": [],
   "source": [
    "db_host = \"bolt://localhost:7687\"\n",
    "password = \"1234qwer\"\n"
   ]
  },
  {
   "cell_type": "code",
   "execution_count": 7,
   "metadata": {},
   "outputs": [],
   "source": [
    "api_characters = pd.read_csv(\"./Datasets/api_character_list.csv\")\n",
    "scraping_characters = pd.read_csv(\n",
    "    \"./Datasets/scraping_personaggi_completo_filtered_relations.csv\")\n",
    "api_comics = pd.read_csv(\"./Datasets/merged.csv\")\n"
   ]
  },
  {
   "cell_type": "code",
   "execution_count": null,
   "metadata": {},
   "outputs": [],
   "source": [
    "scraping_characters.head(20)"
   ]
  },
  {
   "cell_type": "code",
   "execution_count": null,
   "metadata": {},
   "outputs": [],
   "source": [
    "api_characters.head(20)"
   ]
  },
  {
   "cell_type": "markdown",
   "metadata": {},
   "source": [
    "Add characters nodes with variant from API"
   ]
  },
  {
   "cell_type": "code",
   "execution_count": 8,
   "metadata": {},
   "outputs": [],
   "source": [
    "def add_character_node(tx, name, character_id, character_description):\n",
    "  processed_name = name.replace('\"', \" \").replace('\"',\" \")\n",
    "  nome_senza_parentesi = re.sub(\"[\\(\\[].*?[\\)\\]]\", \"\", processed_name.strip())\n",
    "  query_string = 'MERGE (c:character{name: \"%s\"})' %(nome_senza_parentesi.replace(\"'\", \" \").lower().strip())\n",
    "  tx.run(query_string)\n",
    "  tx.run(\n",
    "      \"MERGE (n:character_variant {name: '%s', character_id: %s, character_description: '%s'})\" %(name.replace(\"'\", ' ').replace('\"', \" \").replace(\"-\", \" \"), character_id, str(character_description).replace(\"'\", ' ').replace('\"', \" \").replace(\"-\", \" \")))\n",
    "  query_variant = 'MATCH (a:character{name:\"%s\"}),(b:character_variant {name: \"%s\", character_id: %s, character_description: \"%s\"}) MERGE (b)-[r:variante_di]->(a)' % (\n",
    "      nome_senza_parentesi.replace(\"'\", \" \").lower().strip(), name.replace(\"'\", ' ').replace('\"', \" \").replace(\"-\", \" \").strip(), character_id, str(character_description).replace(\"'\", ' ').replace('\"', \" \").replace(\"-\", \" \").strip(),)\n",
    "  tx.run(query_variant)\n"
   ]
  },
  {
   "cell_type": "code",
   "execution_count": 9,
   "metadata": {},
   "outputs": [],
   "source": [
    "def add_comic_node_and_link(tx, comic_title, comic_id, character_id, comic_description):\n",
    "  comic_description = str(comic_description).replace(\"'\", \" \").replace('\"',\"\").replace(\"-\",\" \").strip()\n",
    "  create_comic_node_query = 'MERGE (c:comic {title:\"%s\", comic_id: %s, comic_description: \"%s\"})' % (\n",
    "      comic_title, comic_id, comic_description)\n",
    "  create_link_query = \"MATCH (a:character_variant),(b:comic) WHERE a.character_id = %s AND b.comic_id = %s MERGE (a)-[r:Presente]->(b)\" % (\n",
    "      character_id, comic_id)\n",
    "  # print(create_link_query)\n",
    "  node_creation_result = tx.run(create_comic_node_query)\n",
    "  link_creation_result = tx.run(create_link_query)\n"
   ]
  },
  {
   "cell_type": "code",
   "execution_count": 10,
   "metadata": {},
   "outputs": [],
   "source": [
    "def add_comic_node(tx, comic_title,comic_id, comic_description):\n",
    "  comic_description = str(comic_description).replace(\n",
    "      \"'\", \" \").replace('\"', \"\").replace(\"-\", \" \").strip()\n",
    "  create_comic_node_query = 'MERGE (c:comic {title:\"%s\", comic_id: %s, comic_description: \"%s\"})' % (\n",
    "      comic_title, comic_id, comic_description)\n",
    "  node_creation_result = tx.run(create_comic_node_query)\n"
   ]
  },
  {
   "cell_type": "code",
   "execution_count": 11,
   "metadata": {},
   "outputs": [],
   "source": [
    "driver = GraphDatabase.driver(db_host, auth=(\"neo4j\",password))"
   ]
  },
  {
   "cell_type": "code",
   "execution_count": 65,
   "metadata": {},
   "outputs": [
    {
     "name": "stderr",
     "output_type": "stream",
     "text": [
      "100%|██████████| 1559/1559 [01:02<00:00, 24.76it/s]\n"
     ]
    }
   ],
   "source": [
    "\n",
    "for idx, row in tqdm(api_characters.iterrows(), total=api_characters.shape[0]):\n",
    "    with driver.session() as session:\n",
    "        try:\n",
    "            session.write_transaction(\n",
    "                add_character_node, row['name'], row[\"id\"], row[\"description\"])\n",
    "        except Exception as e:\n",
    "            print(e\n",
    "            )"
   ]
  },
  {
   "cell_type": "code",
   "execution_count": 12,
   "metadata": {},
   "outputs": [
    {
     "name": "stderr",
     "output_type": "stream",
     "text": [
      " 47%|████▋     | 24048/50645 [35:56<1:05:28,  6.77it/s] "
     ]
    },
    {
     "name": "stdout",
     "output_type": "stream",
     "text": [
      "{code: Neo.ClientError.Statement.SyntaxError} {message: Invalid input 'N': expected whitespace, '.', node labels or rel types, '[', '^', '*', '/', '%', '+', '-', \"=~\", IN, STARTS, ENDS, CONTAINS, IS, '=', \"<>\", \"!=\", '<', '>', \"<=\", \">=\", AND, XOR, OR, ',' or '}' (line 1, column 40 (offset: 39))\n",
      "\"MERGE (c:comic {title:\"Stephen King's \"N.\" (2010) #4\", comic_id: 31322, comic_description: \"As the mysterious case of N. spreads and claims the lives of everyone who hears the story each victim tries helplessly to rescue the next victim from their own sealed fate. But when the odd tale of Ackerman s field finds its way into the hands of a journalist one with millions of readers there is no telling how far the madness of N. might spread. DON T MISS A MOMENT OF THIS GRIPPING SERIES FROM MASTER THRILLER STEPHEN KING, WITH SCRIPT BY MARC GUGGENHEIM AND ART BY ALEX MALEEV!\"\n",
      "                                        ^}\n"
     ]
    },
    {
     "name": "stderr",
     "output_type": "stream",
     "text": [
      " 48%|████▊     | 24258/50645 [36:56<52:28,  8.38it/s]   "
     ]
    },
    {
     "name": "stdout",
     "output_type": "stream",
     "text": [
      "{code: Neo.ClientError.Statement.SyntaxError} {message: Invalid input 'N': expected whitespace, '.', node labels or rel types, '[', '^', '*', '/', '%', '+', '-', \"=~\", IN, STARTS, ENDS, CONTAINS, IS, '=', \"<>\", \"!=\", '<', '>', \"<=\", \">=\", AND, XOR, OR, ',' or '}' (line 1, column 40 (offset: 39))\n",
      "\"MERGE (c:comic {title:\"Stephen King's \"N.\" (2010) #3\", comic_id: 31321, comic_description: \"STEPHEN KING PRESENTS A TERRIFYING TALE OF MAGIC AND MADNESS! Can you catch a mental illness the same way you can catch a cold? Until he met patient N., Doctor John Bonsaint would have said that such an idea was ridiculous. But following the suicide of his patient, Bonsaint is finding the curious case of N. is plaguing him night and day. He begins exhibiting the same symptoms as N. insomnia, obsessive compulsive tendencies and finds the questions of N.s all consuming condition. But how far down the rabbit hole will he follow his patient...and what monsters lie at the bottom? [Brought to life by MARC GUGGENHEIM (AMAZING SPIDER MAN) and ALEX MALEEV (SPIDER WOMAN).\"\n",
      "                                        ^}\n"
     ]
    },
    {
     "name": "stderr",
     "output_type": "stream",
     "text": [
      " 48%|████▊     | 24474/50645 [37:14<41:58, 10.39it/s]  "
     ]
    },
    {
     "name": "stdout",
     "output_type": "stream",
     "text": [
      "{code: Neo.ClientError.Statement.SyntaxError} {message: Invalid input 'N': expected whitespace, '.', node labels or rel types, '[', '^', '*', '/', '%', '+', '-', \"=~\", IN, STARTS, ENDS, CONTAINS, IS, '=', \"<>\", \"!=\", '<', '>', \"<=\", \">=\", AND, XOR, OR, ',' or '}' (line 1, column 40 (offset: 39))\n",
      "\"MERGE (c:comic {title:\"Stephen King's \"N.\" (2010) #2\", comic_id: 31319, comic_description: \"Patient Case Study: N. Subject initially complained of insomnia, stating that standard pharma was not having any effect. I will prescribe him something stronger. Subject is also open and frank about obsessive compulsive tendencies, most notably; he has a habit of counting, and speaks of good and bad numbers. Traces symptoms back to visit of certain field in rural Maine with a rock formation that changes in number. Calls it a faded place where he could tear through the fabric of reality. Also recalls a grinning figure trapped within the stones. Suggests strong bouts of delusion. Prognosis: stronger sedative, intensive continued therapy.\"\n",
      "                                        ^}\n"
     ]
    },
    {
     "name": "stderr",
     "output_type": "stream",
     "text": [
      " 49%|████▉     | 24690/50645 [37:33<40:22, 10.71it/s]  "
     ]
    },
    {
     "name": "stdout",
     "output_type": "stream",
     "text": [
      "{code: Neo.ClientError.Statement.SyntaxError} {message: Invalid input 'N': expected whitespace, '.', node labels or rel types, '[', '^', '*', '/', '%', '+', '-', \"=~\", IN, STARTS, ENDS, CONTAINS, IS, '=', \"<>\", \"!=\", '<', '>', \"<=\", \">=\", AND, XOR, OR, ',' or '}' (line 1, column 40 (offset: 39))\n",
      "\"MERGE (c:comic {title:\"Stephen King's \"N.\" (2010) #1\", comic_id: 31316, comic_description: \"There is something unearthly and mysterious deep in Ackerman s Field in rural Maine. There is a Stonehenge like arrangement of seven stones with a horrifying EYE in the center. And whatever dwells there in that strange, windswept setting may have brought about the suicide of one man...and harbor death for the OCD afflicted N., whose visits to the field have passed beyond compulsion into the realm of obsession. Based on the chilling short story from the recent Stephen King collection, JUST AFTER SUNSET, this adaptation will provide nightmares aplenty. Just keep counting the stones...keep counting...counting...\"\n",
      "                                        ^}\n"
     ]
    },
    {
     "name": "stderr",
     "output_type": "stream",
     "text": [
      "100%|██████████| 50645/50645 [1:49:06<00:00,  7.74it/s]   \n"
     ]
    }
   ],
   "source": [
    "for idx, row in tqdm(api_comics.iterrows(), total=api_comics.shape[0]):\n",
    "    string = row[\"characters\"]\n",
    "    \n",
    "    characters = json.loads(string)\n",
    "    if characters[\"items\"]:\n",
    "        for character in characters[\"items\"]:\n",
    "            with driver.session() as session:\n",
    "                try:\n",
    "                    character_id = character[\"resourceURI\"].split(\"/\")\n",
    "                    character_id = character_id[len(character_id) -1]\n",
    "                    session.write_transaction(\n",
    "                            add_comic_node_and_link, row['title'], row[\"id\"], character_id,  row[\"description\"])\n",
    "                except Exception as e:\n",
    "                    print(e)\n",
    "    else:\n",
    "        with driver.session() as session:\n",
    "            try:\n",
    "                session.write_transaction(\n",
    "                    add_comic_node, row['title'], row[\"id\"],  row[\"description\"])\n",
    "            except Exception as e:\n",
    "                print(e)\n",
    "    \n"
   ]
  }
 ],
 "metadata": {
  "interpreter": {
   "hash": "63fd5069d213b44bf678585dea6b12cceca9941eaf7f819626cde1f2670de90d"
  },
  "kernelspec": {
   "display_name": "Python 3.9.1 64-bit",
   "language": "python",
   "name": "python3"
  },
  "language_info": {
   "codemirror_mode": {
    "name": "ipython",
    "version": 3
   },
   "file_extension": ".py",
   "mimetype": "text/x-python",
   "name": "python",
   "nbconvert_exporter": "python",
   "pygments_lexer": "ipython3",
   "version": "3.9.1"
  },
  "orig_nbformat": 4
 },
 "nbformat": 4,
 "nbformat_minor": 2
}
