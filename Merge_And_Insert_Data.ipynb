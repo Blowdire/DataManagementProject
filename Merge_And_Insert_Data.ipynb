{
 "cells": [
  {
   "cell_type": "code",
   "execution_count": 1,
   "metadata": {},
   "outputs": [],
   "source": [
    "import pandas as pd\n",
    "from tqdm import tqdm\n",
    "from neo4j import GraphDatabase\n",
    "import json\n",
    "import re\n",
    "import os\n",
    "import glob"
   ]
  },
  {
   "cell_type": "code",
   "execution_count": 4,
   "metadata": {},
   "outputs": [],
   "source": [
    "\n",
    "path = \"./\"\n",
    "all_files = glob.glob(os.path.join(path, \"./Datasets/api_comic_list*.csv\"))\n",
    "df_from_each_file = (pd.read_csv(f, sep=',') for f in all_files)\n",
    "df_merged   = pd.concat(df_from_each_file, ignore_index=True)\n",
    "df_merged.to_csv( \"./Datasets/merged.csv\")"
   ]
  },
  {
   "cell_type": "code",
   "execution_count": 2,
   "metadata": {},
   "outputs": [],
   "source": [
    "db_host = \"bolt://localhost:7687\"\n",
    "password = \"1234qwer\"\n"
   ]
  },
  {
   "cell_type": "code",
   "execution_count": 7,
   "metadata": {},
   "outputs": [],
   "source": [
    "api_characters = pd.read_csv(\"./Datasets/api_character_list.csv\")\n",
    "scraping_characters = pd.read_csv(\n",
    "    \"./Datasets/scraping_personaggi_completo_filtered_relations.csv\")\n",
    "api_comics = pd.read_csv(\"./Datasets/merged.csv\")\n"
   ]
  },
  {
   "cell_type": "code",
   "execution_count": null,
   "metadata": {},
   "outputs": [],
   "source": [
    "scraping_characters.head(20)"
   ]
  },
  {
   "cell_type": "code",
   "execution_count": null,
   "metadata": {},
   "outputs": [],
   "source": [
    "api_characters.head(20)"
   ]
  },
  {
   "cell_type": "markdown",
   "metadata": {},
   "source": [
    "Add characters nodes with variant from API"
   ]
  },
  {
   "cell_type": "code",
   "execution_count": 8,
   "metadata": {},
   "outputs": [],
   "source": [
    "def add_character_node(tx, name, character_id, character_description):\n",
    "  processed_name = name.replace('\"', \" \").replace('\"',\" \")\n",
    "  nome_senza_parentesi = re.sub(\"[\\(\\[].*?[\\)\\]]\", \"\", processed_name.strip())\n",
    "  query_string = 'MERGE (c:character{name: \"%s\"})' %(nome_senza_parentesi.replace(\"'\", \" \").lower().strip())\n",
    "  tx.run(query_string)\n",
    "  tx.run(\n",
    "      \"MERGE (n:character_variant {name: '%s', character_id: %s, character_description: '%s'})\" %(name.replace(\"'\", ' ').replace('\"', \" \").replace(\"-\", \" \"), character_id, str(character_description).replace(\"'\", ' ').replace('\"', \" \").replace(\"-\", \" \")))\n",
    "  query_variant = 'MATCH (a:character{name:\"%s\"}),(b:character_variant {name: \"%s\", character_id: %s, character_description: \"%s\"}) MERGE (b)-[r:variante_di]->(a)' % (\n",
    "      nome_senza_parentesi.replace(\"'\", \" \").lower().strip(), name.replace(\"'\", ' ').replace('\"', \" \").replace(\"-\", \" \").strip(), character_id, str(character_description).replace(\"'\", ' ').replace('\"', \" \").replace(\"-\", \" \").strip(),)\n",
    "  tx.run(query_variant)\n"
   ]
  },
  {
   "cell_type": "code",
   "execution_count": 9,
   "metadata": {},
   "outputs": [],
   "source": [
    "def add_comic_node_and_link(tx, comic_title, comic_id, character_id, comic_description):\n",
    "  comic_description = str(comic_description).replace(\"'\", \" \").replace('\"',\"\").replace(\"-\",\" \").strip()\n",
    "  create_comic_node_query = 'MERGE (c:comic {title:\"%s\", comic_id: %s, comic_description: \"%s\"})' % (\n",
    "      comic_title, comic_id, comic_description)\n",
    "  create_link_query = \"MATCH (a:character_variant),(b:comic) WHERE a.character_id = %s AND b.comic_id = %s MERGE (a)-[r:Presente]->(b)\" % (\n",
    "      character_id, comic_id)\n",
    "  # print(create_link_query)\n",
    "  node_creation_result = tx.run(create_comic_node_query)\n",
    "  link_creation_result = tx.run(create_link_query)\n"
   ]
  },
  {
   "cell_type": "code",
   "execution_count": 10,
   "metadata": {},
   "outputs": [],
   "source": [
    "def add_comic_node(tx, comic_title,comic_id, comic_description):\n",
    "  comic_description = str(comic_description).replace(\n",
    "      \"'\", \" \").replace('\"', \"\").replace(\"-\", \" \").strip()\n",
    "  create_comic_node_query = 'MERGE (c:comic {title:\"%s\", comic_id: %s, comic_description: \"%s\"})' % (\n",
    "      comic_title, comic_id, comic_description)\n",
    "  node_creation_result = tx.run(create_comic_node_query)\n"
   ]
  },
  {
   "cell_type": "code",
   "execution_count": 20,
   "metadata": {},
   "outputs": [],
   "source": [
    "def character_present(tx, character):\n",
    "  res = tx.run(\"Match (n:character) where n.name='%s' return n\"%(character))\n",
    "  if res.single():\n",
    "    return True\n",
    "  else:\n",
    "    return False\n"
   ]
  },
  {
   "cell_type": "code",
   "execution_count": 11,
   "metadata": {},
   "outputs": [],
   "source": [
    "driver = GraphDatabase.driver(db_host, auth=(\"neo4j\",password))"
   ]
  },
  {
   "cell_type": "code",
   "execution_count": 65,
   "metadata": {},
   "outputs": [
    {
     "name": "stderr",
     "output_type": "stream",
     "text": [
      "100%|██████████| 1559/1559 [01:02<00:00, 24.76it/s]\n"
     ]
    }
   ],
   "source": [
    "\n",
    "for idx, row in tqdm(api_characters.iterrows(), total=api_characters.shape[0]):\n",
    "    with driver.session() as session:\n",
    "        try:\n",
    "            session.write_transaction(\n",
    "                add_character_node, row['name'], row[\"id\"], row[\"description\"])\n",
    "        except Exception as e:\n",
    "            print(e\n",
    "            )"
   ]
  },
  {
   "cell_type": "code",
   "execution_count": null,
   "metadata": {},
   "outputs": [],
   "source": [
    "for idx, row in tqdm(api_comics.iterrows(), total=api_comics.shape[0]):\n",
    "    string = row[\"characters\"]\n",
    "    \n",
    "    characters = json.loads(string)\n",
    "    if characters[\"items\"]:\n",
    "        for character in characters[\"items\"]:\n",
    "            with driver.session() as session:\n",
    "                try:\n",
    "                    character_id = character[\"resourceURI\"].split(\"/\")\n",
    "                    character_id = character_id[len(character_id) -1]\n",
    "                    session.write_transaction(\n",
    "                            add_comic_node_and_link, row['title'], row[\"id\"], character_id,  row[\"description\"])\n",
    "                except Exception as e:\n",
    "                    print(e)\n",
    "    else:\n",
    "        with driver.session() as session:\n",
    "            try:\n",
    "                session.write_transaction(\n",
    "                    add_comic_node, row['title'], row[\"id\"],  row[\"description\"])\n",
    "            except Exception as e:\n",
    "                print(e)\n",
    "    \n"
   ]
  },
  {
   "cell_type": "code",
   "execution_count": 19,
   "metadata": {},
   "outputs": [],
   "source": [
    "def add_character_node(tx, name ):\n",
    "    create_comic_node_query = 'MERGE (c:character {name:\"%s\", wiki: true })' %(name)\n",
    "    tx.run(create_comic_node_query)\n",
    "\n",
    "def add_variant_node(tx, name, variant_name):\n",
    "    tx.run('MERGE (b:character_variant {name: \"%s\", wiki: true})'%(variant_name))\n",
    "    query_variant = 'MATCH (a:character{name:\"%s\"}),(b:character_variant {name: \"%s\", wiki: true}) MERGE (b)-[r:variante_di]->(a)' % (\n",
    "       name, variant_name)\n",
    "    tx.run(query_variant)\n"
   ]
  },
  {
   "cell_type": "code",
   "execution_count": 21,
   "metadata": {},
   "outputs": [
    {
     "name": "stderr",
     "output_type": "stream",
     "text": [
      "100%|██████████| 3746/3746 [04:40<00:00, 13.37it/s]"
     ]
    },
    {
     "name": "stdout",
     "output_type": "stream",
     "text": [
      "3746\n"
     ]
    },
    {
     "name": "stderr",
     "output_type": "stream",
     "text": [
      "\n"
     ]
    }
   ],
   "source": [
    "driver = GraphDatabase.driver(db_host, auth=(\"neo4j\",password))\n",
    "num_present = 0\n",
    "with driver.session() as session:\n",
    "    try:\n",
    "        character_data = pd.read_csv(\n",
    "            \"./Datasets/scraping_personaggi_completo_filtered_relations.csv\")\n",
    "        for idx, row in tqdm(character_data.iterrows(), total=character_data.shape[0]):\n",
    "            name = row[\"Nome\"]\n",
    "            name = name.replace('\"', \" \").replace(\"'\", \" \")\n",
    "            nome_senza_parentesi = re.sub(\"[\\(\\[].*?[\\)\\]]\", \"\", name.strip())\n",
    "            nome_senza_parentesi = nome_senza_parentesi.strip().lower()\n",
    "            present = session.write_transaction(\n",
    "                character_present, nome_senza_parentesi)\n",
    "            if present:\n",
    "                num_present +=1\n",
    "                session.write_transaction(add_variant_node, nome_senza_parentesi, name)\n",
    "            else:\n",
    "                session.write_transaction(add_character_node, nome_senza_parentesi)\n",
    "    except Exception as e:\n",
    "        print(e\n",
    "        )\n",
    "print(num_present)"
   ]
  },
  {
   "cell_type": "markdown",
   "metadata": {},
   "source": [
    "Insert data into database, link movie found into character csv movie_list to movie node, character in database must have wiki true."
   ]
  },
  {
   "cell_type": "code",
   "execution_count": 21,
   "metadata": {},
   "outputs": [],
   "source": [
    "#charachter_name must have \" and ' replaced with whytespace and should be trimmed\n",
    "#movie_title must have \" and ' replaced with whytespace and should be trimmed\n",
    "def add_movie_node_and_link_character(tx, movie_title, character_name):\n",
    "  #create relation between movie anc character if mot exists\n",
    "  tx.run(\"MATCH (m:movie), (c:character_variant) WHERE m.title = '%s' AND c.name = '%s' MERGE (c)-[r:in_film]->(m)\"%(movie_title, character_name))\n",
    "\n",
    "#movie_title must have \" and ' and - replaced with whytespace and should be trimmed\n",
    "def add_movie(tx, movie_title, release_date, runtime, box_office, synopsis):\n",
    "  #create movie node if not exists\n",
    "  tx.run(\"MERGE (n:movie {title: '%s', release_date: '%s', screen_time: '%s', box_office: '%s', synopsis: '%s' })\" % (movie_title, release_date, runtime, box_office, synopsis))\n",
    "  "
   ]
  },
  {
   "cell_type": "code",
   "execution_count": 19,
   "metadata": {},
   "outputs": [
    {
     "name": "stderr",
     "output_type": "stream",
     "text": [
      "100%|██████████| 42/42 [00:04<00:00, 10.24it/s]"
     ]
    },
    {
     "name": "stdout",
     "output_type": "stream",
     "text": [
      "0\n"
     ]
    },
    {
     "name": "stderr",
     "output_type": "stream",
     "text": [
      "\n"
     ]
    }
   ],
   "source": [
    "import numpy as np\n",
    "driver = GraphDatabase.driver(db_host, auth=(\"neo4j\", password))\n",
    "num_present = 0\n",
    "with driver.session() as session:\n",
    "    try:\n",
    "        film_data = pd.read_csv(\n",
    "            \"./Datasets/film_data_scraping.csv\")\n",
    "        for idx, row in tqdm(film_data.iterrows(), total=film_data.shape[0]):\n",
    "          \n",
    "            film_title = row[\"Title\"].strip() if str(row[\"Title\"]) != \"nan\" else None\n",
    "            film_release_date = row[\"releaseDate\"].strip(\n",
    "            ) if str(row[\"releaseDate\"]) != \"nan\" else None\n",
    "            film_runtime = row[\"Runtime\"].strip() if str(\n",
    "                row[\"Runtime\"]) != \"nan\" else None\n",
    "            film_box_office = row[\"BoxOffice\"].strip(\n",
    "            ) if str(row[\"BoxOffice\"]) != \"nan\" else None\n",
    "            film_synopsis = json.loads(row[\"Synopsis\"])[\n",
    "                0] if str(row[\"Synopsis\"]) != \"nan\" else None\n",
    "            #remove illegal string characters\n",
    "            if film_title:\n",
    "                film_title = film_title.replace('\"', \" \").replace(\"'\", \" \").replace(\"-\",\" \").strip()\n",
    "            #remove useless characters from synopsis\n",
    "            if film_synopsis:\n",
    "                film_synopsis = film_synopsis.replace(\"-\",\"\\-\").replace(\"'\",\"\\\\'\").replace('\"','\\\\\"').strip()\n",
    "            session.write_transaction(\n",
    "                    add_movie, film_title, film_release_date, film_runtime, film_box_office, film_synopsis)\n",
    "            \n",
    "    except Exception as e:\n",
    "        print(e)\n"
   ]
  },
  {
   "cell_type": "markdown",
   "metadata": {},
   "source": [
    "Link character with movies"
   ]
  },
  {
   "cell_type": "code",
   "execution_count": 22,
   "metadata": {},
   "outputs": [
    {
     "name": "stderr",
     "output_type": "stream",
     "text": [
      "100%|██████████| 3746/3746 [00:56<00:00, 66.25it/s] \n"
     ]
    }
   ],
   "source": [
    "driver = GraphDatabase.driver(db_host, auth=(\"neo4j\", password))\n",
    "num_present = 0\n",
    "with driver.session() as session:\n",
    "    try:\n",
    "        character_data = pd.read_csv(\n",
    "            \"./Datasets/scraping_personaggi_completo_filtered_relations.csv\")\n",
    "        for idx, row in tqdm(character_data.iterrows(), total=character_data.shape[0]):\n",
    "            films = json.loads(row[\"Film\"])\n",
    "            name = row[\"Nome\"]\n",
    "            name = name.replace('\"', \" \").replace(\"'\", \" \")\n",
    "            for film in films:\n",
    "                film_name = film[0]\n",
    "                film_name = film_name.replace('\"', \" \").replace(\n",
    "                    \"'\", \" \").replace(\"-\", \" \").strip()\n",
    "                session.write_transaction(add_movie_node_and_link_character, film_name, name)           \n",
    "    except Exception as e:\n",
    "        print(e\n",
    "              )\n"
   ]
  },
  {
   "cell_type": "markdown",
   "metadata": {},
   "source": [
    "# Aggiunta delle serie nel database\n"
   ]
  },
  {
   "cell_type": "markdown",
   "metadata": {},
   "source": [
    "Creazione per ogni serie di un nodo di tipo *serie* contenente le varie info ottenute e collegamento ai nodi *character variant* corrispondenti"
   ]
  },
  {
   "cell_type": "markdown",
   "metadata": {},
   "source": [
    "---"
   ]
  },
  {
   "cell_type": "markdown",
   "metadata": {},
   "source": [
    "### Definizione delle funzioni\n",
    "Definizione delle funzioni utilizzate per l'inserimento nel database."
   ]
  },
  {
   "cell_type": "code",
   "execution_count": 32,
   "metadata": {},
   "outputs": [],
   "source": [
    "import re\n",
    "def escape_for_neo4j(string):\n",
    "  return string.replace('\"', '\\\\\"').replace(\"'\", \"\\\\'\").replace(\"-\", \"\\\\-\").strip()\n",
    "def create_node_tv_serie(tx, title, creators, showrunners, producers, composers, release_date):\n",
    "  creators_list = list(map(lambda item: re.escape(item[0]).replace(\"\\ \",\" \").strip(), creators))\n",
    "  showrunners_list = list(\n",
    "      map(lambda item: escape_for_neo4j(item[0]).strip(), showrunners))\n",
    "  producers_list = list(\n",
    "      map(lambda item: escape_for_neo4j(item[0]).strip(), producers))\n",
    "  composers_list = list(\n",
    "      map(lambda item: escape_for_neo4j(item[0]).strip(), composers))\n",
    "  #remove illegal characters \n",
    "  title = escape_for_neo4j(title)\n",
    "  release_date = escape_for_neo4j(release_date)\n",
    "  #prepare query\n",
    "  query_string = \"MERGE (n:tv_show {title:'%s', creators:%s, showrunners: %s, producers: %s, composers: %s, release_date: '%s'})\"%(title, creators_list, showrunners_list, producers_list,composers_list, release_date)\n",
    "  tx.run(query_string)\n",
    "#name = name.replace('\"', \" \").replace(\"'\", \" \")\n",
    "def link_character_and_series(tx, character_name, serie_name):\n",
    "  character_name = character_name.replace('\"', \" \").replace(\"'\", \" \")\n",
    "  serie_name = escape_for_neo4j(serie_name)\n",
    "  query_string = \"MATCH (c:character_variant), (s:tv_show) WHERE c.name = '%s' AND s.title = '%s' MERGE (c)-[r:in_serie]->(s)\"%(character_name, serie_name)\n",
    "  tx.run(query_string)\n"
   ]
  },
  {
   "cell_type": "markdown",
   "metadata": {},
   "source": [
    "### Add series nodes"
   ]
  },
  {
   "cell_type": "code",
   "execution_count": 33,
   "metadata": {},
   "outputs": [
    {
     "name": "stderr",
     "output_type": "stream",
     "text": [
      "100%|██████████| 19/19 [00:02<00:00,  6.79it/s]\n"
     ]
    }
   ],
   "source": [
    "tv_series_dataframe = pd.read_csv(\"./Datasets/tv_series.csv\")\n",
    "\n",
    "driver = GraphDatabase.driver(db_host, auth=(\"neo4j\", password))\n",
    "with driver.session() as session:\n",
    "  try:\n",
    "    for idx, row in tqdm(tv_series_dataframe.iterrows(), total=tv_series_dataframe.shape[0]):\n",
    "      try:\n",
    "        title = row[\"Title\"]\n",
    "        creators = json.loads(row[\"Creators\"])\n",
    "        Showrunners = json.loads(row[\"Showrunners\"])\n",
    "        Producers = json.loads(row[\"Producers\"])\n",
    "        Composers = json.loads(row[\"Composers\"])\n",
    "        release_date = row[\"releaseDate\"]\n",
    "        session.write_transaction(create_node_tv_serie,title, creators, Showrunners, Producers, Composers, str(release_date))\n",
    "      except Exception as e:\n",
    "        print(e)\n",
    "  except Exception as e:\n",
    "    print(e)\n"
   ]
  },
  {
   "cell_type": "markdown",
   "metadata": {},
   "source": [
    "### link characters with series"
   ]
  },
  {
   "cell_type": "code",
   "execution_count": 35,
   "metadata": {},
   "outputs": [
    {
     "name": "stderr",
     "output_type": "stream",
     "text": [
      "100%|██████████| 3746/3746 [03:13<00:00, 19.34it/s]"
     ]
    },
    {
     "name": "stdout",
     "output_type": "stream",
     "text": [
      "[CypherSyntaxError('Invalid input \\' \\': expected \\'m/M\\' or \\'t/T\\' (line 1, column 103 (offset: 102))\\r\\n\"MATCH (c:character_variant), (s:tv_show) WHERE c.name = \\'Adrian (Trainer)\\' AND s.title = \\'AKA You\\\\\\\\\\'re Welcome\\' MERGE (c)-[r:in_serie]->(s)\"\\r\\n                                                                                                       ^'), CypherSyntaxError('Invalid input \\'t\\': expected whitespace, \\'.\\', node labels or rel types, \\'[\\', \\'^\\', \\'*\\', \\'/\\', \\'%\\', \\'+\\', \\'-\\', \"=~\", IN, STARTS, ENDS, CONTAINS, IS, \\'=\\', \"<>\", \"!=\", \\'<\\', \\'>\\', \"<=\", \">=\", AND, XOR, OR, USE GRAPH, LOAD CSV, START, MATCH, UNWIND, MERGE, CREATE UNIQUE, CREATE, SET, DELETE, REMOVE, FOREACH, WITH, CALL, RETURN, UNION, \\';\\' or end of input (line 1, column 92 (offset: 91))\\r\\n\"MATCH (c:character_variant), (s:tv_show) WHERE c.name = \\'Aisha Axton\\' AND s.title = \\'Can\\\\\\\\\\'t Front on Me\\' MERGE (c)-[r:in_serie]->(s)\"\\r\\n                                                                                            ^'), CypherSyntaxError('Invalid input \\' \\': expected \\'t/T\\' or \\'e/E\\' (line 1, column 111 (offset: 110))\\r\\n\"MATCH (c:character_variant), (s:tv_show) WHERE c.name = \\'Albert (Royal Al Moving)\\' AND s.title = \\'The City\\\\\\\\\\'s Not for Burning\\' MERGE (c)-[r:in_serie]->(s)\"\\r\\n                                                                                                               ^'), CypherSyntaxError('Invalid input \\' \\': expected \\'t/T\\' or \\'e/E\\' (line 1, column 96 (offset: 95))\\r\\n\"MATCH (c:character_variant), (s:tv_show) WHERE c.name = \\'Alex Tilden\\' AND s.title = \\'Mother\\\\\\\\\\'s Little Helpers\\' MERGE (c)-[r:in_serie]->(s)\"\\r\\n                                                                                                ^'), CypherSyntaxError('Invalid input \\' \\': expected \\'t/T\\' or \\'e/E\\' (line 1, column 106 (offset: 105))\\r\\n\"MATCH (c:character_variant), (s:tv_show) WHERE c.name = \\'Alistair Fitz\\' AND s.title = \\'All the Madame\\\\\\\\\\'s Men\\' MERGE (c)-[r:in_serie]->(s)\"\\r\\n                                                                                                          ^'), CypherSyntaxError('Invalid input \\' \\': expected \\'m/M\\' or \\'t/T\\' (line 1, column 96 (offset: 95))\\r\\n\"MATCH (c:character_variant), (s:tv_show) WHERE c.name = \\'Alya Fitz\\' AND s.title = \\'What We\\\\\\\\\\'re Fighting For\\' MERGE (c)-[r:in_serie]->(s)\"\\r\\n                                                                                                ^'), CypherSyntaxError('Invalid input \\'p\\': expected \\'s/S\\' or \\'n/N\\' (line 1, column 90 (offset: 89))\\r\\n\"MATCH (c:character_variant), (s:tv_show) WHERE c.name = \\'Amos\\' AND s.title = \\'Blowin\\\\\\\\\\' Up the Spot\\' MERGE (c)-[r:in_serie]->(s)\"\\r\\n                                                                                          ^'), CypherSyntaxError('Invalid input \\' \\': expected \\'m/M\\' or \\'t/T\\' (line 1, column 98 (offset: 97))\\r\\n\"MATCH (c:character_variant), (s:tv_show) WHERE c.name = \\'Angel Peart\\' AND s.title = \\'AKA You\\\\\\\\\\'re a Winner!\\' MERGE (c)-[r:in_serie]->(s)\"\\r\\n                                                                                                  ^'), CypherSyntaxError('Invalid input \\' \\': expected \\'m/M\\' or \\'t/T\\' (line 1, column 102 (offset: 101))\\r\\n\"MATCH (c:character_variant), (s:tv_show) WHERE c.name = \\'Angela del Toro\\' AND s.title = \\'AKA You\\\\\\\\\\'re a Winner!\\' MERGE (c)-[r:in_serie]->(s)\"\\r\\n                                                                                                      ^'), CypherSyntaxError('Invalid input \\'t\\': expected whitespace, \\'.\\', node labels or rel types, \\'[\\', \\'^\\', \\'*\\', \\'/\\', \\'%\\', \\'+\\', \\'-\\', \"=~\", IN, STARTS, ENDS, CONTAINS, IS, \\'=\\', \"<>\", \"!=\", \\'<\\', \\'>\\', \"<=\", \">=\", AND, XOR, OR, USE GRAPH, LOAD CSV, START, MATCH, UNWIND, MERGE, CREATE UNIQUE, CREATE, SET, DELETE, REMOVE, FOREACH, WITH, CALL, RETURN, UNION, \\';\\' or end of input (line 1, column 95 (offset: 94))\\r\\n\"MATCH (c:character_variant), (s:tv_show) WHERE c.name = \\'Anibal Izqueda\\' AND s.title = \\'Can\\\\\\\\\\'t Front on Me\\' MERGE (c)-[r:in_serie]->(s)\"\\r\\n                                                                                               ^'), CypherSyntaxError('Invalid input \\' \\': expected \\'m/M\\' or \\'t/T\\' (line 1, column 100 (offset: 99))\\r\\n\"MATCH (c:character_variant), (s:tv_show) WHERE c.name = \\'Antoine Grier\\' AND s.title = \\'AKA You\\\\\\\\\\'re a Winner!\\' MERGE (c)-[r:in_serie]->(s)\"\\r\\n                                                                                                    ^'), CypherSyntaxError('Invalid input \\' \\': expected \\'t/T\\' or \\'e/E\\' (line 1, column 119 (offset: 118))\\r\\n\"MATCH (c:character_variant), (s:tv_show) WHERE c.name = \\'Antoine Triplett/Framework\\' AND s.title = \\'All the Madame\\\\\\\\\\'s Men\\' MERGE (c)-[r:in_serie]->(s)\"\\r\\n                                                                                                                       ^'), CypherSyntaxError('Invalid input \\' \\': expected \\'t/T\\' or \\'e/E\\' (line 1, column 99 (offset: 98))\\r\\n\"MATCH (c:character_variant), (s:tv_show) WHERE c.name = \\'Anton Reed\\' AND s.title = \\'My Brother\\\\\\\\\\'s Keeper\\' MERGE (c)-[r:in_serie]->(s)\"\\r\\n                                                                                                   ^'), CypherSyntaxError('Invalid input \\' \\': expected \\'t/T\\' or \\'e/E\\' (line 1, column 99 (offset: 98))\\r\\n\"MATCH (c:character_variant), (s:tv_show) WHERE c.name = \\'Archer Cavallo\\' AND s.title = \\'Mother\\\\\\\\\\'s Little Helpers\\' MERGE (c)-[r:in_serie]->(s)\"\\r\\n                                                                                                   ^'), CypherSyntaxError('Invalid input \\' \\': expected \\'t/T\\' or \\'e/E\\' (line 1, column 98 (offset: 97))\\r\\n\"MATCH (c:character_variant), (s:tv_show) WHERE c.name = \\'Audrey\\' AND s.title = \\'The Gentleman\\\\\\\\\\'s Name is Gorgon\\' MERGE (c)-[r:in_serie]->(s)\"\\r\\n                                                                                                  ^'), CypherSyntaxError('Invalid input \\' \\': expected \\'m/M\\' or \\'t/T\\' (line 1, column 93 (offset: 92))\\r\\n\"MATCH (c:character_variant), (s:tv_show) WHERE c.name = \\'Birdie\\' AND s.title = \\'AKA You\\\\\\\\\\'re Welcome\\' MERGE (c)-[r:in_serie]->(s)\"\\r\\n                                                                                             ^'), CypherSyntaxError('Invalid input \\'h\\': expected \\'o/O\\', \\'r/R\\' or \\'a/A\\' (line 1, column 119 (offset: 118))\\r\\n\"MATCH (c:character_variant), (s:tv_show) WHERE c.name = \\'Black Dwarf/Ravager T Challa\\' AND s.title = \\'What If... T\\\\\\\\\\'Challa Became a Star\\\\\\\\-Lord?\\' MERGE (c)-[r:in_serie]->(s)\"\\r\\n                                                                                                                       ^'), CypherSyntaxError('Invalid input \\' \\': expected \\'m/M\\' or \\'t/T\\' (line 1, column 100 (offset: 99))\\r\\n\"MATCH (c:character_variant), (s:tv_show) WHERE c.name = \\'Bodega Bandit\\' AND s.title = \\'AKA You\\\\\\\\\\'re Welcome\\' MERGE (c)-[r:in_serie]->(s)\"\\r\\n                                                                                                    ^'), CypherSyntaxError('Invalid input \\' \\': expected \\'m/M\\' or \\'t/T\\' (line 1, column 101 (offset: 100))\\r\\n\"MATCH (c:character_variant), (s:tv_show) WHERE c.name = \\'Brandon Gamble\\' AND s.title = \\'What We\\\\\\\\\\'re Fighting For\\' MERGE (c)-[r:in_serie]->(s)\"\\r\\n                                                                                                     ^'), CypherSyntaxError('Invalid input \\' \\': expected \\'t/T\\' or \\'e/E\\' (line 1, column 94 (offset: 93))\\r\\n\"MATCH (c:character_variant), (s:tv_show) WHERE c.name = \\'C. Cooper\\' AND s.title = \\'Mother\\\\\\\\\\'s Little Helpers\\' MERGE (c)-[r:in_serie]->(s)\"\\r\\n                                                                                              ^'), CypherSyntaxError('Invalid input \\'t\\': expected whitespace, \\'.\\', node labels or rel types, \\'[\\', \\'^\\', \\'*\\', \\'/\\', \\'%\\', \\'+\\', \\'-\\', \"=~\", IN, STARTS, ENDS, CONTAINS, IS, \\'=\\', \"<>\", \"!=\", \\'<\\', \\'>\\', \"<=\", \">=\", AND, XOR, OR, USE GRAPH, LOAD CSV, START, MATCH, UNWIND, MERGE, CREATE UNIQUE, CREATE, SET, DELETE, REMOVE, FOREACH, WITH, CALL, RETURN, UNION, \\';\\' or end of input (line 1, column 102 (offset: 101))\\r\\n\"MATCH (c:character_variant), (s:tv_show) WHERE c.name = \\'Callahan (NYPD)\\' AND s.title = \\'If It Ain\\\\\\\\\\'t Rough, It Ain\\\\\\\\\\'t Right\\' MERGE (c)-[r:in_serie]->(s)\"\\r\\n                                                                                                      ^'), CypherSyntaxError('Invalid input \\'h\\': expected \\'o/O\\', \\'r/R\\' or \\'a/A\\' (line 1, column 114 (offset: 113))\\r\\n\"MATCH (c:character_variant), (s:tv_show) WHERE c.name = \\'Carina/Ravager T Challa\\' AND s.title = \\'What If... T\\\\\\\\\\'Challa Became a Star\\\\\\\\-Lord?\\' MERGE (c)-[r:in_serie]->(s)\"\\r\\n                                                                                                                  ^'), CypherSyntaxError('Invalid input \\' \\': expected \\'t/T\\' or \\'e/E\\' (line 1, column 93 (offset: 92))\\r\\n\"MATCH (c:character_variant), (s:tv_show) WHERE c.name = \\'Cassandra\\' AND s.title = \\'Devil\\\\\\\\\\'s Torture Chamber\\' MERGE (c)-[r:in_serie]->(s)\"\\r\\n                                                                                             ^'), CypherSyntaxError('Invalid input \\' \\': expected \\'t/T\\' or \\'e/E\\' (line 1, column 115 (offset: 114))\\r\\n\"MATCH (c:character_variant), (s:tv_show) WHERE c.name = \\'Catherine Wilder/Dark Dimension\\' AND s.title = \\'Devil\\\\\\\\\\'s Torture Chamber\\' MERGE (c)-[r:in_serie]->(s)\"\\r\\n                                                                                                                   ^'), CypherSyntaxError('Invalid input \\' \\': expected \\'t/T\\' or \\'e/E\\' (line 1, column 97 (offset: 96))\\r\\n\"MATCH (c:character_variant), (s:tv_show) WHERE c.name = \\'Charles Bradley\\' AND s.title = \\'Who\\\\\\\\\\'s Gonna Take the Weight?\\' MERGE (c)-[r:in_serie]->(s)\"\\r\\n                                                                                                 ^'), CypherSyntaxError('Invalid input \\' \\': expected \\'m/M\\' or \\'t/T\\' (line 1, column 102 (offset: 101))\\r\\n\"MATCH (c:character_variant), (s:tv_show) WHERE c.name = \\'Charles Wallace\\' AND s.title = \\'AKA You\\\\\\\\\\'re a Winner!\\' MERGE (c)-[r:in_serie]->(s)\"\\r\\n                                                                                                      ^'), CypherSyntaxError('Invalid input \\' \\': expected \\'t/T\\' or \\'e/E\\' (line 1, column 101 (offset: 100))\\r\\n\"MATCH (c:character_variant), (s:tv_show) WHERE c.name = \\'Chris Davidson\\' AND s.title = \\'New York\\\\\\\\\\'s Finest\\' MERGE (c)-[r:in_serie]->(s)\"\\r\\n                                                                                                     ^'), CypherSyntaxError('Invalid input \\'t\\': expected whitespace, \\'.\\', node labels or rel types, \\'[\\', \\'^\\', \\'*\\', \\'/\\', \\'%\\', \\'+\\', \\'-\\', \"=~\", IN, STARTS, ENDS, CONTAINS, IS, \\'=\\', \"<>\", \"!=\", \\'<\\', \\'>\\', \"<=\", \">=\", AND, XOR, OR, USE GRAPH, LOAD CSV, START, MATCH, UNWIND, MERGE, CREATE UNIQUE, CREATE, SET, DELETE, REMOVE, FOREACH, WITH, CALL, RETURN, UNION, \\';\\' or end of input (line 1, column 93 (offset: 92))\\r\\n\"MATCH (c:character_variant), (s:tv_show) WHERE c.name = \\'Colin Dunbar\\' AND s.title = \\'Can\\\\\\\\\\'t Front on Me\\' MERGE (c)-[r:in_serie]->(s)\"\\r\\n                                                                                             ^'), CypherSyntaxError('Invalid input \\'h\\': expected \\'o/O\\', \\'r/R\\' or \\'a/A\\' (line 1, column 117 (offset: 116))\\r\\n\"MATCH (c:character_variant), (s:tv_show) WHERE c.name = \\'Collector/Ravager T Challa\\' AND s.title = \\'What If... T\\\\\\\\\\'Challa Became a Star\\\\\\\\-Lord?\\' MERGE (c)-[r:in_serie]->(s)\"\\r\\n                                                                                                                     ^'), CypherSyntaxError('Invalid input \\'p\\': expected \\'s/S\\' or \\'n/N\\' (line 1, column 92 (offset: 91))\\r\\n\"MATCH (c:character_variant), (s:tv_show) WHERE c.name = \\'Cooper\\' AND s.title = \\'Blowin\\\\\\\\\\' Up the Spot\\' MERGE (c)-[r:in_serie]->(s)\"\\r\\n                                                                                            ^'), CypherSyntaxError('Invalid input \\'h\\': expected \\'o/O\\', \\'r/R\\' or \\'a/A\\' (line 1, column 121 (offset: 120))\\r\\n\"MATCH (c:character_variant), (s:tv_show) WHERE c.name = \\'Corvus Glaive/Ravager T Challa\\' AND s.title = \\'What If... T\\\\\\\\\\'Challa Became a Star\\\\\\\\-Lord?\\' MERGE (c)-[r:in_serie]->(s)\"\\r\\n                                                                                                                         ^'), CypherSyntaxError('Invalid input \\'h\\': expected \\'o/O\\', \\'r/R\\' or \\'a/A\\' (line 1, column 113 (offset: 112))\\r\\n\"MATCH (c:character_variant), (s:tv_show) WHERE c.name = \\'Cosmo/Ravager T Challa\\' AND s.title = \\'What If... T\\\\\\\\\\'Challa Became a Star\\\\\\\\-Lord?\\' MERGE (c)-[r:in_serie]->(s)\"\\r\\n                                                                                                                 ^'), CypherSyntaxError('Invalid input \\' \\': expected \\'t/T\\' or \\'e/E\\' (line 1, column 111 (offset: 110))\\r\\n\"MATCH (c:character_variant), (s:tv_show) WHERE c.name = \\'Curtis Stein/Dark Dimension\\' AND s.title = \\'Devil\\\\\\\\\\'s Torture Chamber\\' MERGE (c)-[r:in_serie]->(s)\"\\r\\n                                                                                                               ^'), CypherSyntaxError('Invalid input \\' \\': expected \\'t/T\\' or \\'e/E\\' (line 1, column 114 (offset: 113))\\r\\n\"MATCH (c:character_variant), (s:tv_show) WHERE c.name = \\'Daisy Johnson/Life-Model Decoy\\' AND s.title = \\'World\\\\\\\\\\'s End\\' MERGE (c)-[r:in_serie]->(s)\"\\r\\n                                                                                                                  ^'), CypherSyntaxError('Invalid input \\'p\\': expected \\'s/S\\' or \\'n/N\\' (line 1, column 98 (offset: 97))\\r\\n\"MATCH (c:character_variant), (s:tv_show) WHERE c.name = \\'Dana Stryker\\' AND s.title = \\'Blowin\\\\\\\\\\' Up the Spot\\' MERGE (c)-[r:in_serie]->(s)\"\\r\\n                                                                                                  ^'), CypherSyntaxError('Invalid input \\'t\\': expected whitespace, \\'.\\', node labels or rel types, \\'[\\', \\'^\\', \\'*\\', \\'/\\', \\'%\\', \\'+\\', \\'-\\', \"=~\", IN, STARTS, ENDS, CONTAINS, IS, \\'=\\', \"<>\", \"!=\", \\'<\\', \\'>\\', \"<=\", \">=\", AND, XOR, OR, USE GRAPH, LOAD CSV, START, MATCH, UNWIND, MERGE, CREATE UNIQUE, CREATE, SET, DELETE, REMOVE, FOREACH, WITH, CALL, RETURN, UNION, \\';\\' or end of input (line 1, column 91 (offset: 90))\\r\\n\"MATCH (c:character_variant), (s:tv_show) WHERE c.name = \\'Dapper Dan\\' AND s.title = \\'Can\\\\\\\\\\'t Front on Me\\' MERGE (c)-[r:in_serie]->(s)\"\\r\\n                                                                                           ^'), CypherSyntaxError('Invalid input \\' \\': expected \\'t/T\\' or \\'e/E\\' (line 1, column 111 (offset: 110))\\r\\n\"MATCH (c:character_variant), (s:tv_show) WHERE c.name = \\'Darius Davis/Dark Dimension\\' AND s.title = \\'Devil\\\\\\\\\\'s Torture Chamber\\' MERGE (c)-[r:in_serie]->(s)\"\\r\\n                                                                                                               ^'), CypherSyntaxError('Invalid input \\' \\': expected \\'t/T\\' or \\'e/E\\' (line 1, column 97 (offset: 96))\\r\\n\"MATCH (c:character_variant), (s:tv_show) WHERE c.name = \\'David Kurata\\' AND s.title = \\'AKA It\\\\\\\\\\'s Called Whiskey\\' MERGE (c)-[r:in_serie]->(s)\"\\r\\n                                                                                                 ^'), CypherSyntaxError('Invalid input \\' \\': expected \\'t/T\\' or \\'e/E\\' (line 1, column 103 (offset: 102))\\r\\n\"MATCH (c:character_variant), (s:tv_show) WHERE c.name = \\'Delia Robinson\\' AND s.title = \\'My Brother\\\\\\\\\\'s Keeper\\' MERGE (c)-[r:in_serie]->(s)\"\\r\\n                                                                                                       ^'), CypherSyntaxError('Invalid input \\'v\\': expected whitespace, \\'.\\', node labels or rel types, \\'[\\', \\'^\\', \\'*\\', \\'/\\', \\'%\\', \\'+\\', \\'-\\', \"=~\", IN, STARTS, ENDS, CONTAINS, IS, \\'=\\', \"<>\", \"!=\", \\'<\\', \\'>\\', \"<=\", \">=\", AND, XOR, OR, USE GRAPH, LOAD CSV, START, MATCH, UNWIND, MERGE, CREATE UNIQUE, CREATE, SET, DELETE, REMOVE, FOREACH, WITH, CALL, RETURN, UNION, \\';\\' or end of input (line 1, column 95 (offset: 94))\\r\\n\"MATCH (c:character_variant), (s:tv_show) WHERE c.name = \\'Diane Masagi\\' AND s.title = \\'AKA I\\\\\\\\\\'ve Got the Blues\\' MERGE (c)-[r:in_serie]->(s)\"\\r\\n                                                                                               ^'), CypherSyntaxError('Invalid input \\'p\\': expected \\'s/S\\' or \\'n/N\\' (line 1, column 100 (offset: 99))\\r\\n\"MATCH (c:character_variant), (s:tv_show) WHERE c.name = \\'Dolores Miller\\' AND s.title = \\'Blowin\\\\\\\\\\' Up the Spot\\' MERGE (c)-[r:in_serie]->(s)\"\\r\\n                                                                                                    ^'), CypherSyntaxError('Invalid input \\'h\\': expected \\'o/O\\', \\'r/R\\' or \\'a/A\\' (line 1, column 112 (offset: 111))\\r\\n\"MATCH (c:character_variant), (s:tv_show) WHERE c.name = \\'Drax/Ravager T Challa\\' AND s.title = \\'What If... T\\\\\\\\\\'Challa Became a Star\\\\\\\\-Lord?\\' MERGE (c)-[r:in_serie]->(s)\"\\r\\n                                                                                                                ^'), CypherSyntaxError('Invalid input \\'t\\': expected whitespace, \\'.\\', node labels or rel types, \\'[\\', \\'^\\', \\'*\\', \\'/\\', \\'%\\', \\'+\\', \\'-\\', \"=~\", IN, STARTS, ENDS, CONTAINS, IS, \\'=\\', \"<>\", \"!=\", \\'<\\', \\'>\\', \"<=\", \">=\", AND, XOR, OR, USE GRAPH, LOAD CSV, START, MATCH, UNWIND, MERGE, CREATE UNIQUE, CREATE, SET, DELETE, REMOVE, FOREACH, WITH, CALL, RETURN, UNION, \\';\\' or end of input (line 1, column 98 (offset: 97))\\r\\n\"MATCH (c:character_variant), (s:tv_show) WHERE c.name = \\'Earl Scarfe\\' AND s.title = \\'If It Ain\\\\\\\\\\'t Rough, It Ain\\\\\\\\\\'t Right\\' MERGE (c)-[r:in_serie]->(s)\"\\r\\n                                                                                                  ^'), CypherSyntaxError('Invalid input \\'h\\': expected \\'o/O\\', \\'r/R\\' or \\'a/A\\' (line 1, column 117 (offset: 116))\\r\\n\"MATCH (c:character_variant), (s:tv_show) WHERE c.name = \\'Ebony Maw/Ravager T Challa\\' AND s.title = \\'What If... T\\\\\\\\\\'Challa Became a Star\\\\\\\\-Lord?\\' MERGE (c)-[r:in_serie]->(s)\"\\r\\n                                                                                                                     ^'), CypherSyntaxError('Invalid input \\'t\\': expected whitespace, \\'.\\', node labels or rel types, \\'[\\', \\'^\\', \\'*\\', \\'/\\', \\'%\\', \\'+\\', \\'-\\', \"=~\", IN, STARTS, ENDS, CONTAINS, IS, \\'=\\', \"<>\", \"!=\", \\'<\\', \\'>\\', \"<=\", \">=\", AND, XOR, OR, USE GRAPH, LOAD CSV, START, MATCH, UNWIND, MERGE, CREATE UNIQUE, CREATE, SET, DELETE, REMOVE, FOREACH, WITH, CALL, RETURN, UNION, \\';\\' or end of input (line 1, column 92 (offset: 91))\\r\\n\"MATCH (c:character_variant), (s:tv_show) WHERE c.name = \\'Eddie Axton\\' AND s.title = \\'Can\\\\\\\\\\'t Front on Me\\' MERGE (c)-[r:in_serie]->(s)\"\\r\\n                                                                                            ^'), CypherSyntaxError('Invalid input \\'h\\': expected \\'o/O\\', \\'r/R\\' or \\'a/A\\' (line 1, column 111 (offset: 110))\\r\\n\"MATCH (c:character_variant), (s:tv_show) WHERE c.name = \\'Ego/Ravager T Challa\\' AND s.title = \\'What If... T\\\\\\\\\\'Challa Became a Star\\\\\\\\-Lord?\\' MERGE (c)-[r:in_serie]->(s)\"\\r\\n                                                                                                               ^'), CypherSyntaxError('Invalid input \\' \\': expected \\'t/T\\' or \\'e/E\\' (line 1, column 98 (offset: 97))\\r\\n\"MATCH (c:character_variant), (s:tv_show) WHERE c.name = \\'Eldrac\\' AND s.title = \\'The Gentleman\\\\\\\\\\'s Name is Gorgon\\' MERGE (c)-[r:in_serie]->(s)\"\\r\\n                                                                                                  ^'), CypherSyntaxError('Invalid input \\' \\': expected \\'t/T\\' or \\'e/E\\' (line 1, column 99 (offset: 98))\\r\\n\"MATCH (c:character_variant), (s:tv_show) WHERE c.name = \\'Elliot James\\' AND s.title = \\'New York\\\\\\\\\\'s Finest\\' MERGE (c)-[r:in_serie]->(s)\"\\r\\n                                                                                                   ^'), CypherSyntaxError('Invalid input \\' \\': expected \\'t/T\\' or \\'e/E\\' (line 1, column 90 (offset: 89))\\r\\n\"MATCH (c:character_variant), (s:tv_show) WHERE c.name = \\'Ellis\\' AND s.title = \\'Mother\\\\\\\\\\'s Little Helpers\\' MERGE (c)-[r:in_serie]->(s)\"\\r\\n                                                                                          ^'), CypherSyntaxError('Invalid input \\'t\\': expected whitespace, \\'.\\', node labels or rel types, \\'[\\', \\'^\\', \\'*\\', \\'/\\', \\'%\\', \\'+\\', \\'-\\', \"=~\", IN, STARTS, ENDS, CONTAINS, IS, \\'=\\', \"<>\", \"!=\", \\'<\\', \\'>\\', \"<=\", \">=\", AND, XOR, OR, USE GRAPH, LOAD CSV, START, MATCH, UNWIND, MERGE, CREATE UNIQUE, CREATE, SET, DELETE, REMOVE, FOREACH, WITH, CALL, RETURN, UNION, \\';\\' or end of input (line 1, column 90 (offset: 89))\\r\\n\"MATCH (c:character_variant), (s:tv_show) WHERE c.name = \\'Eric Hong\\' AND s.title = \\'Can\\\\\\\\\\'t Front on Me\\' MERGE (c)-[r:in_serie]->(s)\"\\r\\n                                                                                          ^'), CypherSyntaxError('Invalid input \\' \\': expected \\'t/T\\' or \\'e/E\\' (line 1, column 100 (offset: 99))\\r\\n\"MATCH (c:character_variant), (s:tv_show) WHERE c.name = \\'Ernst Erskine\\' AND s.title = \\'The City\\\\\\\\\\'s Not for Burning\\' MERGE (c)-[r:in_serie]->(s)\"\\r\\n                                                                                                    ^'), CypherSyntaxError('Invalid input \\'p\\': expected \\'s/S\\' or \\'n/N\\' (line 1, column 96 (offset: 95))\\r\\n\"MATCH (c:character_variant), (s:tv_show) WHERE c.name = \\'Etta Lucas\\' AND s.title = \\'Blowin\\\\\\\\\\' Up the Spot\\' MERGE (c)-[r:in_serie]->(s)\"\\r\\n                                                                                                ^'), CypherSyntaxError('Invalid input \\' \\': expected \\'t/T\\' or \\'e/E\\' (line 1, column 89 (offset: 88))\\r\\n\"MATCH (c:character_variant), (s:tv_show) WHERE c.name = \\'Evans\\' AND s.title = \\'World\\\\\\\\\\'s End\\' MERGE (c)-[r:in_serie]->(s)\"\\r\\n                                                                                         ^'), CypherSyntaxError('Invalid input \\' \\': expected \\'m/M\\' or \\'t/T\\' (line 1, column 112 (offset: 111))\\r\\n\"MATCH (c:character_variant), (s:tv_show) WHERE c.name = \\'Flint/Monolith Recreation\\' AND s.title = \\'What We\\\\\\\\\\'re Fighting For\\' MERGE (c)-[r:in_serie]->(s)\"\\r\\n                                                                                                                ^'), CypherSyntaxError('Invalid input \\'v\\': expected whitespace, \\'.\\', node labels or rel types, \\'[\\', \\'^\\', \\'*\\', \\'/\\', \\'%\\', \\'+\\', \\'-\\', \"=~\", IN, STARTS, ENDS, CONTAINS, IS, \\'=\\', \"<>\", \"!=\", \\'<\\', \\'>\\', \"<=\", \">=\", AND, XOR, OR, USE GRAPH, LOAD CSV, START, MATCH, UNWIND, MERGE, CREATE UNIQUE, CREATE, SET, DELETE, REMOVE, FOREACH, WITH, CALL, RETURN, UNION, \\';\\' or end of input (line 1, column 90 (offset: 89))\\r\\n\"MATCH (c:character_variant), (s:tv_show) WHERE c.name = \\'Fortner\\' AND s.title = \\'AKA I\\\\\\\\\\'ve Got the Blues\\' MERGE (c)-[r:in_serie]->(s)\"\\r\\n                                                                                          ^'), CypherSyntaxError('Invalid input \\'t\\': expected whitespace, \\'.\\', node labels or rel types, \\'[\\', \\'^\\', \\'*\\', \\'/\\', \\'%\\', \\'+\\', \\'-\\', \"=~\", IN, STARTS, ENDS, CONTAINS, IS, \\'=\\', \"<>\", \"!=\", \\'<\\', \\'>\\', \"<=\", \">=\", AND, XOR, OR, USE GRAPH, LOAD CSV, START, MATCH, UNWIND, MERGE, CREATE UNIQUE, CREATE, SET, DELETE, REMOVE, FOREACH, WITH, CALL, RETURN, UNION, \\';\\' or end of input (line 1, column 89 (offset: 88))\\r\\n\"MATCH (c:character_variant), (s:tv_show) WHERE c.name = \\'Franklin\\' AND s.title = \\'Don\\\\\\\\\\'t Touch That Dial\\' MERGE (c)-[r:in_serie]->(s)\"\\r\\n                                                                                         ^'), CypherSyntaxError('Invalid input \\'t\\': expected whitespace, \\'.\\', node labels or rel types, \\'[\\', \\'^\\', \\'*\\', \\'/\\', \\'%\\', \\'+\\', \\'-\\', \"=~\", IN, STARTS, ENDS, CONTAINS, IS, \\'=\\', \"<>\", \"!=\", \\'<\\', \\'>\\', \"<=\", \">=\", AND, XOR, OR, USE GRAPH, LOAD CSV, START, MATCH, UNWIND, MERGE, CREATE UNIQUE, CREATE, SET, DELETE, REMOVE, FOREACH, WITH, CALL, RETURN, UNION, \\';\\' or end of input (line 1, column 85 (offset: 84))\\r\\n\"MATCH (c:character_variant), (s:tv_show) WHERE c.name = \\'Fred\\' AND s.title = \\'Don\\\\\\\\\\'t Touch That Dial\\' MERGE (c)-[r:in_serie]->(s)\"\\r\\n                                                                                     ^'), CypherSyntaxError('Invalid input \\' \\': expected \\'t/T\\' or \\'e/E\\' (line 1, column 100 (offset: 99))\\r\\n\"MATCH (c:character_variant), (s:tv_show) WHERE c.name = \\'Freddie Bones\\' AND s.title = \\'New York\\\\\\\\\\'s Finest\\' MERGE (c)-[r:in_serie]->(s)\"\\r\\n                                                                                                    ^'), CypherSyntaxError('Invalid input \\' \\': expected \\'t/T\\' or \\'e/E\\' (line 1, column 116 (offset: 115))\\r\\n\"MATCH (c:character_variant), (s:tv_show) WHERE c.name = \\'Gideon Malick/Framework\\' AND s.title = \\'All the Madame\\\\\\\\\\'s Men\\' MERGE (c)-[r:in_serie]->(s)\"\\r\\n                                                                                                                    ^'), CypherSyntaxError('Invalid input \\' \\': expected \\'t/T\\' or \\'e/E\\' (line 1, column 100 (offset: 99))\\r\\n\"MATCH (c:character_variant), (s:tv_show) WHERE c.name = \\'Gordon/Framework\\' AND s.title = \\'World\\\\\\\\\\'s End\\' MERGE (c)-[r:in_serie]->(s)\"\\r\\n                                                                                                    ^'), CypherSyntaxError('Invalid input \\' \\': expected \\'m/M\\' or \\'t/T\\' (line 1, column 101 (offset: 100))\\r\\n\"MATCH (c:character_variant), (s:tv_show) WHERE c.name = \\'Grace Mulcahey\\' AND s.title = \\'What We\\\\\\\\\\'re Fighting For\\' MERGE (c)-[r:in_serie]->(s)\"\\r\\n                                                                                                     ^'), CypherSyntaxError('Invalid input \\' \\': expected \\'m/M\\' or \\'t/T\\' (line 1, column 93 (offset: 92))\\r\\n\"MATCH (c:character_variant), (s:tv_show) WHERE c.name = \\'Hannah\\' AND s.title = \\'AKA You\\\\\\\\\\'re Welcome\\' MERGE (c)-[r:in_serie]->(s)\"\\r\\n                                                                                             ^'), CypherSyntaxError('Invalid input \\' \\': expected \\'m/M\\' or \\'t/T\\' (line 1, column 93 (offset: 92))\\r\\n\"MATCH (c:character_variant), (s:tv_show) WHERE c.name = \\'Harvey\\' AND s.title = \\'AKA You\\\\\\\\\\'re a Winner!\\' MERGE (c)-[r:in_serie]->(s)\"\\r\\n                                                                                             ^'), CypherSyntaxError('Invalid input \\'t\\': expected whitespace, \\'.\\', node labels or rel types, \\'[\\', \\'^\\', \\'*\\', \\'/\\', \\'%\\', \\'+\\', \\'-\\', \"=~\", IN, STARTS, ENDS, CONTAINS, IS, \\'=\\', \"<>\", \"!=\", \\'<\\', \\'>\\', \"<=\", \">=\", AND, XOR, OR, USE GRAPH, LOAD CSV, START, MATCH, UNWIND, MERGE, CREATE UNIQUE, CREATE, SET, DELETE, REMOVE, FOREACH, WITH, CALL, RETURN, UNION, \\';\\' or end of input (line 1, column 91 (offset: 90))\\r\\n\"MATCH (c:character_variant), (s:tv_show) WHERE c.name = \\'Heather B.\\' AND s.title = \\'Can\\\\\\\\\\'t Front on Me\\' MERGE (c)-[r:in_serie]->(s)\"\\r\\n                                                                                           ^'), CypherSyntaxError('Invalid input \\'h\\': expected \\'o/O\\', \\'r/R\\' or \\'a/A\\' (line 1, column 112 (offset: 111))\\r\\n\"MATCH (c:character_variant), (s:tv_show) WHERE c.name = \\'Hela/Ravager T Challa\\' AND s.title = \\'What If... T\\\\\\\\\\'Challa Became a Star\\\\\\\\-Lord?\\' MERGE (c)-[r:in_serie]->(s)\"\\r\\n                                                                                                                ^'), CypherSyntaxError('Invalid input \\' \\': expected \\'t/T\\' or \\'e/E\\' (line 1, column 89 (offset: 88))\\r\\n\"MATCH (c:character_variant), (s:tv_show) WHERE c.name = \\'Hock\\' AND s.title = \\'Mother\\\\\\\\\\'s Little Helpers\\' MERGE (c)-[r:in_serie]->(s)\"\\r\\n                                                                                         ^'), CypherSyntaxError('Invalid input \\' \\': expected \\'t/T\\' or \\'e/E\\' (line 1, column 91 (offset: 90))\\r\\n\"MATCH (c:character_variant), (s:tv_show) WHERE c.name = \\'Holden\\' AND s.title = \\'AKA It\\\\\\\\\\'s Called Whiskey\\' MERGE (c)-[r:in_serie]->(s)\"\\r\\n                                                                                           ^'), CypherSyntaxError('Invalid input \\'h\\': expected \\'o/O\\', \\'r/R\\' or \\'a/A\\' (line 1, column 123 (offset: 122))\\r\\n\"MATCH (c:character_variant), (s:tv_show) WHERE c.name = \\'Howard the Duck/Ravager T Challa\\' AND s.title = \\'What If... T\\\\\\\\\\'Challa Became a Star\\\\\\\\-Lord?\\' MERGE (c)-[r:in_serie]->(s)\"\\r\\n                                                                                                                           ^'), CypherSyntaxError('Invalid input \\' \\': expected \\'t/T\\' or \\'e/E\\' (line 1, column 93 (offset: 92))\\r\\n\"MATCH (c:character_variant), (s:tv_show) WHERE c.name = \\'J. Lewis\\' AND s.title = \\'Mother\\\\\\\\\\'s Little Helpers\\' MERGE (c)-[r:in_serie]->(s)\"\\r\\n                                                                                             ^'), CypherSyntaxError('Invalid input \\' \\': expected \\'m/M\\' or \\'t/T\\' (line 1, column 115 (offset: 114))\\r\\n\"MATCH (c:character_variant), (s:tv_show) WHERE c.name = \\'James Davis/Life-Model Decoy\\' AND s.title = \\'What We\\\\\\\\\\'re Fighting For\\' MERGE (c)-[r:in_serie]->(s)\"\\r\\n                                                                                                                   ^'), CypherSyntaxError('Invalid input \\' \\': expected \\'t/T\\' or \\'e/E\\' (line 1, column 99 (offset: 98))\\r\\n\"MATCH (c:character_variant), (s:tv_show) WHERE c.name = \\'Jane (Patient)\\' AND s.title = \\'Mother\\\\\\\\\\'s Little Helpers\\' MERGE (c)-[r:in_serie]->(s)\"\\r\\n                                                                                                   ^'), CypherSyntaxError('Invalid input \\'t\\': expected whitespace, \\'.\\', node labels or rel types, \\'[\\', \\'^\\', \\'*\\', \\'/\\', \\'%\\', \\'+\\', \\'-\\', \"=~\", IN, STARTS, ENDS, CONTAINS, IS, \\'=\\', \"<>\", \"!=\", \\'<\\', \\'>\\', \"<=\", \">=\", AND, XOR, OR, USE GRAPH, LOAD CSV, START, MATCH, UNWIND, MERGE, CREATE UNIQUE, CREATE, SET, DELETE, REMOVE, FOREACH, WITH, CALL, RETURN, UNION, \\';\\' or end of input (line 1, column 98 (offset: 97))\\r\\n\"MATCH (c:character_variant), (s:tv_show) WHERE c.name = \\'Janis Jones\\' AND s.title = \\'If It Ain\\\\\\\\\\'t Rough, It Ain\\\\\\\\\\'t Right\\' MERGE (c)-[r:in_serie]->(s)\"\\r\\n                                                                                                  ^'), CypherSyntaxError('Invalid input \\' \\': expected \\'t/T\\' or \\'e/E\\' (line 1, column 114 (offset: 113))\\r\\n\"MATCH (c:character_variant), (s:tv_show) WHERE c.name = \\'Jemma Simmons/Life-Model Decoy\\' AND s.title = \\'World\\\\\\\\\\'s End\\' MERGE (c)-[r:in_serie]->(s)\"\\r\\n                                                                                                                  ^'), CypherSyntaxError('Invalid input \\' \\': expected \\'t/T\\' or \\'e/E\\' (line 1, column 102 (offset: 101))\\r\\n\"MATCH (c:character_variant), (s:tv_show) WHERE c.name = \\'Jerry (Veteran)\\' AND s.title = \\'New York\\\\\\\\\\'s Finest\\' MERGE (c)-[r:in_serie]->(s)\"\\r\\n                                                                                                      ^'), CypherSyntaxError('Invalid input \\' \\': expected \\'t/T\\' or \\'e/E\\' (line 1, column 101 (offset: 100))\\r\\n\"MATCH (c:character_variant), (s:tv_show) WHERE c.name = \\'Jimmy the Bear\\' AND s.title = \\'New York\\\\\\\\\\'s Finest\\' MERGE (c)-[r:in_serie]->(s)\"\\r\\n                                                                                                     ^'), CypherSyntaxError('Invalid input \\' \\': expected \\'t/T\\' or \\'e/E\\' (line 1, column 115 (offset: 114))\\r\\n\"MATCH (c:character_variant), (s:tv_show) WHERE c.name = \\'John Garrett/Framework\\' AND s.title = \\'All the Madame\\\\\\\\\\'s Men\\' MERGE (c)-[r:in_serie]->(s)\"\\r\\n                                                                                                                   ^'), CypherSyntaxError('Invalid input \\' \\': expected \\'t/T\\' or \\'e/E\\' (line 1, column 92 (offset: 91))\\r\\n\"MATCH (c:character_variant), (s:tv_show) WHERE c.name = \\'Julie\\' AND s.title = \\'The City\\\\\\\\\\'s Not for Burning\\' MERGE (c)-[r:in_serie]->(s)\"\\r\\n                                                                                            ^'), CypherSyntaxError('Invalid input \\'h\\': expected \\'o/O\\', \\'r/R\\' or \\'a/A\\' (line 1, column 92 (offset: 91))\\r\\n\"MATCH (c:character_variant), (s:tv_show) WHERE c.name = \\'K\\' AND s.title = \\'What If... T\\\\\\\\\\'Challa Became a Star\\\\\\\\-Lord?\\' MERGE (c)-[r:in_serie]->(s)\"\\r\\n                                                                                            ^'), CypherSyntaxError('Invalid input \\' \\': expected \\'t/T\\' or \\'e/E\\' (line 1, column 93 (offset: 92))\\r\\n\"MATCH (c:character_variant), (s:tv_show) WHERE c.name = \\'K. Myers\\' AND s.title = \\'Mother\\\\\\\\\\'s Little Helpers\\' MERGE (c)-[r:in_serie]->(s)\"\\r\\n                                                                                             ^'), CypherSyntaxError('Invalid input \\'h\\': expected \\'o/O\\', \\'r/R\\' or \\'a/A\\' (line 1, column 115 (offset: 114))\\r\\n\"MATCH (c:character_variant), (s:tv_show) WHERE c.name = \\'Kamaria/Ravager T Challa\\' AND s.title = \\'What If... T\\\\\\\\\\'Challa Became a Star\\\\\\\\-Lord?\\' MERGE (c)-[r:in_serie]->(s)\"\\r\\n                                                                                                                   ^'), CypherSyntaxError('Invalid input \\' \\': expected \\'t/T\\' or \\'e/E\\' (line 1, column 97 (offset: 96))\\r\\n\"MATCH (c:character_variant), (s:tv_show) WHERE c.name = \\'Keith Spivey\\' AND s.title = \\'Mother\\\\\\\\\\'s Little Helpers\\' MERGE (c)-[r:in_serie]->(s)\"\\r\\n                                                                                                 ^'), CypherSyntaxError('Invalid input \\' \\': expected \\'m/M\\' or \\'t/T\\' (line 1, column 108 (offset: 107))\\r\\n\"MATCH (c:character_variant), (s:tv_show) WHERE c.name = \\'Kerry Barden (Vendor)\\' AND s.title = \\'AKA You\\\\\\\\\\'re a Winner!\\' MERGE (c)-[r:in_serie]->(s)\"\\r\\n                                                                                                            ^'), CypherSyntaxError('Invalid input \\'t\\': expected whitespace, \\'.\\', node labels or rel types, \\'[\\', \\'^\\', \\'*\\', \\'/\\', \\'%\\', \\'+\\', \\'-\\', \"=~\", IN, STARTS, ENDS, CONTAINS, IS, \\'=\\', \"<>\", \"!=\", \\'<\\', \\'>\\', \"<=\", \">=\", AND, XOR, OR, USE GRAPH, LOAD CSV, START, MATCH, UNWIND, MERGE, CREATE UNIQUE, CREATE, SET, DELETE, REMOVE, FOREACH, WITH, CALL, RETURN, UNION, \\';\\' or end of input (line 1, column 85 (offset: 84))\\r\\n\"MATCH (c:character_variant), (s:tv_show) WHERE c.name = \\'Kiki\\' AND s.title = \\'Can\\\\\\\\\\'t Front on Me\\' MERGE (c)-[r:in_serie]->(s)\"\\r\\n                                                                                     ^'), CypherSyntaxError('Invalid input \\' \\': expected \\'m/M\\' or \\'t/T\\' (line 1, column 94 (offset: 93))\\r\\n\"MATCH (c:character_variant), (s:tv_show) WHERE c.name = \\'Kimball\\' AND s.title = \\'What We\\\\\\\\\\'re Fighting For\\' MERGE (c)-[r:in_serie]->(s)\"\\r\\n                                                                                              ^'), CypherSyntaxError('Invalid input \\' \\': expected \\'t/T\\' or \\'e/E\\' (line 1, column 95 (offset: 94))\\r\\n\"MATCH (c:character_variant), (s:tv_show) WHERE c.name = \\'King Arthur\\' AND s.title = \\'Devil\\\\\\\\\\'s Torture Chamber\\' MERGE (c)-[r:in_serie]->(s)\"\\r\\n                                                                                               ^'), CypherSyntaxError('Invalid input \\'h\\': expected \\'o/O\\', \\'r/R\\' or \\'a/A\\' (line 1, column 126 (offset: 125))\\r\\n\"MATCH (c:character_variant), (s:tv_show) WHERE c.name = \\'Korath the Pursuer/Ravager T Challa\\' AND s.title = \\'What If... T\\\\\\\\\\'Challa Became a Star\\\\\\\\-Lord?\\' MERGE (c)-[r:in_serie]->(s)\"\\r\\n                                                                                                                              ^'), CypherSyntaxError('Invalid input \\'h\\': expected \\'o/O\\', \\'r/R\\' or \\'a/A\\' (line 1, column 112 (offset: 111))\\r\\n\"MATCH (c:character_variant), (s:tv_show) WHERE c.name = \\'Korg/Ravager T Challa\\' AND s.title = \\'What If... T\\\\\\\\\\'Challa Became a Star\\\\\\\\-Lord?\\' MERGE (c)-[r:in_serie]->(s)\"\\r\\n                                                                                                                ^'), CypherSyntaxError('Invalid input \\'h\\': expected \\'o/O\\', \\'r/R\\' or \\'a/A\\' (line 1, column 125 (offset: 124))\\r\\n\"MATCH (c:character_variant), (s:tv_show) WHERE c.name = \\'Kraglin Obfonteri/Ravager T Challa\\' AND s.title = \\'What If... T\\\\\\\\\\'Challa Became a Star\\\\\\\\-Lord?\\' MERGE (c)-[r:in_serie]->(s)\"\\r\\n                                                                                                                             ^'), CypherSyntaxError('Invalid input \\'t\\': expected whitespace, \\'.\\', node labels or rel types, \\'[\\', \\'^\\', \\'*\\', \\'/\\', \\'%\\', \\'+\\', \\'-\\', \"=~\", IN, STARTS, ENDS, CONTAINS, IS, \\'=\\', \"<>\", \"!=\", \\'<\\', \\'>\\', \"<=\", \">=\", AND, XOR, OR, USE GRAPH, LOAD CSV, START, MATCH, UNWIND, MERGE, CREATE UNIQUE, CREATE, SET, DELETE, REMOVE, FOREACH, WITH, CALL, RETURN, UNION, \\';\\' or end of input (line 1, column 88 (offset: 87))\\r\\n\"MATCH (c:character_variant), (s:tv_show) WHERE c.name = \\'KRS-One\\' AND s.title = \\'Can\\\\\\\\\\'t Front on Me\\' MERGE (c)-[r:in_serie]->(s)\"\\r\\n                                                                                        ^'), CypherSyntaxError('Invalid input \\' \\': expected \\'t/T\\' or \\'e/E\\' (line 1, column 90 (offset: 89))\\r\\n\"MATCH (c:character_variant), (s:tv_show) WHERE c.name = \\'Kusuma\\' AND s.title = \\'World\\\\\\\\\\'s End\\' MERGE (c)-[r:in_serie]->(s)\"\\r\\n                                                                                          ^'), CypherSyntaxError('Invalid input \\' \\': expected \\'t/T\\' or \\'e/E\\' (line 1, column 98 (offset: 97))\\r\\n\"MATCH (c:character_variant), (s:tv_show) WHERE c.name = \\'Laura\\' AND s.title = \\'All the Madame\\\\\\\\\\'s Men\\' MERGE (c)-[r:in_serie]->(s)\"\\r\\n                                                                                                  ^'), CypherSyntaxError('Invalid input \\' \\': expected \\'m/M\\' or \\'t/T\\' (line 1, column 97 (offset: 96))\\r\\n\"MATCH (c:character_variant), (s:tv_show) WHERE c.name = \\'Len Sirkes\\' AND s.title = \\'AKA You\\\\\\\\\\'re a Winner!\\' MERGE (c)-[r:in_serie]->(s)\"\\r\\n                                                                                                 ^'), CypherSyntaxError('Invalid input \\' \\': expected \\'t/T\\' or \\'e/E\\' (line 1, column 91 (offset: 90))\\r\\n\"MATCH (c:character_variant), (s:tv_show) WHERE c.name = \\'Liddle\\' AND s.title = \\'Mother\\\\\\\\\\'s Little Helpers\\' MERGE (c)-[r:in_serie]->(s)\"\\r\\n                                                                                           ^'), CypherSyntaxError('Invalid input \\' \\': expected \\'m/M\\' or \\'t/T\\' (line 1, column 90 (offset: 89))\\r\\n\"MATCH (c:character_variant), (s:tv_show) WHERE c.name = \\'Lin\\' AND s.title = \\'AKA You\\\\\\\\\\'re a Winner!\\' MERGE (c)-[r:in_serie]->(s)\"\\r\\n                                                                                          ^'), CypherSyntaxError('Invalid input \\' \\': expected \\'t/T\\' or \\'e/E\\' (line 1, column 110 (offset: 109))\\r\\n\"MATCH (c:character_variant), (s:tv_show) WHERE c.name = \\'Lincoln Campbell/Framework\\' AND s.title = \\'World\\\\\\\\\\'s End\\' MERGE (c)-[r:in_serie]->(s)\"\\r\\n                                                                                                              ^'), CypherSyntaxError('Invalid input \\'t\\': expected whitespace, \\'.\\', node labels or rel types, \\'[\\', \\'^\\', \\'*\\', \\'/\\', \\'%\\', \\'+\\', \\'-\\', \"=~\", IN, STARTS, ENDS, CONTAINS, IS, \\'=\\', \"<>\", \"!=\", \\'<\\', \\'>\\', \"<=\", \">=\", AND, XOR, OR, USE GRAPH, LOAD CSV, START, MATCH, UNWIND, MERGE, CREATE UNIQUE, CREATE, SET, DELETE, REMOVE, FOREACH, WITH, CALL, RETURN, UNION, \\';\\' or end of input (line 1, column 97 (offset: 96))\\r\\n\"MATCH (c:character_variant), (s:tv_show) WHERE c.name = \\'Linda (Neighbor)\\' AND s.title = \\'Don\\\\\\\\\\'t Touch That Dial\\' MERGE (c)-[r:in_serie]->(s)\"\\r\\n                                                                                                 ^'), CypherSyntaxError('Invalid input \\' \\': expected \\'m/M\\' or \\'t/T\\' (line 1, column 92 (offset: 91))\\r\\n\"MATCH (c:character_variant), (s:tv_show) WHERE c.name = \\'Lopes\\' AND s.title = \\'Now You\\\\\\\\\\'re Mine\\' MERGE (c)-[r:in_serie]->(s)\"\\r\\n                                                                                            ^'), CypherSyntaxError('Invalid input \\' \\': expected \\'m/M\\' or \\'t/T\\' (line 1, column 102 (offset: 101))\\r\\n\"MATCH (c:character_variant), (s:tv_show) WHERE c.name = \\'Madeline Brandt\\' AND s.title = \\'AKA You\\\\\\\\\\'re Welcome\\' MERGE (c)-[r:in_serie]->(s)\"\\r\\n                                                                                                      ^'), CypherSyntaxError('Invalid input \\'h\\': expected \\'o/O\\', \\'r/R\\' or \\'a/A\\' (line 1, column 116 (offset: 115))\\r\\n\"MATCH (c:character_variant), (s:tv_show) WHERE c.name = \\'Malekith/Ravager T Challa\\' AND s.title = \\'What If... T\\\\\\\\\\'Challa Became a Star\\\\\\\\-Lord?\\' MERGE (c)-[r:in_serie]->(s)\"\\r\\n                                                                                                                    ^'), CypherSyntaxError('Invalid input \\'t\\': expected whitespace, \\'.\\', node labels or rel types, \\'[\\', \\'^\\', \\'*\\', \\'/\\', \\'%\\', \\'+\\', \\'-\\', \"=~\", IN, STARTS, ENDS, CONTAINS, IS, \\'=\\', \"<>\", \"!=\", \\'<\\', \\'>\\', \"<=\", \">=\", AND, XOR, OR, USE GRAPH, LOAD CSV, START, MATCH, UNWIND, MERGE, CREATE UNIQUE, CREATE, SET, DELETE, REMOVE, FOREACH, WITH, CALL, RETURN, UNION, \\';\\' or end of input (line 1, column 100 (offset: 99))\\r\\n\"MATCH (c:character_variant), (s:tv_show) WHERE c.name = \\'Mamie Johnson\\' AND s.title = \\'If It Ain\\\\\\\\\\'t Rough, It Ain\\\\\\\\\\'t Right\\' MERGE (c)-[r:in_serie]->(s)\"\\r\\n                                                                                                    ^'), CypherSyntaxError('Invalid input \\'p\\': expected \\'s/S\\' or \\'n/N\\' (line 1, column 91 (offset: 90))\\r\\n\"MATCH (c:character_variant), (s:tv_show) WHERE c.name = \\'Manny\\' AND s.title = \\'Blowin\\\\\\\\\\' Up the Spot\\' MERGE (c)-[r:in_serie]->(s)\"\\r\\n                                                                                           ^'), CypherSyntaxError('Invalid input \\'v\\': expected whitespace, \\'.\\', node labels or rel types, \\'[\\', \\'^\\', \\'*\\', \\'/\\', \\'%\\', \\'+\\', \\'-\\', \"=~\", IN, STARTS, ENDS, CONTAINS, IS, \\'=\\', \"<>\", \"!=\", \\'<\\', \\'>\\', \"<=\", \">=\", AND, XOR, OR, USE GRAPH, LOAD CSV, START, MATCH, UNWIND, MERGE, CREATE UNIQUE, CREATE, SET, DELETE, REMOVE, FOREACH, WITH, CALL, RETURN, UNION, \\';\\' or end of input (line 1, column 90 (offset: 89))\\r\\n\"MATCH (c:character_variant), (s:tv_show) WHERE c.name = \\'McManus\\' AND s.title = \\'AKA I\\\\\\\\\\'ve Got the Blues\\' MERGE (c)-[r:in_serie]->(s)\"\\r\\n                                                                                          ^'), CypherSyntaxError('Invalid input \\' \\': expected \\'m/M\\' or \\'t/T\\' (line 1, column 98 (offset: 97))\\r\\n\"MATCH (c:character_variant), (s:tv_show) WHERE c.name = \\'Mike O Shea\\' AND s.title = \\'AKA You\\\\\\\\\\'re a Winner!\\' MERGE (c)-[r:in_serie]->(s)\"\\r\\n                                                                                                  ^'), CypherSyntaxError('Invalid input \\' \\': expected \\'t/T\\' or \\'e/E\\' (line 1, column 114 (offset: 113))\\r\\n\"MATCH (c:character_variant), (s:tv_show) WHERE c.name = \\'Molly Hernandez/Dark Dimension\\' AND s.title = \\'Devil\\\\\\\\\\'s Torture Chamber\\' MERGE (c)-[r:in_serie]->(s)\"\\r\\n                                                                                                                  ^'), CypherSyntaxError('Invalid input \\'t\\': expected whitespace, \\'.\\', node labels or rel types, \\'[\\', \\'^\\', \\'*\\', \\'/\\', \\'%\\', \\'+\\', \\'-\\', \"=~\", IN, STARTS, ENDS, CONTAINS, IS, \\'=\\', \"<>\", \"!=\", \\'<\\', \\'>\\', \"<=\", \">=\", AND, XOR, OR, USE GRAPH, LOAD CSV, START, MATCH, UNWIND, MERGE, CREATE UNIQUE, CREATE, SET, DELETE, REMOVE, FOREACH, WITH, CALL, RETURN, UNION, \\';\\' or end of input (line 1, column 101 (offset: 100))\\r\\n\"MATCH (c:character_variant), (s:tv_show) WHERE c.name = \\'Mouse (Styler)\\' AND s.title = \\'If It Ain\\\\\\\\\\'t Rough, It Ain\\\\\\\\\\'t Right\\' MERGE (c)-[r:in_serie]->(s)\"\\r\\n                                                                                                     ^'), CypherSyntaxError('Invalid input \\' \\': expected \\'t/T\\' or \\'e/E\\' (line 1, column 96 (offset: 95))\\r\\n\"MATCH (c:character_variant), (s:tv_show) WHERE c.name = \\'Mr. Cavallo\\' AND s.title = \\'Mother\\\\\\\\\\'s Little Helpers\\' MERGE (c)-[r:in_serie]->(s)\"\\r\\n                                                                                                ^'), CypherSyntaxError('Invalid input \\' \\': expected \\'t/T\\' or \\'e/E\\' (line 1, column 97 (offset: 96))\\r\\n\"MATCH (c:character_variant), (s:tv_show) WHERE c.name = \\'Mrs. Cavallo\\' AND s.title = \\'Mother\\\\\\\\\\'s Little Helpers\\' MERGE (c)-[r:in_serie]->(s)\"\\r\\n                                                                                                 ^'), CypherSyntaxError('Invalid input \\' \\': expected \\'t/T\\' or \\'e/E\\' (line 1, column 112 (offset: 111))\\r\\n\"MATCH (c:character_variant), (s:tv_show) WHERE c.name = \\'Mrs. Fitz/Framework\\' AND s.title = \\'All the Madame\\\\\\\\\\'s Men\\' MERGE (c)-[r:in_serie]->(s)\"\\r\\n                                                                                                                ^'), CypherSyntaxError('Invalid input \\' \\': expected \\'t/T\\' or \\'e/E\\' (line 1, column 101 (offset: 100))\\r\\n\"MATCH (c:character_variant), (s:tv_show) WHERE c.name = \\'Mrs. Lee\\' AND s.title = \\'All the Madame\\\\\\\\\\'s Men\\' MERGE (c)-[r:in_serie]->(s)\"\\r\\n                                                                                                     ^'), CypherSyntaxError('Invalid input \\' \\': expected \\'m/M\\' or \\'t/T\\' (line 1, column 104 (offset: 103))\\r\\n\"MATCH (c:character_variant), (s:tv_show) WHERE c.name = \\'Myers and Krueger\\' AND s.title = \\'AKA You\\\\\\\\\\'re a Winner!\\' MERGE (c)-[r:in_serie]->(s)\"\\r\\n                                                                                                        ^'), CypherSyntaxError('Invalid input \\'h\\': expected \\'o/O\\', \\'r/R\\' or \\'a/A\\' (line 1, column 114 (offset: 113))\\r\\n\"MATCH (c:character_variant), (s:tv_show) WHERE c.name = \\'Nebula/Ravager T Challa\\' AND s.title = \\'What If... T\\\\\\\\\\'Challa Became a Star\\\\\\\\-Lord?\\' MERGE (c)-[r:in_serie]->(s)\"\\r\\n                                                                                                                  ^'), CypherSyntaxError('Invalid input \\' \\': expected \\'t/T\\' or \\'e/E\\' (line 1, column 112 (offset: 111))\\r\\n\"MATCH (c:character_variant), (s:tv_show) WHERE c.name = \\'Nick Fury/Framework\\' AND s.title = \\'All the Madame\\\\\\\\\\'s Men\\' MERGE (c)-[r:in_serie]->(s)\"\\r\\n                                                                                                                ^'), CypherSyntaxError('Invalid input \\' \\': expected \\'t/T\\' or \\'e/E\\' (line 1, column 98 (offset: 97))\\r\\n\"MATCH (c:character_variant), (s:tv_show) WHERE c.name = \\'Nicole Kent\\' AND s.title = \\'New York\\\\\\\\\\'s Finest\\' MERGE (c)-[r:in_serie]->(s)\"\\r\\n                                                                                                  ^'), CypherSyntaxError('Invalid input \\'h\\': expected \\'o/O\\', \\'r/R\\' or \\'a/A\\' (line 1, column 113 (offset: 112))\\r\\n\"MATCH (c:character_variant), (s:tv_show) WHERE c.name = \\'Okoye/Ravager T Challa\\' AND s.title = \\'What If... T\\\\\\\\\\'Challa Became a Star\\\\\\\\-Lord?\\' MERGE (c)-[r:in_serie]->(s)\"\\r\\n                                                                                                                 ^'), CypherSyntaxError('Invalid input \\'h\\': expected \\'o/O\\', \\'r/R\\' or \\'a/A\\' (line 1, column 114 (offset: 113))\\r\\n\"MATCH (c:character_variant), (s:tv_show) WHERE c.name = \\'Ovette/Ravager T Challa\\' AND s.title = \\'What If... T\\\\\\\\\\'Challa Became a Star\\\\\\\\-Lord?\\' MERGE (c)-[r:in_serie]->(s)\"\\r\\n                                                                                                                  ^'), CypherSyntaxError('Invalid input \\'t\\': expected whitespace, \\'.\\', node labels or rel types, \\'[\\', \\'^\\', \\'*\\', \\'/\\', \\'%\\', \\'+\\', \\'-\\', \"=~\", IN, STARTS, ENDS, CONTAINS, IS, \\'=\\', \"<>\", \"!=\", \\'<\\', \\'>\\', \"<=\", \">=\", AND, XOR, OR, USE GRAPH, LOAD CSV, START, MATCH, UNWIND, MERGE, CREATE UNIQUE, CREATE, SET, DELETE, REMOVE, FOREACH, WITH, CALL, RETURN, UNION, \\';\\' or end of input (line 1, column 91 (offset: 90))\\r\\n\"MATCH (c:character_variant), (s:tv_show) WHERE c.name = \\'Peter Hong\\' AND s.title = \\'Can\\\\\\\\\\'t Front on Me\\' MERGE (c)-[r:in_serie]->(s)\"\\r\\n                                                                                           ^'), CypherSyntaxError('Invalid input \\'h\\': expected \\'o/O\\', \\'r/R\\' or \\'a/A\\' (line 1, column 119 (offset: 118))\\r\\n\"MATCH (c:character_variant), (s:tv_show) WHERE c.name = \\'Peter Quill/Ravager T Challa\\' AND s.title = \\'What If... T\\\\\\\\\\'Challa Became a Star\\\\\\\\-Lord?\\' MERGE (c)-[r:in_serie]->(s)\"\\r\\n                                                                                                                       ^'), CypherSyntaxError('Invalid input \\' \\': expected \\'t/T\\' or \\'e/E\\' (line 1, column 92 (offset: 91))\\r\\n\"MATCH (c:character_variant), (s:tv_show) WHERE c.name = \\'Priya\\' AND s.title = \\'The City\\\\\\\\\\'s Not for Burning\\' MERGE (c)-[r:in_serie]->(s)\"\\r\\n                                                                                            ^'), CypherSyntaxError('Invalid input \\'h\\': expected \\'o/O\\', \\'r/R\\' or \\'a/A\\' (line 1, column 124 (offset: 123))\\r\\n\"MATCH (c:character_variant), (s:tv_show) WHERE c.name = \\'Proxima Midnight/Ravager T Challa\\' AND s.title = \\'What If... T\\\\\\\\\\'Challa Became a Star\\\\\\\\-Lord?\\' MERGE (c)-[r:in_serie]->(s)\"\\r\\n                                                                                                                            ^'), CypherSyntaxError('Invalid input \\'h\\': expected \\'o/O\\', \\'r/R\\' or \\'a/A\\' (line 1, column 115 (offset: 114))\\r\\n\"MATCH (c:character_variant), (s:tv_show) WHERE c.name = \\'Ramonda/Ravager T Challa\\' AND s.title = \\'What If... T\\\\\\\\\\'Challa Became a Star\\\\\\\\-Lord?\\' MERGE (c)-[r:in_serie]->(s)\"\\r\\n                                                                                                                   ^'), CypherSyntaxError('Invalid input \\' \\': expected \\'t/T\\' or \\'e/E\\' (line 1, column 99 (offset: 98))\\r\\n\"MATCH (c:character_variant), (s:tv_show) WHERE c.name = \\'Rebecca Torres\\' AND s.title = \\'Mother\\\\\\\\\\'s Little Helpers\\' MERGE (c)-[r:in_serie]->(s)\"\\r\\n                                                                                                   ^'), CypherSyntaxError('Invalid input \\' \\': expected \\'m/M\\' or \\'t/T\\' (line 1, column 99 (offset: 98))\\r\\n\"MATCH (c:character_variant), (s:tv_show) WHERE c.name = \\'Reid Pearson\\' AND s.title = \\'AKA You\\\\\\\\\\'re Welcome\\' MERGE (c)-[r:in_serie]->(s)\"\\r\\n                                                                                                   ^'), CypherSyntaxError('Invalid input \\'t\\': expected whitespace, \\'.\\', node labels or rel types, \\'[\\', \\'^\\', \\'*\\', \\'/\\', \\'%\\', \\'+\\', \\'-\\', \"=~\", IN, STARTS, ENDS, CONTAINS, IS, \\'=\\', \"<>\", \"!=\", \\'<\\', \\'>\\', \"<=\", \">=\", AND, XOR, OR, USE GRAPH, LOAD CSV, START, MATCH, UNWIND, MERGE, CREATE UNIQUE, CREATE, SET, DELETE, REMOVE, FOREACH, WITH, CALL, RETURN, UNION, \\';\\' or end of input (line 1, column 92 (offset: 91))\\r\\n\"MATCH (c:character_variant), (s:tv_show) WHERE c.name = \\'Ritchie\\' AND s.title = \\'AKA Ain\\\\\\\\\\'t We Got Fun\\' MERGE (c)-[r:in_serie]->(s)\"\\r\\n                                                                                            ^'), CypherSyntaxError('Invalid input \\'t\\': expected whitespace, \\'.\\', node labels or rel types, \\'[\\', \\'^\\', \\'*\\', \\'/\\', \\'%\\', \\'+\\', \\'-\\', \"=~\", IN, STARTS, ENDS, CONTAINS, IS, \\'=\\', \"<>\", \"!=\", \\'<\\', \\'>\\', \"<=\", \">=\", AND, XOR, OR, USE GRAPH, LOAD CSV, START, MATCH, UNWIND, MERGE, CREATE UNIQUE, CREATE, SET, DELETE, REMOVE, FOREACH, WITH, CALL, RETURN, UNION, \\';\\' or end of input (line 1, column 101 (offset: 100))\\r\\n\"MATCH (c:character_variant), (s:tv_show) WHERE c.name = \\'Romeo (Rivals)\\' AND s.title = \\'If It Ain\\\\\\\\\\'t Rough, It Ain\\\\\\\\\\'t Right\\' MERGE (c)-[r:in_serie]->(s)\"\\r\\n                                                                                                     ^'), CypherSyntaxError('Invalid input \\'h\\': expected \\'o/O\\', \\'r/R\\' or \\'a/A\\' (line 1, column 125 (offset: 124))\\r\\n\"MATCH (c:character_variant), (s:tv_show) WHERE c.name = \\'Ronan the Accuser/Ravager T Challa\\' AND s.title = \\'What If... T\\\\\\\\\\'Challa Became a Star\\\\\\\\-Lord?\\' MERGE (c)-[r:in_serie]->(s)\"\\r\\n                                                                                                                             ^'), CypherSyntaxError('Invalid input \\' \\': expected \\'t/T\\' or \\'e/E\\' (line 1, column 105 (offset: 104))\\r\\n\"MATCH (c:character_variant), (s:tv_show) WHERE c.name = \\'Rose (Police)\\' AND s.title = \\'The Gentleman\\\\\\\\\\'s Name is Gorgon\\' MERGE (c)-[r:in_serie]->(s)\"\\r\\n                                                                                                         ^'), CypherSyntaxError('Invalid input \\' \\': expected \\'t/T\\' or \\'e/E\\' (line 1, column 104 (offset: 103))\\r\\n\"MATCH (c:character_variant), (s:tv_show) WHERE c.name = \\'Rose (Tatto Artist)\\' AND s.title = \\'Mother\\\\\\\\\\'s Little Helpers\\' MERGE (c)-[r:in_serie]->(s)\"\\r\\n                                                                                                        ^'), CypherSyntaxError('Invalid input \\' \\': expected \\'m/M\\' or \\'t/T\\' (line 1, column 107 (offset: 106))\\r\\n\"MATCH (c:character_variant), (s:tv_show) WHERE c.name = \\'Sasha (Clothing Rep)\\' AND s.title = \\'AKA You\\\\\\\\\\'re Welcome\\' MERGE (c)-[r:in_serie]->(s)\"\\r\\n                                                                                                           ^'), CypherSyntaxError('Invalid input \\'p\\': expected \\'s/S\\' or \\'n/N\\' (line 1, column 97 (offset: 96))\\r\\n\"MATCH (c:character_variant), (s:tv_show) WHERE c.name = \\'Sean Miller\\' AND s.title = \\'Blowin\\\\\\\\\\' Up the Spot\\' MERGE (c)-[r:in_serie]->(s)\"\\r\\n                                                                                                 ^'), CypherSyntaxError('Invalid input \\' \\': expected \\'m/M\\' or \\'t/T\\' (line 1, column 99 (offset: 98))\\r\\n\"MATCH (c:character_variant), (s:tv_show) WHERE c.name = \\'Serena Grier\\' AND s.title = \\'AKA You\\\\\\\\\\'re a Winner!\\' MERGE (c)-[r:in_serie]->(s)\"\\r\\n                                                                                                   ^'), CypherSyntaxError('Invalid input \\' \\': expected \\'t/T\\' or \\'e/E\\' (line 1, column 98 (offset: 97))\\r\\n\"MATCH (c:character_variant), (s:tv_show) WHERE c.name = \\'Sergei Mishkin\\' AND s.title = \\'World\\\\\\\\\\'s End\\' MERGE (c)-[r:in_serie]->(s)\"\\r\\n                                                                                                  ^'), CypherSyntaxError('Invalid input \\' \\': expected \\'t/T\\' or \\'e/E\\' (line 1, column 115 (offset: 114))\\r\\n\"MATCH (c:character_variant), (s:tv_show) WHERE c.name = \\'Sergei Mishkin/Life-Model Decoy\\' AND s.title = \\'World\\\\\\\\\\'s End\\' MERGE (c)-[r:in_serie]->(s)\"\\r\\n                                                                                                                   ^'), CypherSyntaxError('Invalid input \\'t\\': expected whitespace, \\'.\\', node labels or rel types, \\'[\\', \\'^\\', \\'*\\', \\'/\\', \\'%\\', \\'+\\', \\'-\\', \"=~\", IN, STARTS, ENDS, CONTAINS, IS, \\'=\\', \"<>\", \"!=\", \\'<\\', \\'>\\', \"<=\", \">=\", AND, XOR, OR, USE GRAPH, LOAD CSV, START, MATCH, UNWIND, MERGE, CREATE UNIQUE, CREATE, SET, DELETE, REMOVE, FOREACH, WITH, CALL, RETURN, UNION, \\';\\' or end of input (line 1, column 95 (offset: 94))\\r\\n\"MATCH (c:character_variant), (s:tv_show) WHERE c.name = \\'Señor Scratchy\\' AND s.title = \\'Don\\\\\\\\\\'t Touch That Dial\\' MERGE (c)-[r:in_serie]->(s)\"\\r\\n                                                                                               ^'), CypherSyntaxError('Invalid input \\'t\\': expected whitespace, \\'.\\', node labels or rel types, \\'[\\', \\'^\\', \\'*\\', \\'/\\', \\'%\\', \\'+\\', \\'-\\', \"=~\", IN, STARTS, ENDS, CONTAINS, IS, \\'=\\', \"<>\", \"!=\", \\'<\\', \\'>\\', \"<=\", \">=\", AND, XOR, OR, USE GRAPH, LOAD CSV, START, MATCH, UNWIND, MERGE, CREATE UNIQUE, CREATE, SET, DELETE, REMOVE, FOREACH, WITH, CALL, RETURN, UNION, \\';\\' or end of input (line 1, column 99 (offset: 98))\\r\\n\"MATCH (c:character_variant), (s:tv_show) WHERE c.name = \\'Shaw (Coach)\\' AND s.title = \\'If It Ain\\\\\\\\\\'t Rough, It Ain\\\\\\\\\\'t Right\\' MERGE (c)-[r:in_serie]->(s)\"\\r\\n                                                                                                   ^'), CypherSyntaxError('Invalid input \\'h\\': expected \\'o/O\\', \\'r/R\\' or \\'a/A\\' (line 1, column 113 (offset: 112))\\r\\n\"MATCH (c:character_variant), (s:tv_show) WHERE c.name = \\'Shuri/Ravager T Challa\\' AND s.title = \\'What If... T\\\\\\\\\\'Challa Became a Star\\\\\\\\-Lord?\\' MERGE (c)-[r:in_serie]->(s)\"\\r\\n                                                                                                                 ^'), CypherSyntaxError('Invalid input \\' \\': expected \\'m/M\\' or \\'t/T\\' (line 1, column 99 (offset: 98))\\r\\n\"MATCH (c:character_variant), (s:tv_show) WHERE c.name = \\'Sissy Garcia\\' AND s.title = \\'AKA You\\\\\\\\\\'re a Winner!\\' MERGE (c)-[r:in_serie]->(s)\"\\r\\n                                                                                                   ^'), CypherSyntaxError('Invalid input \\' \\': expected \\'t/T\\' or \\'e/E\\' (line 1, column 93 (offset: 92))\\r\\n\"MATCH (c:character_variant), (s:tv_show) WHERE c.name = \\'Spokes\\' AND s.title = \\'The City\\\\\\\\\\'s Not for Burning\\' MERGE (c)-[r:in_serie]->(s)\"\\r\\n                                                                                             ^'), CypherSyntaxError('Invalid input \\'h\\': expected \\'o/O\\', \\'r/R\\' or \\'a/A\\' (line 1, column 117 (offset: 116))\\r\\n\"MATCH (c:character_variant), (s:tv_show) WHERE c.name = \\'Star-Lord/Ravager T Challa\\' AND s.title = \\'What If... T\\\\\\\\\\'Challa Became a Star\\\\\\\\-Lord?\\' MERGE (c)-[r:in_serie]->(s)\"\\r\\n                                                                                                                     ^'), CypherSyntaxError('Invalid input \\' \\': expected \\'t/T\\' or \\'e/E\\' (line 1, column 91 (offset: 90))\\r\\n\"MATCH (c:character_variant), (s:tv_show) WHERE c.name = \\'Steven\\' AND s.title = \\'Mother\\\\\\\\\\'s Little Helpers\\' MERGE (c)-[r:in_serie]->(s)\"\\r\\n                                                                                           ^'), CypherSyntaxError('Invalid input \\' \\': expected \\'t/T\\' or \\'e/E\\' (line 1, column 115 (offset: 114))\\r\\n\"MATCH (c:character_variant), (s:tv_show) WHERE c.name = \\'Sunil Bakshi/Framework\\' AND s.title = \\'All the Madame\\\\\\\\\\'s Men\\' MERGE (c)-[r:in_serie]->(s)\"\\r\\n                                                                                                                   ^'), CypherSyntaxError('Invalid input \\'t\\': expected whitespace, \\'.\\', node labels or rel types, \\'[\\', \\'^\\', \\'*\\', \\'/\\', \\'%\\', \\'+\\', \\'-\\', \"=~\", IN, STARTS, ENDS, CONTAINS, IS, \\'=\\', \"<>\", \"!=\", \\'<\\', \\'>\\', \"<=\", \">=\", AND, XOR, OR, USE GRAPH, LOAD CSV, START, MATCH, UNWIND, MERGE, CREATE UNIQUE, CREATE, SET, DELETE, REMOVE, FOREACH, WITH, CALL, RETURN, UNION, \\';\\' or end of input (line 1, column 94 (offset: 93))\\r\\n\"MATCH (c:character_variant), (s:tv_show) WHERE c.name = \\'Sway Calloway\\' AND s.title = \\'Can\\\\\\\\\\'t Front on Me\\' MERGE (c)-[r:in_serie]->(s)\"\\r\\n                                                                                              ^'), CypherSyntaxError('Invalid input \\'h\\': expected \\'o/O\\', \\'r/R\\' or \\'a/A\\' (line 1, column 115 (offset: 114))\\r\\n\"MATCH (c:character_variant), (s:tv_show) WHERE c.name = \\'T Chaka/Ravager T Challa\\' AND s.title = \\'What If... T\\\\\\\\\\'Challa Became a Star\\\\\\\\-Lord?\\' MERGE (c)-[r:in_serie]->(s)\"\\r\\n                                                                                                                   ^'), CypherSyntaxError('Invalid input \\'h\\': expected \\'o/O\\', \\'r/R\\' or \\'a/A\\' (line 1, column 117 (offset: 116))\\r\\n\"MATCH (c:character_variant), (s:tv_show) WHERE c.name = \\'Taserface/Ravager T Challa\\' AND s.title = \\'What If... T\\\\\\\\\\'Challa Became a Star\\\\\\\\-Lord?\\' MERGE (c)-[r:in_serie]->(s)\"\\r\\n                                                                                                                     ^'), CypherSyntaxError('Invalid input \\' \\': expected \\'t/T\\' or \\'e/E\\' (line 1, column 92 (offset: 91))\\r\\n\"MATCH (c:character_variant), (s:tv_show) WHERE c.name = \\'Terrazi\\' AND s.title = \\'Mother\\\\\\\\\\'s Little Helpers\\' MERGE (c)-[r:in_serie]->(s)\"\\r\\n                                                                                            ^'), CypherSyntaxError('Invalid input \\'h\\': expected \\'o/O\\', \\'r/R\\' or \\'a/A\\' (line 1, column 114 (offset: 113))\\r\\n\"MATCH (c:character_variant), (s:tv_show) WHERE c.name = \\'Thanos/Ravager T Challa\\' AND s.title = \\'What If... T\\\\\\\\\\'Challa Became a Star\\\\\\\\-Lord?\\' MERGE (c)-[r:in_serie]->(s)\"\\r\\n                                                                                                                  ^'), CypherSyntaxError('Invalid input \\'t\\': expected whitespace, \\'.\\', node labels or rel types, \\'[\\', \\'^\\', \\'*\\', \\'/\\', \\'%\\', \\'+\\', \\'-\\', \"=~\", IN, STARTS, ENDS, CONTAINS, IS, \\'=\\', \"<>\", \"!=\", \\'<\\', \\'>\\', \"<=\", \">=\", AND, XOR, OR, USE GRAPH, LOAD CSV, START, MATCH, UNWIND, MERGE, CREATE UNIQUE, CREATE, SET, DELETE, REMOVE, FOREACH, WITH, CALL, RETURN, UNION, \\';\\' or end of input (line 1, column 86 (offset: 85))\\r\\n\"MATCH (c:character_variant), (s:tv_show) WHERE c.name = \\'Tisha\\' AND s.title = \\'Can\\\\\\\\\\'t Front on Me\\' MERGE (c)-[r:in_serie]->(s)\"\\r\\n                                                                                      ^'), CypherSyntaxError('Invalid input \\' \\': expected \\'m/M\\' or \\'t/T\\' (line 1, column 89 (offset: 88))\\r\\n\"MATCH (c:character_variant), (s:tv_show) WHERE c.name = \\'Ty\\' AND s.title = \\'Now You\\\\\\\\\\'re Mine\\' MERGE (c)-[r:in_serie]->(s)\"\\r\\n                                                                                         ^'), CypherSyntaxError('Invalid input \\' \\': expected \\'t/T\\' or \\'e/E\\' (line 1, column 109 (offset: 108))\\r\\n\"MATCH (c:character_variant), (s:tv_show) WHERE c.name = \\'Tyler (Hand)\\' AND s.title = \\'A Cold Day in Hell\\\\\\\\\\'s Kitchen\\' MERGE (c)-[r:in_serie]->(s)\"\\r\\n                                                                                                             ^'), CypherSyntaxError('Invalid input \\'t\\': expected whitespace, \\'.\\', node labels or rel types, \\'[\\', \\'^\\', \\'*\\', \\'/\\', \\'%\\', \\'+\\', \\'-\\', \"=~\", IN, STARTS, ENDS, CONTAINS, IS, \\'=\\', \"<>\", \"!=\", \\'<\\', \\'>\\', \"<=\", \">=\", AND, XOR, OR, USE GRAPH, LOAD CSV, START, MATCH, UNWIND, MERGE, CREATE UNIQUE, CREATE, SET, DELETE, REMOVE, FOREACH, WITH, CALL, RETURN, UNION, \\';\\' or end of input (line 1, column 86 (offset: 85))\\r\\n\"MATCH (c:character_variant), (s:tv_show) WHERE c.name = \\'Tyson\\' AND s.title = \\'Can\\\\\\\\\\'t Front on Me\\' MERGE (c)-[r:in_serie]->(s)\"\\r\\n                                                                                      ^'), CypherSyntaxError('Invalid input \\' \\': expected \\'m/M\\' or \\'t/T\\' (line 1, column 107 (offset: 106))\\r\\n\"MATCH (c:character_variant), (s:tv_show) WHERE c.name = \\'Victor (Drug Dealer)\\' AND s.title = \\'AKA You\\\\\\\\\\'re a Winner!\\' MERGE (c)-[r:in_serie]->(s)\"\\r\\n                                                                                                           ^'), CypherSyntaxError('Invalid input \\' \\': expected \\'t/T\\' or \\'e/E\\' (line 1, column 116 (offset: 115))\\r\\n\"MATCH (c:character_variant), (s:tv_show) WHERE c.name = \\'Victoria Hand/Framework\\' AND s.title = \\'All the Madame\\\\\\\\\\'s Men\\' MERGE (c)-[r:in_serie]->(s)\"\\r\\n                                                                                                                    ^'), CypherSyntaxError('Invalid input \\' \\': expected \\'m/M\\' or \\'t/T\\' (line 1, column 130 (offset: 129))\\r\\n\"MATCH (c:character_variant), (s:tv_show) WHERE c.name = \\'Victoria Hand/History Altered by Chronicoms\\' AND s.title = \\'What We\\\\\\\\\\'re Fighting For\\' MERGE (c)-[r:in_serie]->(s)\"\\r\\n                                                                                                                                  ^'), CypherSyntaxError('Invalid input \\' \\': expected \\'t/T\\' or \\'e/E\\' (line 1, column 106 (offset: 105))\\r\\n\"MATCH (c:character_variant), (s:tv_show) WHERE c.name = \\'Vijay Nadeer/Framework\\' AND s.title = \\'World\\\\\\\\\\'s End\\' MERGE (c)-[r:in_serie]->(s)\"\\r\\n                                                                                                          ^'), CypherSyntaxError('Invalid input \\'h\\': expected \\'o/O\\', \\'r/R\\' or \\'a/A\\' (line 1, column 114 (offset: 113))\\r\\n\"MATCH (c:character_variant), (s:tv_show) WHERE c.name = \\'W Kabi/Ravager T Challa\\' AND s.title = \\'What If... T\\\\\\\\\\'Challa Became a Star\\\\\\\\-Lord?\\' MERGE (c)-[r:in_serie]->(s)\"\\r\\n                                                                                                                  ^'), CypherSyntaxError('Invalid input \\'h\\': expected \\'o/O\\', \\'r/R\\' or \\'a/A\\' (line 1, column 120 (offset: 119))\\r\\n\"MATCH (c:character_variant), (s:tv_show) WHERE c.name = \\'Yondu Udonta/Ravager T Challa\\' AND s.title = \\'What If... T\\\\\\\\\\'Challa Became a Star\\\\\\\\-Lord?\\' MERGE (c)-[r:in_serie]->(s)\"\\r\\n                                                                                                                        ^'), CypherSyntaxError('Invalid input \\' \\': expected \\'t/T\\' or \\'e/E\\' (line 1, column 88 (offset: 87))\\r\\n\"MATCH (c:character_variant), (s:tv_show) WHERE c.name = \\'Zhou\\' AND s.title = \\'World\\\\\\\\\\'s End\\' MERGE (c)-[r:in_serie]->(s)\"\\r\\n                                                                                        ^')]\n"
     ]
    },
    {
     "name": "stderr",
     "output_type": "stream",
     "text": [
      "\n"
     ]
    }
   ],
   "source": [
    "characters_dataframe = pd.read_csv(\n",
    "    \"./Datasets/scraping_personaggi_completo_filtered_relations.csv\")\n",
    "\n",
    "driver = GraphDatabase.driver(db_host, auth=(\"neo4j\", password))\n",
    "error_log = []\n",
    "with driver.session() as session:\n",
    "  try:\n",
    "    for idx, row in tqdm(characters_dataframe.iterrows(), total=characters_dataframe.shape[0]):\n",
    "      try:\n",
    "        series = json.loads(row[\"Serie\"])\n",
    "        character_name = row[\"Nome\"]\n",
    "        series = list(map(lambda item: escape_for_neo4j(item[0]), series))\n",
    "        for item in series:\n",
    "          session.write_transaction(link_character_and_series, character_name, item)\n",
    "      except Exception as e:\n",
    "        error_log.append(e)\n",
    "  except Exception as e:\n",
    "    print(e)\n",
    "print(error_log)\n"
   ]
  }
 ],
 "metadata": {
  "interpreter": {
   "hash": "63fd5069d213b44bf678585dea6b12cceca9941eaf7f819626cde1f2670de90d"
  },
  "kernelspec": {
   "display_name": "Python 3.9.1 64-bit",
   "language": "python",
   "name": "python3"
  },
  "language_info": {
   "codemirror_mode": {
    "name": "ipython",
    "version": 3
   },
   "file_extension": ".py",
   "mimetype": "text/x-python",
   "name": "python",
   "nbconvert_exporter": "python",
   "pygments_lexer": "ipython3",
   "version": "3.9.1"
  },
  "orig_nbformat": 4
 },
 "nbformat": 4,
 "nbformat_minor": 2
}
