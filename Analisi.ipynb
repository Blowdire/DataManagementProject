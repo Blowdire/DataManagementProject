{
 "cells": [
  {
   "cell_type": "markdown",
   "metadata": {},
   "source": [
    "# Analisi dati"
   ]
  },
  {
   "cell_type": "markdown",
   "metadata": {},
   "source": [
    "### Analisi dei personaggi\n",
    "\n",
    "Confronto fra i personaggi della web api e dello scraping, confrontare il nome in modo da porter collegare i dati dei personaggi ottenuti dallo scriping ai dati della web api\n"
   ]
  },
  {
   "cell_type": "code",
   "execution_count": 13,
   "metadata": {},
   "outputs": [],
   "source": [
    "import pandas as pd\n",
    "import re\n",
    "from tqdm import tqdm\n",
    "import json\n",
    "import plotly.express as px\n",
    "import numpy as np\n"
   ]
  },
  {
   "cell_type": "code",
   "execution_count": 14,
   "metadata": {},
   "outputs": [
    {
     "data": {
      "text/html": [
       "<div>\n",
       "<style scoped>\n",
       "    .dataframe tbody tr th:only-of-type {\n",
       "        vertical-align: middle;\n",
       "    }\n",
       "\n",
       "    .dataframe tbody tr th {\n",
       "        vertical-align: top;\n",
       "    }\n",
       "\n",
       "    .dataframe thead th {\n",
       "        text-align: right;\n",
       "    }\n",
       "</style>\n",
       "<table border=\"1\" class=\"dataframe\">\n",
       "  <thead>\n",
       "    <tr style=\"text-align: right;\">\n",
       "      <th></th>\n",
       "      <th>Unnamed: 0</th>\n",
       "      <th>Unnamed: 0.1</th>\n",
       "      <th>Unnamed: 0.1.1</th>\n",
       "      <th>Nome</th>\n",
       "      <th>Link</th>\n",
       "      <th>Biografia</th>\n",
       "      <th>Relazioni</th>\n",
       "      <th>Processed_Name</th>\n",
       "      <th>Film</th>\n",
       "      <th>Serie</th>\n",
       "      <th>Processed_Biography</th>\n",
       "      <th>Filtered_relazioni</th>\n",
       "    </tr>\n",
       "  </thead>\n",
       "  <tbody>\n",
       "    <tr>\n",
       "      <th>0</th>\n",
       "      <td>0</td>\n",
       "      <td>0</td>\n",
       "      <td>0</td>\n",
       "      <td>A'Lars</td>\n",
       "      <td>https://marvelcinematicuniverse.fandom.com/wik...</td>\n",
       "      <td>[\"Biography\", \"Life on Titan\", \"A'Lars fathere...</td>\n",
       "      <td>NaN</td>\n",
       "      <td>a lars</td>\n",
       "      <td>[[\"Avengers: Infinity War\", \"/wiki/Avengers:_I...</td>\n",
       "      <td>NaN</td>\n",
       "      <td>Life on Titan\\nA\\'Lars fathered a son named Th...</td>\n",
       "      <td>NaN</td>\n",
       "    </tr>\n",
       "    <tr>\n",
       "      <th>1</th>\n",
       "      <td>1</td>\n",
       "      <td>1</td>\n",
       "      <td>1</td>\n",
       "      <td>A. Kennedy</td>\n",
       "      <td>https://marvelcinematicuniverse.fandom.com/wik...</td>\n",
       "      <td>[\"Biography\", \"First Encounter With S.H.I.E.L....</td>\n",
       "      <td>NaN</td>\n",
       "      <td>a. kennedy</td>\n",
       "      <td>NaN</td>\n",
       "      <td>[[\"Agents of S.H.I.E.L.D.\", \"/wiki/Agents_of_S...</td>\n",
       "      <td>First Encounter With S.H.I.E.L.D.\\nWhile drivi...</td>\n",
       "      <td>NaN</td>\n",
       "    </tr>\n",
       "    <tr>\n",
       "      <th>2</th>\n",
       "      <td>2</td>\n",
       "      <td>2</td>\n",
       "      <td>2</td>\n",
       "      <td>A.I.M. President</td>\n",
       "      <td>https://marvelcinematicuniverse.fandom.com/wik...</td>\n",
       "      <td>[\"Biography\", \"Obadiah Stane contacted the A.I...</td>\n",
       "      <td>NaN</td>\n",
       "      <td>a.i.m. president</td>\n",
       "      <td>NaN</td>\n",
       "      <td>NaN</td>\n",
       "      <td>Obadiah Stane contacted the A.I.M. President t...</td>\n",
       "      <td>NaN</td>\n",
       "    </tr>\n",
       "    <tr>\n",
       "      <th>3</th>\n",
       "      <td>3</td>\n",
       "      <td>3</td>\n",
       "      <td>3</td>\n",
       "      <td>Aaron (Apple Inc.)</td>\n",
       "      <td>https://marvelcinematicuniverse.fandom.com/wik...</td>\n",
       "      <td>[\"Biography\", \"Apple Inc.\", \"Assisting Custome...</td>\n",
       "      <td>NaN</td>\n",
       "      <td>aaron</td>\n",
       "      <td>[[\"Captain America: The Winter Soldier\", \"/wik...</td>\n",
       "      <td>NaN</td>\n",
       "      <td>Apple Inc.\\nAssisting Customers\\n\\\"I have the ...</td>\n",
       "      <td>NaN</td>\n",
       "    </tr>\n",
       "    <tr>\n",
       "      <th>4</th>\n",
       "      <td>4</td>\n",
       "      <td>4</td>\n",
       "      <td>4</td>\n",
       "      <td>Aaron (Baby)</td>\n",
       "      <td>https://marvelcinematicuniverse.fandom.com/wik...</td>\n",
       "      <td>[\"Biography\", \"Sophie walked with her son crad...</td>\n",
       "      <td>NaN</td>\n",
       "      <td>aaron</td>\n",
       "      <td>NaN</td>\n",
       "      <td>[[\"Jessica Jones\", \"/wiki/Jessica_Jones_(TV_se...</td>\n",
       "      <td>Sophie walked with her son cradled in an attem...</td>\n",
       "      <td>NaN</td>\n",
       "    </tr>\n",
       "    <tr>\n",
       "      <th>...</th>\n",
       "      <td>...</td>\n",
       "      <td>...</td>\n",
       "      <td>...</td>\n",
       "      <td>...</td>\n",
       "      <td>...</td>\n",
       "      <td>...</td>\n",
       "      <td>...</td>\n",
       "      <td>...</td>\n",
       "      <td>...</td>\n",
       "      <td>...</td>\n",
       "      <td>...</td>\n",
       "      <td>...</td>\n",
       "    </tr>\n",
       "    <tr>\n",
       "      <th>3741</th>\n",
       "      <td>3741</td>\n",
       "      <td>3741</td>\n",
       "      <td>3741</td>\n",
       "      <td>Zorianna Kit</td>\n",
       "      <td>https://marvelcinematicuniverse.fandom.com/wik...</td>\n",
       "      <td>[\"Biography\", \"Zorianna Kit reported on Tony S...</td>\n",
       "      <td>NaN</td>\n",
       "      <td>zorianna kit</td>\n",
       "      <td>[[\"Iron Man\", \"/wiki/Iron_Man_(film)\"]]</td>\n",
       "      <td>NaN</td>\n",
       "      <td>Zorianna Kit reported on Tony Stark\\'s expecte...</td>\n",
       "      <td>NaN</td>\n",
       "    </tr>\n",
       "    <tr>\n",
       "      <th>3742</th>\n",
       "      <td>3742</td>\n",
       "      <td>3742</td>\n",
       "      <td>3742</td>\n",
       "      <td>Zrinka</td>\n",
       "      <td>https://marvelcinematicuniverse.fandom.com/wik...</td>\n",
       "      <td>[\"Biography\", \"Zrinka and her brother, Costel,...</td>\n",
       "      <td>[[\"Costel\", \"Brother\"], [\"Steve Rogers/Captain...</td>\n",
       "      <td>zrinka</td>\n",
       "      <td>[[\"Avengers: Age of Ultron\", \"/wiki/Avengers:_...</td>\n",
       "      <td>NaN</td>\n",
       "      <td>Zrinka and her brother, Costel, were in the ma...</td>\n",
       "      <td>[[\"Costel\", \"Brother\"]]</td>\n",
       "    </tr>\n",
       "    <tr>\n",
       "      <th>3743</th>\n",
       "      <td>3743</td>\n",
       "      <td>3743</td>\n",
       "      <td>3743</td>\n",
       "      <td>Zuly Almeida</td>\n",
       "      <td>https://marvelcinematicuniverse.fandom.com/wik...</td>\n",
       "      <td>[\"Biography\", \"Zuly Almeida visited Nelson and...</td>\n",
       "      <td>NaN</td>\n",
       "      <td>zuly almeida</td>\n",
       "      <td>NaN</td>\n",
       "      <td>[[\"Daredevil\", \"/wiki/Daredevil_(TV_series)\"],...</td>\n",
       "      <td>Zuly Almeida visited Nelson and Murdock where ...</td>\n",
       "      <td>NaN</td>\n",
       "    </tr>\n",
       "    <tr>\n",
       "      <th>3744</th>\n",
       "      <td>3744</td>\n",
       "      <td>3744</td>\n",
       "      <td>3744</td>\n",
       "      <td>Zuri</td>\n",
       "      <td>https://marvelcinematicuniverse.fandom.com/wik...</td>\n",
       "      <td>[\"Biography\", \"Early Life\", \"Working with N'Jo...</td>\n",
       "      <td>[[\"Badu \\u2020\", \"Father\"], [\"T'Chaka \\u2020\",...</td>\n",
       "      <td>zuri</td>\n",
       "      <td>[[\"Black Panther\", \"/wiki/Black_Panther_(film)\"]]</td>\n",
       "      <td>NaN</td>\n",
       "      <td>Early Life\\nWorking with N\\'Jobu\\n\\\"Your uncle...</td>\n",
       "      <td>NaN</td>\n",
       "    </tr>\n",
       "    <tr>\n",
       "      <th>3745</th>\n",
       "      <td>3745</td>\n",
       "      <td>3745</td>\n",
       "      <td>3745</td>\n",
       "      <td>Zylak</td>\n",
       "      <td>https://marvelcinematicuniverse.fandom.com/wik...</td>\n",
       "      <td>[\"Biography\", \"Escape from the Sovereign Fleet...</td>\n",
       "      <td>[[\"Ayesha\", \"Superior\"], [\"Sovereign Admiral\"]...</td>\n",
       "      <td>zylak</td>\n",
       "      <td>[[\"Guardians of the Galaxy Vol. 2\", \"/wiki/Gua...</td>\n",
       "      <td>NaN</td>\n",
       "      <td>Escape from the Sovereign Fleet\\nWhen Rocket R...</td>\n",
       "      <td>NaN</td>\n",
       "    </tr>\n",
       "  </tbody>\n",
       "</table>\n",
       "<p>3746 rows × 12 columns</p>\n",
       "</div>"
      ],
      "text/plain": [
       "      Unnamed: 0  Unnamed: 0.1  Unnamed: 0.1.1                Nome  \\\n",
       "0              0             0               0              A'Lars   \n",
       "1              1             1               1          A. Kennedy   \n",
       "2              2             2               2    A.I.M. President   \n",
       "3              3             3               3  Aaron (Apple Inc.)   \n",
       "4              4             4               4        Aaron (Baby)   \n",
       "...          ...           ...             ...                 ...   \n",
       "3741        3741          3741            3741        Zorianna Kit   \n",
       "3742        3742          3742            3742              Zrinka   \n",
       "3743        3743          3743            3743        Zuly Almeida   \n",
       "3744        3744          3744            3744                Zuri   \n",
       "3745        3745          3745            3745               Zylak   \n",
       "\n",
       "                                                   Link  \\\n",
       "0     https://marvelcinematicuniverse.fandom.com/wik...   \n",
       "1     https://marvelcinematicuniverse.fandom.com/wik...   \n",
       "2     https://marvelcinematicuniverse.fandom.com/wik...   \n",
       "3     https://marvelcinematicuniverse.fandom.com/wik...   \n",
       "4     https://marvelcinematicuniverse.fandom.com/wik...   \n",
       "...                                                 ...   \n",
       "3741  https://marvelcinematicuniverse.fandom.com/wik...   \n",
       "3742  https://marvelcinematicuniverse.fandom.com/wik...   \n",
       "3743  https://marvelcinematicuniverse.fandom.com/wik...   \n",
       "3744  https://marvelcinematicuniverse.fandom.com/wik...   \n",
       "3745  https://marvelcinematicuniverse.fandom.com/wik...   \n",
       "\n",
       "                                              Biografia  \\\n",
       "0     [\"Biography\", \"Life on Titan\", \"A'Lars fathere...   \n",
       "1     [\"Biography\", \"First Encounter With S.H.I.E.L....   \n",
       "2     [\"Biography\", \"Obadiah Stane contacted the A.I...   \n",
       "3     [\"Biography\", \"Apple Inc.\", \"Assisting Custome...   \n",
       "4     [\"Biography\", \"Sophie walked with her son crad...   \n",
       "...                                                 ...   \n",
       "3741  [\"Biography\", \"Zorianna Kit reported on Tony S...   \n",
       "3742  [\"Biography\", \"Zrinka and her brother, Costel,...   \n",
       "3743  [\"Biography\", \"Zuly Almeida visited Nelson and...   \n",
       "3744  [\"Biography\", \"Early Life\", \"Working with N'Jo...   \n",
       "3745  [\"Biography\", \"Escape from the Sovereign Fleet...   \n",
       "\n",
       "                                              Relazioni    Processed_Name  \\\n",
       "0                                                   NaN            a lars   \n",
       "1                                                   NaN        a. kennedy   \n",
       "2                                                   NaN  a.i.m. president   \n",
       "3                                                   NaN             aaron   \n",
       "4                                                   NaN             aaron   \n",
       "...                                                 ...               ...   \n",
       "3741                                                NaN      zorianna kit   \n",
       "3742  [[\"Costel\", \"Brother\"], [\"Steve Rogers/Captain...            zrinka   \n",
       "3743                                                NaN      zuly almeida   \n",
       "3744  [[\"Badu \\u2020\", \"Father\"], [\"T'Chaka \\u2020\",...              zuri   \n",
       "3745  [[\"Ayesha\", \"Superior\"], [\"Sovereign Admiral\"]...             zylak   \n",
       "\n",
       "                                                   Film  \\\n",
       "0     [[\"Avengers: Infinity War\", \"/wiki/Avengers:_I...   \n",
       "1                                                   NaN   \n",
       "2                                                   NaN   \n",
       "3     [[\"Captain America: The Winter Soldier\", \"/wik...   \n",
       "4                                                   NaN   \n",
       "...                                                 ...   \n",
       "3741            [[\"Iron Man\", \"/wiki/Iron_Man_(film)\"]]   \n",
       "3742  [[\"Avengers: Age of Ultron\", \"/wiki/Avengers:_...   \n",
       "3743                                                NaN   \n",
       "3744  [[\"Black Panther\", \"/wiki/Black_Panther_(film)\"]]   \n",
       "3745  [[\"Guardians of the Galaxy Vol. 2\", \"/wiki/Gua...   \n",
       "\n",
       "                                                  Serie  \\\n",
       "0                                                   NaN   \n",
       "1     [[\"Agents of S.H.I.E.L.D.\", \"/wiki/Agents_of_S...   \n",
       "2                                                   NaN   \n",
       "3                                                   NaN   \n",
       "4     [[\"Jessica Jones\", \"/wiki/Jessica_Jones_(TV_se...   \n",
       "...                                                 ...   \n",
       "3741                                                NaN   \n",
       "3742                                                NaN   \n",
       "3743  [[\"Daredevil\", \"/wiki/Daredevil_(TV_series)\"],...   \n",
       "3744                                                NaN   \n",
       "3745                                                NaN   \n",
       "\n",
       "                                    Processed_Biography  \\\n",
       "0     Life on Titan\\nA\\'Lars fathered a son named Th...   \n",
       "1     First Encounter With S.H.I.E.L.D.\\nWhile drivi...   \n",
       "2     Obadiah Stane contacted the A.I.M. President t...   \n",
       "3     Apple Inc.\\nAssisting Customers\\n\\\"I have the ...   \n",
       "4     Sophie walked with her son cradled in an attem...   \n",
       "...                                                 ...   \n",
       "3741  Zorianna Kit reported on Tony Stark\\'s expecte...   \n",
       "3742  Zrinka and her brother, Costel, were in the ma...   \n",
       "3743  Zuly Almeida visited Nelson and Murdock where ...   \n",
       "3744  Early Life\\nWorking with N\\'Jobu\\n\\\"Your uncle...   \n",
       "3745  Escape from the Sovereign Fleet\\nWhen Rocket R...   \n",
       "\n",
       "           Filtered_relazioni  \n",
       "0                         NaN  \n",
       "1                         NaN  \n",
       "2                         NaN  \n",
       "3                         NaN  \n",
       "4                         NaN  \n",
       "...                       ...  \n",
       "3741                      NaN  \n",
       "3742  [[\"Costel\", \"Brother\"]]  \n",
       "3743                      NaN  \n",
       "3744                      NaN  \n",
       "3745                      NaN  \n",
       "\n",
       "[3746 rows x 12 columns]"
      ]
     },
     "execution_count": 14,
     "metadata": {},
     "output_type": "execute_result"
    }
   ],
   "source": [
    "api_characters_dataset = pd.read_csv(\"./Datasets/api_character_list.csv\")\n",
    "scraping_characters_dataset = pd.read_csv(\"./Datasets/scraping_personaggi_completo_filtered_relations.csv\")\n",
    "film_dataset = pd.read_csv(\"./Datasets/film_data_scraping.csv\")\n",
    "tv_series_dataset = pd.read_csv(\"./Datasets/tv_series.csv\")\n",
    "comics = pd.read_csv(\"./Datasets/merged.csv\")\n",
    "tv_series_dataset.replace(\"[]\", np.NaN)\n",
    "film_dataset.replace(\"[]\", np.NaN)\n",
    "scraping_characters_dataset.replace(\"[]\", np.NaN)"
   ]
  },
  {
   "cell_type": "code",
   "execution_count": 11,
   "metadata": {},
   "outputs": [
    {
     "data": {
      "text/html": [
       "<div>\n",
       "<style scoped>\n",
       "    .dataframe tbody tr th:only-of-type {\n",
       "        vertical-align: middle;\n",
       "    }\n",
       "\n",
       "    .dataframe tbody tr th {\n",
       "        vertical-align: top;\n",
       "    }\n",
       "\n",
       "    .dataframe thead th {\n",
       "        text-align: right;\n",
       "    }\n",
       "</style>\n",
       "<table border=\"1\" class=\"dataframe\">\n",
       "  <thead>\n",
       "    <tr style=\"text-align: right;\">\n",
       "      <th></th>\n",
       "      <th>Title</th>\n",
       "      <th>Directors</th>\n",
       "      <th>Writers</th>\n",
       "      <th>Producers</th>\n",
       "      <th>Composers</th>\n",
       "      <th>releaseDate</th>\n",
       "      <th>Runtime</th>\n",
       "      <th>BoxOffice</th>\n",
       "      <th>Synopsis</th>\n",
       "    </tr>\n",
       "  </thead>\n",
       "  <tbody>\n",
       "    <tr>\n",
       "      <th>0</th>\n",
       "      <td>Avengers: Infinity War</td>\n",
       "      <td>[[\"Joe Russo\", \"/wiki/Joe_Russo\"], [\"Anthony R...</td>\n",
       "      <td>[[\"Christopher Markus\", \"/wiki/Christopher_Mar...</td>\n",
       "      <td>[[\"Kevin Feige\", \"/wiki/Kevin_Feige\"], [\"Louis...</td>\n",
       "      <td>[[\"Alan Silvestri\", \"/wiki/Alan_Silvestri\"]]</td>\n",
       "      <td>April 27, 2018</td>\n",
       "      <td>149 minutes</td>\n",
       "      <td>$2.049 billion</td>\n",
       "      <td>[\"An unprecedented cinematic journey ten years...</td>\n",
       "    </tr>\n",
       "    <tr>\n",
       "      <th>1</th>\n",
       "      <td>Captain America: The Winter Soldier</td>\n",
       "      <td>[[\"Joe Russo\", \"/wiki/Joe_Russo\"], [\"Anthony R...</td>\n",
       "      <td>[[\"Stephen McFeely\", \"/wiki/Stephen_McFeely\"],...</td>\n",
       "      <td>[[\"Kevin Feige\", \"/wiki/Kevin_Feige\"], [\"Louis...</td>\n",
       "      <td>[[\"Henry Jackman\", \"/wiki/Henry_Jackman\"]]</td>\n",
       "      <td>March 26, 2014 (international)April 4, 2014 (U...</td>\n",
       "      <td>136 minutes</td>\n",
       "      <td>$714.4 million</td>\n",
       "      <td>[\"After the cataclysmic events in New York wit...</td>\n",
       "    </tr>\n",
       "    <tr>\n",
       "      <th>2</th>\n",
       "      <td>Spider-Man: Homecoming</td>\n",
       "      <td>[[\"Jon Watts\", \"/wiki/Jon_Watts\"]]</td>\n",
       "      <td>[[\"Jonathan M. Goldstein\", \"/wiki/Jonathan_M._...</td>\n",
       "      <td>[[\"Kevin Feige\", \"/wiki/Kevin_Feige\"], [\"Amy P...</td>\n",
       "      <td>[[\"Michael Giacchino\", \"/wiki/Michael_Giacchin...</td>\n",
       "      <td>July 5, 2017 (U.K.)July 7, 2017 (U.S.)</td>\n",
       "      <td>133 minutes</td>\n",
       "      <td>$880.2 million</td>\n",
       "      <td>[\"A young Peter Parker/Spider-Man, who made hi...</td>\n",
       "    </tr>\n",
       "    <tr>\n",
       "      <th>3</th>\n",
       "      <td>Guardians of the Galaxy Vol. 2</td>\n",
       "      <td>[[\"James Gunn\", \"/wiki/James_Gunn\"]]</td>\n",
       "      <td>[[\"James Gunn\", \"/wiki/James_Gunn\"]]</td>\n",
       "      <td>[[\"Kevin Feige\", \"/wiki/Kevin_Feige\"], [\"Louis...</td>\n",
       "      <td>[[\"Tyler Bates\", \"/wiki/Tyler_Bates\"]]</td>\n",
       "      <td>April 25, 2017 (International)May 5, 2017 (U.S.)</td>\n",
       "      <td>137 minutes</td>\n",
       "      <td>$863.8 million</td>\n",
       "      <td>[\"Set to the backdrop of \\\"Awesome Mixtape #2\\...</td>\n",
       "    </tr>\n",
       "    <tr>\n",
       "      <th>4</th>\n",
       "      <td>The Incredible Hulk</td>\n",
       "      <td>[[\"Louis Leterrier\", \"/wiki/Louis_Leterrier\"]]</td>\n",
       "      <td>[[\"Zak Penn\", \"/wiki/Zak_Penn\"], [\"Edward Nort...</td>\n",
       "      <td>[[\"Avi Arad\", \"/wiki/Avi_Arad\"], [\"Gale Anne H...</td>\n",
       "      <td>[[\"Craig Armstrong\", \"/wiki/Craig_Armstrong\"]]</td>\n",
       "      <td>June 13, 2008</td>\n",
       "      <td>112 minutes</td>\n",
       "      <td>$263.4 million</td>\n",
       "      <td>[\"In this new beginning, scientist Bruce Banne...</td>\n",
       "    </tr>\n",
       "    <tr>\n",
       "      <th>5</th>\n",
       "      <td>Shang-Chi and the Legend of the Ten Rings</td>\n",
       "      <td>[[\"Destin Daniel Cretton\", \"/wiki/Destin_Danie...</td>\n",
       "      <td>[[\"David Callaham\", \"/wiki/David_Callaham\"], [...</td>\n",
       "      <td>[[\"Kevin Feige\", \"/wiki/Kevin_Feige\"], [\"Jonat...</td>\n",
       "      <td>[[\"Joel P. West\", \"/wiki/Joel_P._West\"]]</td>\n",
       "      <td>September 3, 2021</td>\n",
       "      <td>132 minutes</td>\n",
       "      <td>$432.2 million</td>\n",
       "      <td>[\"Shang-Chi must confront the past he thought ...</td>\n",
       "    </tr>\n",
       "    <tr>\n",
       "      <th>6</th>\n",
       "      <td>Captain America: The First Avenger</td>\n",
       "      <td>[[\"Joe Johnston\", \"/wiki/Joe_Johnston\"]]</td>\n",
       "      <td>[[\"Christopher Markus\", \"/wiki/Christopher_Mar...</td>\n",
       "      <td>[[\"Kevin Feige\", \"/wiki/Kevin_Feige\"], [\"Louis...</td>\n",
       "      <td>[[\"Alan Silvestri\", \"/wiki/Alan_Silvestri\"]]</td>\n",
       "      <td>July 22, 2011 (U.S.)July 29, 2011 (U.K.)</td>\n",
       "      <td>124 minutes</td>\n",
       "      <td>$370.6 million</td>\n",
       "      <td>[\"Marvel's Captain America: The First Avenger ...</td>\n",
       "    </tr>\n",
       "    <tr>\n",
       "      <th>7</th>\n",
       "      <td>The Avengers</td>\n",
       "      <td>[[\"Joss Whedon\", \"/wiki/Joss_Whedon\"]]</td>\n",
       "      <td>[[\"Zak Penn\", \"/wiki/Zak_Penn\"], [\"Joss Whedon...</td>\n",
       "      <td>[[\"Kevin Feige\", \"/wiki/Kevin_Feige\"], [\"Louis...</td>\n",
       "      <td>[[\"Alan Silvestri\", \"/wiki/Alan_Silvestri\"]]</td>\n",
       "      <td>April 25, 2012 (international)May 4, 2012 (U.S.)</td>\n",
       "      <td>143 minutes</td>\n",
       "      <td>$1.519 billion</td>\n",
       "      <td>[\"Marvel Studios presents in association with ...</td>\n",
       "    </tr>\n",
       "    <tr>\n",
       "      <th>8</th>\n",
       "      <td>Avengers: Age of Ultron</td>\n",
       "      <td>[[\"Joss Whedon\", \"/wiki/Joss_Whedon\"]]</td>\n",
       "      <td>[[\"Joss Whedon\", \"/wiki/Joss_Whedon\"]]</td>\n",
       "      <td>[[\"Kevin Feige\", \"/wiki/Kevin_Feige\"], [\"Louis...</td>\n",
       "      <td>[[\"Brian Tyler\", \"/wiki/Brian_Tyler\"], [\"Danny...</td>\n",
       "      <td>April 22, 2015 (international)May 1, 2015 (U.S.)</td>\n",
       "      <td>141 minutes</td>\n",
       "      <td>$1.405 billion</td>\n",
       "      <td>[\"Marvel Studios presents Avengers: Age of Ult...</td>\n",
       "    </tr>\n",
       "    <tr>\n",
       "      <th>9</th>\n",
       "      <td>Spider-Man: No Way Home</td>\n",
       "      <td>[[\"Jon Watts\", \"/wiki/Jon_Watts\"]]</td>\n",
       "      <td>[[\"Chris McKenna\", \"/wiki/Chris_McKenna\"], [\"E...</td>\n",
       "      <td>[[\"Kevin Feige\", \"/wiki/Kevin_Feige\"], [\"Amy P...</td>\n",
       "      <td>[[\"Michael Giacchino\", \"/wiki/Michael_Giacchin...</td>\n",
       "      <td>December 17, 2021</td>\n",
       "      <td>148 minutes</td>\n",
       "      <td>$751.3 million</td>\n",
       "      <td>[\"For the first time in the cinematic history ...</td>\n",
       "    </tr>\n",
       "    <tr>\n",
       "      <th>10</th>\n",
       "      <td>Iron Man</td>\n",
       "      <td>[[\"Jon Favreau\", \"/wiki/Jon_Favreau\"]]</td>\n",
       "      <td>[[\"Mark Fergus\", \"/wiki/Mark_Fergus\"], [\"Hawk ...</td>\n",
       "      <td>[[\"Avi Arad\", \"/wiki/Avi_Arad\"], [\"Kevin Feige...</td>\n",
       "      <td>[[\"Ramin Djawadi\", \"/wiki/Ramin_Djawadi\"], [\"H...</td>\n",
       "      <td>April 30, 2008 (international)May 2, 2008 (U.S.)</td>\n",
       "      <td>126 minutes</td>\n",
       "      <td>$585.2 million</td>\n",
       "      <td>[\"2008's Iron Man tells the story of Tony Star...</td>\n",
       "    </tr>\n",
       "    <tr>\n",
       "      <th>11</th>\n",
       "      <td>Captain Marvel</td>\n",
       "      <td>[[\"Anna Boden\", \"/wiki/Anna_Boden\"], [\"Ryan Fl...</td>\n",
       "      <td>[[\"Anna Boden\", \"/wiki/Anna_Boden\"], [\"Ryan Fl...</td>\n",
       "      <td>[[\"Kevin Feige\", \"/wiki/Kevin_Feige\"], [\"Louis...</td>\n",
       "      <td>[[\"Pinar Toprak\", \"/wiki/Pinar_Toprak\"]]</td>\n",
       "      <td>March 8, 2019</td>\n",
       "      <td>124 minutes</td>\n",
       "      <td>$1.128 billion</td>\n",
       "      <td>[\"Set in the 1990s, Marvel Studios\\u2019 \\u201...</td>\n",
       "    </tr>\n",
       "    <tr>\n",
       "      <th>12</th>\n",
       "      <td>Iron Man 2</td>\n",
       "      <td>[[\"Jon Favreau\", \"/wiki/Jon_Favreau\"]]</td>\n",
       "      <td>[[\"Justin Theroux\", \"/wiki/Justin_Theroux\"]]</td>\n",
       "      <td>[[\"Kevin Feige\", \"/wiki/Kevin_Feige\"], [\"Alan ...</td>\n",
       "      <td>[[\"John Debney\", \"/wiki/John_Debney\"]]</td>\n",
       "      <td>April 28, 2010 (international)May 7, 2010 (U.S.)</td>\n",
       "      <td>125 minutes</td>\n",
       "      <td>$623.9 million</td>\n",
       "      <td>[\"With the world now aware that he is Iron Man...</td>\n",
       "    </tr>\n",
       "    <tr>\n",
       "      <th>13</th>\n",
       "      <td>Guardians of the Galaxy Vol. 3</td>\n",
       "      <td>[[\"James Gunn\", \"/wiki/James_Gunn\"], [\"[1]\", \"...</td>\n",
       "      <td>[[\"James Gunn\", \"/wiki/James_Gunn\"], [\"[2]\", \"...</td>\n",
       "      <td>[[\"Kevin Feige\", \"/wiki/Kevin_Feige\"], [\"Louis...</td>\n",
       "      <td>[[\"John Murphy\", \"/wiki/John_Murphy\"], [\"[3]\",...</td>\n",
       "      <td>May 5, 2023[4]</td>\n",
       "      <td>NaN</td>\n",
       "      <td>NaN</td>\n",
       "      <td>[\"To be added\\n\"]</td>\n",
       "    </tr>\n",
       "    <tr>\n",
       "      <th>14</th>\n",
       "      <td>Doctor Strange</td>\n",
       "      <td>[[\"Scott Derrickson\", \"/wiki/Scott_Derrickson\"]]</td>\n",
       "      <td>[[\"Thomas Dean Donnelly\", \"/wiki/Thomas_Dean_D...</td>\n",
       "      <td>[[\"Kevin Feige\", \"/wiki/Kevin_Feige\"], [\"Louis...</td>\n",
       "      <td>[[\"Michael Giacchino\", \"/wiki/Michael_Giacchin...</td>\n",
       "      <td>October 25, 2016 (international)November 4, 20...</td>\n",
       "      <td>115 minutes</td>\n",
       "      <td>$677.7 million</td>\n",
       "      <td>[\"From Marvel Studios comes Doctor Strange, th...</td>\n",
       "    </tr>\n",
       "    <tr>\n",
       "      <th>15</th>\n",
       "      <td>Avengers: Endgame</td>\n",
       "      <td>[[\"Joe Russo\", \"/wiki/Joe_Russo\"], [\"Anthony R...</td>\n",
       "      <td>[[\"Christopher Markus\", \"/wiki/Christopher_Mar...</td>\n",
       "      <td>[[\"Kevin Feige\", \"/wiki/Kevin_Feige\"], [\"Louis...</td>\n",
       "      <td>[[\"Alan Silvestri\", \"/wiki/Alan_Silvestri\"]]</td>\n",
       "      <td>April 26, 2019June 28, 2019 (re-release)</td>\n",
       "      <td>181 minutes</td>\n",
       "      <td>$2.798 billion</td>\n",
       "      <td>[\"The grave course of events set in motion by ...</td>\n",
       "    </tr>\n",
       "    <tr>\n",
       "      <th>16</th>\n",
       "      <td>Eternals</td>\n",
       "      <td>[[\"Chlo\\u00e9 Zhao\", \"/wiki/Chlo%C3%A9_Zhao\"]]</td>\n",
       "      <td>[[\"Chlo\\u00e9 Zhao\", \"/wiki/Chlo%C3%A9_Zhao\"],...</td>\n",
       "      <td>[[\"Kevin Feige\", \"/wiki/Kevin_Feige\"], [\"Nate ...</td>\n",
       "      <td>[[\"Ramin Djawadi\", \"/wiki/Ramin_Djawadi\"], [\"B...</td>\n",
       "      <td>November 5, 2021</td>\n",
       "      <td>157 minutes</td>\n",
       "      <td>$400.2 million</td>\n",
       "      <td>[\"Marvel Studios' Eternals features an excitin...</td>\n",
       "    </tr>\n",
       "    <tr>\n",
       "      <th>17</th>\n",
       "      <td>Iron Man 3</td>\n",
       "      <td>[[\"Shane Black\", \"/wiki/Shane_Black\"]]</td>\n",
       "      <td>[[\"Drew Pearce\", \"/wiki/Drew_Pearce\"], [\"Shane...</td>\n",
       "      <td>[[\"Kevin Feige\", \"/wiki/Kevin_Feige\"], [\"Louis...</td>\n",
       "      <td>[[\"Brian Tyler\", \"/wiki/Brian_Tyler\"]]</td>\n",
       "      <td>April 24, 2013 (international)May 3, 2013 (U.S.)</td>\n",
       "      <td>130 minutes</td>\n",
       "      <td>$1.215 billion</td>\n",
       "      <td>[\"Marvel's Iron Man 3 pits brash-but-brilliant...</td>\n",
       "    </tr>\n",
       "    <tr>\n",
       "      <th>18</th>\n",
       "      <td>Black Widow</td>\n",
       "      <td>[[\"Cate Shortland\", \"/wiki/Cate_Shortland\"]]</td>\n",
       "      <td>[[\"Eric Pearson\", \"/wiki/Eric_Pearson\"], [\"Jac...</td>\n",
       "      <td>[[\"Kevin Feige\", \"/wiki/Kevin_Feige\"], [\"Louis...</td>\n",
       "      <td>[[\"Lorne Balfe\", \"/wiki/Lorne_Balfe\"], [\"Sven ...</td>\n",
       "      <td>July 9, 2021</td>\n",
       "      <td>134 minutes</td>\n",
       "      <td>$379.2 million$125 million (streaming)</td>\n",
       "      <td>[\"In Marvel Studios' action-packed spy thrille...</td>\n",
       "    </tr>\n",
       "    <tr>\n",
       "      <th>19</th>\n",
       "      <td>The Marvels</td>\n",
       "      <td>[[\"Nia DaCosta\", \"/wiki/Nia_DaCosta\"], [\"[1]\",...</td>\n",
       "      <td>[[\"Megan McDonnell\", \"/wiki/Megan_McDonnell\"],...</td>\n",
       "      <td>[[\"Kevin Feige\", \"/wiki/Kevin_Feige\"], [\"Louis...</td>\n",
       "      <td>[]</td>\n",
       "      <td>February 17, 2023[3]</td>\n",
       "      <td>NaN</td>\n",
       "      <td>NaN</td>\n",
       "      <td>[\"Marvel Studios' The Marvels will feature Bri...</td>\n",
       "    </tr>\n",
       "  </tbody>\n",
       "</table>\n",
       "</div>"
      ],
      "text/plain": [
       "                                         Title  \\\n",
       "0                      Avengers: Infinity War    \n",
       "1         Captain America: The Winter Soldier    \n",
       "2                      Spider-Man: Homecoming    \n",
       "3              Guardians of the Galaxy Vol. 2    \n",
       "4                         The Incredible Hulk    \n",
       "5   Shang-Chi and the Legend of the Ten Rings    \n",
       "6          Captain America: The First Avenger    \n",
       "7                                The Avengers    \n",
       "8                     Avengers: Age of Ultron    \n",
       "9                     Spider-Man: No Way Home    \n",
       "10                                   Iron Man    \n",
       "11                             Captain Marvel    \n",
       "12                                 Iron Man 2    \n",
       "13             Guardians of the Galaxy Vol. 3    \n",
       "14                             Doctor Strange    \n",
       "15                          Avengers: Endgame    \n",
       "16                                   Eternals    \n",
       "17                                 Iron Man 3    \n",
       "18                                Black Widow    \n",
       "19                                The Marvels    \n",
       "\n",
       "                                            Directors  \\\n",
       "0   [[\"Joe Russo\", \"/wiki/Joe_Russo\"], [\"Anthony R...   \n",
       "1   [[\"Joe Russo\", \"/wiki/Joe_Russo\"], [\"Anthony R...   \n",
       "2                  [[\"Jon Watts\", \"/wiki/Jon_Watts\"]]   \n",
       "3                [[\"James Gunn\", \"/wiki/James_Gunn\"]]   \n",
       "4      [[\"Louis Leterrier\", \"/wiki/Louis_Leterrier\"]]   \n",
       "5   [[\"Destin Daniel Cretton\", \"/wiki/Destin_Danie...   \n",
       "6            [[\"Joe Johnston\", \"/wiki/Joe_Johnston\"]]   \n",
       "7              [[\"Joss Whedon\", \"/wiki/Joss_Whedon\"]]   \n",
       "8              [[\"Joss Whedon\", \"/wiki/Joss_Whedon\"]]   \n",
       "9                  [[\"Jon Watts\", \"/wiki/Jon_Watts\"]]   \n",
       "10             [[\"Jon Favreau\", \"/wiki/Jon_Favreau\"]]   \n",
       "11  [[\"Anna Boden\", \"/wiki/Anna_Boden\"], [\"Ryan Fl...   \n",
       "12             [[\"Jon Favreau\", \"/wiki/Jon_Favreau\"]]   \n",
       "13  [[\"James Gunn\", \"/wiki/James_Gunn\"], [\"[1]\", \"...   \n",
       "14   [[\"Scott Derrickson\", \"/wiki/Scott_Derrickson\"]]   \n",
       "15  [[\"Joe Russo\", \"/wiki/Joe_Russo\"], [\"Anthony R...   \n",
       "16     [[\"Chlo\\u00e9 Zhao\", \"/wiki/Chlo%C3%A9_Zhao\"]]   \n",
       "17             [[\"Shane Black\", \"/wiki/Shane_Black\"]]   \n",
       "18       [[\"Cate Shortland\", \"/wiki/Cate_Shortland\"]]   \n",
       "19  [[\"Nia DaCosta\", \"/wiki/Nia_DaCosta\"], [\"[1]\",...   \n",
       "\n",
       "                                              Writers  \\\n",
       "0   [[\"Christopher Markus\", \"/wiki/Christopher_Mar...   \n",
       "1   [[\"Stephen McFeely\", \"/wiki/Stephen_McFeely\"],...   \n",
       "2   [[\"Jonathan M. Goldstein\", \"/wiki/Jonathan_M._...   \n",
       "3                [[\"James Gunn\", \"/wiki/James_Gunn\"]]   \n",
       "4   [[\"Zak Penn\", \"/wiki/Zak_Penn\"], [\"Edward Nort...   \n",
       "5   [[\"David Callaham\", \"/wiki/David_Callaham\"], [...   \n",
       "6   [[\"Christopher Markus\", \"/wiki/Christopher_Mar...   \n",
       "7   [[\"Zak Penn\", \"/wiki/Zak_Penn\"], [\"Joss Whedon...   \n",
       "8              [[\"Joss Whedon\", \"/wiki/Joss_Whedon\"]]   \n",
       "9   [[\"Chris McKenna\", \"/wiki/Chris_McKenna\"], [\"E...   \n",
       "10  [[\"Mark Fergus\", \"/wiki/Mark_Fergus\"], [\"Hawk ...   \n",
       "11  [[\"Anna Boden\", \"/wiki/Anna_Boden\"], [\"Ryan Fl...   \n",
       "12       [[\"Justin Theroux\", \"/wiki/Justin_Theroux\"]]   \n",
       "13  [[\"James Gunn\", \"/wiki/James_Gunn\"], [\"[2]\", \"...   \n",
       "14  [[\"Thomas Dean Donnelly\", \"/wiki/Thomas_Dean_D...   \n",
       "15  [[\"Christopher Markus\", \"/wiki/Christopher_Mar...   \n",
       "16  [[\"Chlo\\u00e9 Zhao\", \"/wiki/Chlo%C3%A9_Zhao\"],...   \n",
       "17  [[\"Drew Pearce\", \"/wiki/Drew_Pearce\"], [\"Shane...   \n",
       "18  [[\"Eric Pearson\", \"/wiki/Eric_Pearson\"], [\"Jac...   \n",
       "19  [[\"Megan McDonnell\", \"/wiki/Megan_McDonnell\"],...   \n",
       "\n",
       "                                            Producers  \\\n",
       "0   [[\"Kevin Feige\", \"/wiki/Kevin_Feige\"], [\"Louis...   \n",
       "1   [[\"Kevin Feige\", \"/wiki/Kevin_Feige\"], [\"Louis...   \n",
       "2   [[\"Kevin Feige\", \"/wiki/Kevin_Feige\"], [\"Amy P...   \n",
       "3   [[\"Kevin Feige\", \"/wiki/Kevin_Feige\"], [\"Louis...   \n",
       "4   [[\"Avi Arad\", \"/wiki/Avi_Arad\"], [\"Gale Anne H...   \n",
       "5   [[\"Kevin Feige\", \"/wiki/Kevin_Feige\"], [\"Jonat...   \n",
       "6   [[\"Kevin Feige\", \"/wiki/Kevin_Feige\"], [\"Louis...   \n",
       "7   [[\"Kevin Feige\", \"/wiki/Kevin_Feige\"], [\"Louis...   \n",
       "8   [[\"Kevin Feige\", \"/wiki/Kevin_Feige\"], [\"Louis...   \n",
       "9   [[\"Kevin Feige\", \"/wiki/Kevin_Feige\"], [\"Amy P...   \n",
       "10  [[\"Avi Arad\", \"/wiki/Avi_Arad\"], [\"Kevin Feige...   \n",
       "11  [[\"Kevin Feige\", \"/wiki/Kevin_Feige\"], [\"Louis...   \n",
       "12  [[\"Kevin Feige\", \"/wiki/Kevin_Feige\"], [\"Alan ...   \n",
       "13  [[\"Kevin Feige\", \"/wiki/Kevin_Feige\"], [\"Louis...   \n",
       "14  [[\"Kevin Feige\", \"/wiki/Kevin_Feige\"], [\"Louis...   \n",
       "15  [[\"Kevin Feige\", \"/wiki/Kevin_Feige\"], [\"Louis...   \n",
       "16  [[\"Kevin Feige\", \"/wiki/Kevin_Feige\"], [\"Nate ...   \n",
       "17  [[\"Kevin Feige\", \"/wiki/Kevin_Feige\"], [\"Louis...   \n",
       "18  [[\"Kevin Feige\", \"/wiki/Kevin_Feige\"], [\"Louis...   \n",
       "19  [[\"Kevin Feige\", \"/wiki/Kevin_Feige\"], [\"Louis...   \n",
       "\n",
       "                                            Composers  \\\n",
       "0        [[\"Alan Silvestri\", \"/wiki/Alan_Silvestri\"]]   \n",
       "1          [[\"Henry Jackman\", \"/wiki/Henry_Jackman\"]]   \n",
       "2   [[\"Michael Giacchino\", \"/wiki/Michael_Giacchin...   \n",
       "3              [[\"Tyler Bates\", \"/wiki/Tyler_Bates\"]]   \n",
       "4      [[\"Craig Armstrong\", \"/wiki/Craig_Armstrong\"]]   \n",
       "5            [[\"Joel P. West\", \"/wiki/Joel_P._West\"]]   \n",
       "6        [[\"Alan Silvestri\", \"/wiki/Alan_Silvestri\"]]   \n",
       "7        [[\"Alan Silvestri\", \"/wiki/Alan_Silvestri\"]]   \n",
       "8   [[\"Brian Tyler\", \"/wiki/Brian_Tyler\"], [\"Danny...   \n",
       "9   [[\"Michael Giacchino\", \"/wiki/Michael_Giacchin...   \n",
       "10  [[\"Ramin Djawadi\", \"/wiki/Ramin_Djawadi\"], [\"H...   \n",
       "11           [[\"Pinar Toprak\", \"/wiki/Pinar_Toprak\"]]   \n",
       "12             [[\"John Debney\", \"/wiki/John_Debney\"]]   \n",
       "13  [[\"John Murphy\", \"/wiki/John_Murphy\"], [\"[3]\",...   \n",
       "14  [[\"Michael Giacchino\", \"/wiki/Michael_Giacchin...   \n",
       "15       [[\"Alan Silvestri\", \"/wiki/Alan_Silvestri\"]]   \n",
       "16  [[\"Ramin Djawadi\", \"/wiki/Ramin_Djawadi\"], [\"B...   \n",
       "17             [[\"Brian Tyler\", \"/wiki/Brian_Tyler\"]]   \n",
       "18  [[\"Lorne Balfe\", \"/wiki/Lorne_Balfe\"], [\"Sven ...   \n",
       "19                                                 []   \n",
       "\n",
       "                                          releaseDate      Runtime  \\\n",
       "0                                      April 27, 2018  149 minutes   \n",
       "1   March 26, 2014 (international)April 4, 2014 (U...  136 minutes   \n",
       "2              July 5, 2017 (U.K.)July 7, 2017 (U.S.)  133 minutes   \n",
       "3    April 25, 2017 (International)May 5, 2017 (U.S.)  137 minutes   \n",
       "4                                       June 13, 2008  112 minutes   \n",
       "5                                   September 3, 2021  132 minutes   \n",
       "6            July 22, 2011 (U.S.)July 29, 2011 (U.K.)  124 minutes   \n",
       "7    April 25, 2012 (international)May 4, 2012 (U.S.)  143 minutes   \n",
       "8    April 22, 2015 (international)May 1, 2015 (U.S.)  141 minutes   \n",
       "9                                   December 17, 2021  148 minutes   \n",
       "10   April 30, 2008 (international)May 2, 2008 (U.S.)  126 minutes   \n",
       "11                                      March 8, 2019  124 minutes   \n",
       "12   April 28, 2010 (international)May 7, 2010 (U.S.)  125 minutes   \n",
       "13                                     May 5, 2023[4]          NaN   \n",
       "14  October 25, 2016 (international)November 4, 20...  115 minutes   \n",
       "15           April 26, 2019June 28, 2019 (re-release)  181 minutes   \n",
       "16                                   November 5, 2021  157 minutes   \n",
       "17   April 24, 2013 (international)May 3, 2013 (U.S.)  130 minutes   \n",
       "18                                       July 9, 2021  134 minutes   \n",
       "19                               February 17, 2023[3]          NaN   \n",
       "\n",
       "                                 BoxOffice  \\\n",
       "0                           $2.049 billion   \n",
       "1                           $714.4 million   \n",
       "2                           $880.2 million   \n",
       "3                           $863.8 million   \n",
       "4                           $263.4 million   \n",
       "5                           $432.2 million   \n",
       "6                           $370.6 million   \n",
       "7                           $1.519 billion   \n",
       "8                           $1.405 billion   \n",
       "9                           $751.3 million   \n",
       "10                          $585.2 million   \n",
       "11                          $1.128 billion   \n",
       "12                          $623.9 million   \n",
       "13                                     NaN   \n",
       "14                          $677.7 million   \n",
       "15                          $2.798 billion   \n",
       "16                          $400.2 million   \n",
       "17                          $1.215 billion   \n",
       "18  $379.2 million$125 million (streaming)   \n",
       "19                                     NaN   \n",
       "\n",
       "                                             Synopsis  \n",
       "0   [\"An unprecedented cinematic journey ten years...  \n",
       "1   [\"After the cataclysmic events in New York wit...  \n",
       "2   [\"A young Peter Parker/Spider-Man, who made hi...  \n",
       "3   [\"Set to the backdrop of \\\"Awesome Mixtape #2\\...  \n",
       "4   [\"In this new beginning, scientist Bruce Banne...  \n",
       "5   [\"Shang-Chi must confront the past he thought ...  \n",
       "6   [\"Marvel's Captain America: The First Avenger ...  \n",
       "7   [\"Marvel Studios presents in association with ...  \n",
       "8   [\"Marvel Studios presents Avengers: Age of Ult...  \n",
       "9   [\"For the first time in the cinematic history ...  \n",
       "10  [\"2008's Iron Man tells the story of Tony Star...  \n",
       "11  [\"Set in the 1990s, Marvel Studios\\u2019 \\u201...  \n",
       "12  [\"With the world now aware that he is Iron Man...  \n",
       "13                                  [\"To be added\\n\"]  \n",
       "14  [\"From Marvel Studios comes Doctor Strange, th...  \n",
       "15  [\"The grave course of events set in motion by ...  \n",
       "16  [\"Marvel Studios' Eternals features an excitin...  \n",
       "17  [\"Marvel's Iron Man 3 pits brash-but-brilliant...  \n",
       "18  [\"In Marvel Studios' action-packed spy thrille...  \n",
       "19  [\"Marvel Studios' The Marvels will feature Bri...  "
      ]
     },
     "execution_count": 11,
     "metadata": {},
     "output_type": "execute_result"
    }
   ],
   "source": [
    "film_dataset.head(20)"
   ]
  },
  {
   "cell_type": "code",
   "execution_count": 3,
   "metadata": {},
   "outputs": [],
   "source": [
    "def matching_characters(first_name, second_name):\n",
    "  first_name_without_paranthesys = re.sub(\"[\\(\\[].*?[\\)\\]]\", \"\", first_name.strip()).strip()\n",
    "  first_name_without_paranthesys = first_name_without_paranthesys.replace(\"'\", \" \").replace('\"', \" \").replace(\"-\",\" \").strip()\n",
    "  second_name_without_paranthesys = re.sub(\n",
    "      \"[\\(\\[].*?[\\)\\]]\", \"\", second_name.strip()).strip()\n",
    "  secondt_name_without_paranthesys = second_name_without_paranthesys.replace(\n",
    "      \"'\", \" \").replace('\"', \" \").replace(\"-\", \" \").strip()\n",
    "  return first_name_without_paranthesys.lower() == second_name_without_paranthesys.lower()\n"
   ]
  },
  {
   "cell_type": "code",
   "execution_count": 4,
   "metadata": {},
   "outputs": [
    {
     "name": "stderr",
     "output_type": "stream",
     "text": [
      "100%|██████████| 3746/3746 [00:00<00:00, 23854.54it/s]\n"
     ]
    }
   ],
   "source": [
    "for idx, row in tqdm(scraping_characters_dataset.iterrows(), total=scraping_characters_dataset.shape[0]):\n",
    "  proc_name = re.sub(\n",
    "      \"[\\(\\[].*?[\\)\\]]\", \"\", row[\"Processed_Name\"].strip()).strip()\n",
    "  scraping_characters_dataset.at[idx, \"Processed_Name\"] = proc_name.lower()\n",
    "scraping_characters_dataset.head(10)\n",
    "scraping_characters_dataset.to_csv(\n",
    "    \"./Datasets/scraping_personaggi_completo_filtered_relations.csv\")\n"
   ]
  },
  {
   "cell_type": "code",
   "execution_count": 5,
   "metadata": {},
   "outputs": [
    {
     "name": "stderr",
     "output_type": "stream",
     "text": [
      "100%|██████████| 1559/1559 [00:01<00:00, 1187.09it/s]\n"
     ]
    },
    {
     "name": "stdout",
     "output_type": "stream",
     "text": [
      "Numero di corrispondenze: 325\n"
     ]
    },
    {
     "data": {
      "application/vnd.plotly.v1+json": {
       "config": {
        "plotlyServerURL": "https://plot.ly"
       },
       "data": [
        {
         "alignmentgroup": "True",
         "hovertemplate": "type=%{x}<br>count=%{y}<extra></extra>",
         "legendgroup": "",
         "marker": {
          "color": "#636efa",
          "pattern": {
           "shape": ""
          }
         },
         "name": "",
         "offsetgroup": "",
         "orientation": "v",
         "showlegend": false,
         "textposition": "auto",
         "type": "bar",
         "width": 0.25,
         "x": [
          "Personaggi collegati",
          "Personaggi non collegate"
         ],
         "xaxis": "x",
         "y": [
          325,
          1234
         ],
         "yaxis": "y"
        }
       ],
       "layout": {
        "barmode": "relative",
        "legend": {
         "tracegroupgap": 0
        },
        "margin": {
         "t": 60
        },
        "template": {
         "data": {
          "bar": [
           {
            "error_x": {
             "color": "#2a3f5f"
            },
            "error_y": {
             "color": "#2a3f5f"
            },
            "marker": {
             "line": {
              "color": "#E5ECF6",
              "width": 0.5
             },
             "pattern": {
              "fillmode": "overlay",
              "size": 10,
              "solidity": 0.2
             }
            },
            "type": "bar"
           }
          ],
          "barpolar": [
           {
            "marker": {
             "line": {
              "color": "#E5ECF6",
              "width": 0.5
             },
             "pattern": {
              "fillmode": "overlay",
              "size": 10,
              "solidity": 0.2
             }
            },
            "type": "barpolar"
           }
          ],
          "carpet": [
           {
            "aaxis": {
             "endlinecolor": "#2a3f5f",
             "gridcolor": "white",
             "linecolor": "white",
             "minorgridcolor": "white",
             "startlinecolor": "#2a3f5f"
            },
            "baxis": {
             "endlinecolor": "#2a3f5f",
             "gridcolor": "white",
             "linecolor": "white",
             "minorgridcolor": "white",
             "startlinecolor": "#2a3f5f"
            },
            "type": "carpet"
           }
          ],
          "choropleth": [
           {
            "colorbar": {
             "outlinewidth": 0,
             "ticks": ""
            },
            "type": "choropleth"
           }
          ],
          "contour": [
           {
            "colorbar": {
             "outlinewidth": 0,
             "ticks": ""
            },
            "colorscale": [
             [
              0,
              "#0d0887"
             ],
             [
              0.1111111111111111,
              "#46039f"
             ],
             [
              0.2222222222222222,
              "#7201a8"
             ],
             [
              0.3333333333333333,
              "#9c179e"
             ],
             [
              0.4444444444444444,
              "#bd3786"
             ],
             [
              0.5555555555555556,
              "#d8576b"
             ],
             [
              0.6666666666666666,
              "#ed7953"
             ],
             [
              0.7777777777777778,
              "#fb9f3a"
             ],
             [
              0.8888888888888888,
              "#fdca26"
             ],
             [
              1,
              "#f0f921"
             ]
            ],
            "type": "contour"
           }
          ],
          "contourcarpet": [
           {
            "colorbar": {
             "outlinewidth": 0,
             "ticks": ""
            },
            "type": "contourcarpet"
           }
          ],
          "heatmap": [
           {
            "colorbar": {
             "outlinewidth": 0,
             "ticks": ""
            },
            "colorscale": [
             [
              0,
              "#0d0887"
             ],
             [
              0.1111111111111111,
              "#46039f"
             ],
             [
              0.2222222222222222,
              "#7201a8"
             ],
             [
              0.3333333333333333,
              "#9c179e"
             ],
             [
              0.4444444444444444,
              "#bd3786"
             ],
             [
              0.5555555555555556,
              "#d8576b"
             ],
             [
              0.6666666666666666,
              "#ed7953"
             ],
             [
              0.7777777777777778,
              "#fb9f3a"
             ],
             [
              0.8888888888888888,
              "#fdca26"
             ],
             [
              1,
              "#f0f921"
             ]
            ],
            "type": "heatmap"
           }
          ],
          "heatmapgl": [
           {
            "colorbar": {
             "outlinewidth": 0,
             "ticks": ""
            },
            "colorscale": [
             [
              0,
              "#0d0887"
             ],
             [
              0.1111111111111111,
              "#46039f"
             ],
             [
              0.2222222222222222,
              "#7201a8"
             ],
             [
              0.3333333333333333,
              "#9c179e"
             ],
             [
              0.4444444444444444,
              "#bd3786"
             ],
             [
              0.5555555555555556,
              "#d8576b"
             ],
             [
              0.6666666666666666,
              "#ed7953"
             ],
             [
              0.7777777777777778,
              "#fb9f3a"
             ],
             [
              0.8888888888888888,
              "#fdca26"
             ],
             [
              1,
              "#f0f921"
             ]
            ],
            "type": "heatmapgl"
           }
          ],
          "histogram": [
           {
            "marker": {
             "pattern": {
              "fillmode": "overlay",
              "size": 10,
              "solidity": 0.2
             }
            },
            "type": "histogram"
           }
          ],
          "histogram2d": [
           {
            "colorbar": {
             "outlinewidth": 0,
             "ticks": ""
            },
            "colorscale": [
             [
              0,
              "#0d0887"
             ],
             [
              0.1111111111111111,
              "#46039f"
             ],
             [
              0.2222222222222222,
              "#7201a8"
             ],
             [
              0.3333333333333333,
              "#9c179e"
             ],
             [
              0.4444444444444444,
              "#bd3786"
             ],
             [
              0.5555555555555556,
              "#d8576b"
             ],
             [
              0.6666666666666666,
              "#ed7953"
             ],
             [
              0.7777777777777778,
              "#fb9f3a"
             ],
             [
              0.8888888888888888,
              "#fdca26"
             ],
             [
              1,
              "#f0f921"
             ]
            ],
            "type": "histogram2d"
           }
          ],
          "histogram2dcontour": [
           {
            "colorbar": {
             "outlinewidth": 0,
             "ticks": ""
            },
            "colorscale": [
             [
              0,
              "#0d0887"
             ],
             [
              0.1111111111111111,
              "#46039f"
             ],
             [
              0.2222222222222222,
              "#7201a8"
             ],
             [
              0.3333333333333333,
              "#9c179e"
             ],
             [
              0.4444444444444444,
              "#bd3786"
             ],
             [
              0.5555555555555556,
              "#d8576b"
             ],
             [
              0.6666666666666666,
              "#ed7953"
             ],
             [
              0.7777777777777778,
              "#fb9f3a"
             ],
             [
              0.8888888888888888,
              "#fdca26"
             ],
             [
              1,
              "#f0f921"
             ]
            ],
            "type": "histogram2dcontour"
           }
          ],
          "mesh3d": [
           {
            "colorbar": {
             "outlinewidth": 0,
             "ticks": ""
            },
            "type": "mesh3d"
           }
          ],
          "parcoords": [
           {
            "line": {
             "colorbar": {
              "outlinewidth": 0,
              "ticks": ""
             }
            },
            "type": "parcoords"
           }
          ],
          "pie": [
           {
            "automargin": true,
            "type": "pie"
           }
          ],
          "scatter": [
           {
            "marker": {
             "colorbar": {
              "outlinewidth": 0,
              "ticks": ""
             }
            },
            "type": "scatter"
           }
          ],
          "scatter3d": [
           {
            "line": {
             "colorbar": {
              "outlinewidth": 0,
              "ticks": ""
             }
            },
            "marker": {
             "colorbar": {
              "outlinewidth": 0,
              "ticks": ""
             }
            },
            "type": "scatter3d"
           }
          ],
          "scattercarpet": [
           {
            "marker": {
             "colorbar": {
              "outlinewidth": 0,
              "ticks": ""
             }
            },
            "type": "scattercarpet"
           }
          ],
          "scattergeo": [
           {
            "marker": {
             "colorbar": {
              "outlinewidth": 0,
              "ticks": ""
             }
            },
            "type": "scattergeo"
           }
          ],
          "scattergl": [
           {
            "marker": {
             "colorbar": {
              "outlinewidth": 0,
              "ticks": ""
             }
            },
            "type": "scattergl"
           }
          ],
          "scattermapbox": [
           {
            "marker": {
             "colorbar": {
              "outlinewidth": 0,
              "ticks": ""
             }
            },
            "type": "scattermapbox"
           }
          ],
          "scatterpolar": [
           {
            "marker": {
             "colorbar": {
              "outlinewidth": 0,
              "ticks": ""
             }
            },
            "type": "scatterpolar"
           }
          ],
          "scatterpolargl": [
           {
            "marker": {
             "colorbar": {
              "outlinewidth": 0,
              "ticks": ""
             }
            },
            "type": "scatterpolargl"
           }
          ],
          "scatterternary": [
           {
            "marker": {
             "colorbar": {
              "outlinewidth": 0,
              "ticks": ""
             }
            },
            "type": "scatterternary"
           }
          ],
          "surface": [
           {
            "colorbar": {
             "outlinewidth": 0,
             "ticks": ""
            },
            "colorscale": [
             [
              0,
              "#0d0887"
             ],
             [
              0.1111111111111111,
              "#46039f"
             ],
             [
              0.2222222222222222,
              "#7201a8"
             ],
             [
              0.3333333333333333,
              "#9c179e"
             ],
             [
              0.4444444444444444,
              "#bd3786"
             ],
             [
              0.5555555555555556,
              "#d8576b"
             ],
             [
              0.6666666666666666,
              "#ed7953"
             ],
             [
              0.7777777777777778,
              "#fb9f3a"
             ],
             [
              0.8888888888888888,
              "#fdca26"
             ],
             [
              1,
              "#f0f921"
             ]
            ],
            "type": "surface"
           }
          ],
          "table": [
           {
            "cells": {
             "fill": {
              "color": "#EBF0F8"
             },
             "line": {
              "color": "white"
             }
            },
            "header": {
             "fill": {
              "color": "#C8D4E3"
             },
             "line": {
              "color": "white"
             }
            },
            "type": "table"
           }
          ]
         },
         "layout": {
          "annotationdefaults": {
           "arrowcolor": "#2a3f5f",
           "arrowhead": 0,
           "arrowwidth": 1
          },
          "autotypenumbers": "strict",
          "coloraxis": {
           "colorbar": {
            "outlinewidth": 0,
            "ticks": ""
           }
          },
          "colorscale": {
           "diverging": [
            [
             0,
             "#8e0152"
            ],
            [
             0.1,
             "#c51b7d"
            ],
            [
             0.2,
             "#de77ae"
            ],
            [
             0.3,
             "#f1b6da"
            ],
            [
             0.4,
             "#fde0ef"
            ],
            [
             0.5,
             "#f7f7f7"
            ],
            [
             0.6,
             "#e6f5d0"
            ],
            [
             0.7,
             "#b8e186"
            ],
            [
             0.8,
             "#7fbc41"
            ],
            [
             0.9,
             "#4d9221"
            ],
            [
             1,
             "#276419"
            ]
           ],
           "sequential": [
            [
             0,
             "#0d0887"
            ],
            [
             0.1111111111111111,
             "#46039f"
            ],
            [
             0.2222222222222222,
             "#7201a8"
            ],
            [
             0.3333333333333333,
             "#9c179e"
            ],
            [
             0.4444444444444444,
             "#bd3786"
            ],
            [
             0.5555555555555556,
             "#d8576b"
            ],
            [
             0.6666666666666666,
             "#ed7953"
            ],
            [
             0.7777777777777778,
             "#fb9f3a"
            ],
            [
             0.8888888888888888,
             "#fdca26"
            ],
            [
             1,
             "#f0f921"
            ]
           ],
           "sequentialminus": [
            [
             0,
             "#0d0887"
            ],
            [
             0.1111111111111111,
             "#46039f"
            ],
            [
             0.2222222222222222,
             "#7201a8"
            ],
            [
             0.3333333333333333,
             "#9c179e"
            ],
            [
             0.4444444444444444,
             "#bd3786"
            ],
            [
             0.5555555555555556,
             "#d8576b"
            ],
            [
             0.6666666666666666,
             "#ed7953"
            ],
            [
             0.7777777777777778,
             "#fb9f3a"
            ],
            [
             0.8888888888888888,
             "#fdca26"
            ],
            [
             1,
             "#f0f921"
            ]
           ]
          },
          "colorway": [
           "#636efa",
           "#EF553B",
           "#00cc96",
           "#ab63fa",
           "#FFA15A",
           "#19d3f3",
           "#FF6692",
           "#B6E880",
           "#FF97FF",
           "#FECB52"
          ],
          "font": {
           "color": "#2a3f5f"
          },
          "geo": {
           "bgcolor": "white",
           "lakecolor": "white",
           "landcolor": "#E5ECF6",
           "showlakes": true,
           "showland": true,
           "subunitcolor": "white"
          },
          "hoverlabel": {
           "align": "left"
          },
          "hovermode": "closest",
          "mapbox": {
           "style": "light"
          },
          "paper_bgcolor": "white",
          "plot_bgcolor": "#E5ECF6",
          "polar": {
           "angularaxis": {
            "gridcolor": "white",
            "linecolor": "white",
            "ticks": ""
           },
           "bgcolor": "#E5ECF6",
           "radialaxis": {
            "gridcolor": "white",
            "linecolor": "white",
            "ticks": ""
           }
          },
          "scene": {
           "xaxis": {
            "backgroundcolor": "#E5ECF6",
            "gridcolor": "white",
            "gridwidth": 2,
            "linecolor": "white",
            "showbackground": true,
            "ticks": "",
            "zerolinecolor": "white"
           },
           "yaxis": {
            "backgroundcolor": "#E5ECF6",
            "gridcolor": "white",
            "gridwidth": 2,
            "linecolor": "white",
            "showbackground": true,
            "ticks": "",
            "zerolinecolor": "white"
           },
           "zaxis": {
            "backgroundcolor": "#E5ECF6",
            "gridcolor": "white",
            "gridwidth": 2,
            "linecolor": "white",
            "showbackground": true,
            "ticks": "",
            "zerolinecolor": "white"
           }
          },
          "shapedefaults": {
           "line": {
            "color": "#2a3f5f"
           }
          },
          "ternary": {
           "aaxis": {
            "gridcolor": "white",
            "linecolor": "white",
            "ticks": ""
           },
           "baxis": {
            "gridcolor": "white",
            "linecolor": "white",
            "ticks": ""
           },
           "bgcolor": "#E5ECF6",
           "caxis": {
            "gridcolor": "white",
            "linecolor": "white",
            "ticks": ""
           }
          },
          "title": {
           "x": 0.05
          },
          "xaxis": {
           "automargin": true,
           "gridcolor": "white",
           "linecolor": "white",
           "ticks": "",
           "title": {
            "standoff": 15
           },
           "zerolinecolor": "white",
           "zerolinewidth": 2
          },
          "yaxis": {
           "automargin": true,
           "gridcolor": "white",
           "linecolor": "white",
           "ticks": "",
           "title": {
            "standoff": 15
           },
           "zerolinecolor": "white",
           "zerolinewidth": 2
          }
         }
        },
        "width": 700,
        "xaxis": {
         "anchor": "y",
         "domain": [
          0,
          1
         ],
         "title": {
          "text": "type"
         }
        },
        "yaxis": {
         "anchor": "x",
         "domain": [
          0,
          1
         ],
         "title": {
          "text": "count"
         }
        }
       }
      }
     },
     "metadata": {},
     "output_type": "display_data"
    }
   ],
   "source": [
    "num_link = 0\n",
    "for idx, row in tqdm(api_characters_dataset.iterrows(), total=api_characters_dataset.shape[0]):\n",
    "  formatted_name = re.sub(\n",
    "      \"[\\(\\[].*?[\\)\\]]\", \"\", row[\"name\"].strip()).strip()\n",
    "  querystring = \"Processed_Name == '%s'\" % (\n",
    "      formatted_name.replace(\"'\", \" \").replace('\"', \" \").replace(\" \\u2020\", \"\").lower())\n",
    "  if len(scraping_characters_dataset.query(querystring)) != 0:\n",
    "    num_link += 1\n",
    "print(\"Numero di corrispondenze: %s\"%(num_link))\n",
    "dataframe = pd.DataFrame([[\"Personaggi collegati\", num_link], [\n",
    "                         \"Personaggi non collegate\", api_characters_dataset.shape[0] - num_link]], columns=[\"type\", \"count\"])\n",
    "fig = px.bar(dataframe, x='type', y='count', width=700)\n",
    "fig.update_traces(width=0.25)\n",
    "fig.show()\n"
   ]
  },
  {
   "cell_type": "markdown",
   "metadata": {},
   "source": [
    "323 personaggi ottenuti dalla web api sono collegabili con i personaggi ottenuti tramite scraping"
   ]
  },
  {
   "cell_type": "markdown",
   "metadata": {},
   "source": [
    "# Filtering relazioni"
   ]
  },
  {
   "cell_type": "markdown",
   "metadata": {},
   "source": [
    "Identificazione preliminare delle relazioni che non trovano corrispondenza nella lista di personaggi"
   ]
  },
  {
   "cell_type": "code",
   "execution_count": 6,
   "metadata": {},
   "outputs": [
    {
     "name": "stderr",
     "output_type": "stream",
     "text": [
      "100%|██████████| 3746/3746 [00:41<00:00, 90.27it/s] "
     ]
    },
    {
     "name": "stdout",
     "output_type": "stream",
     "text": [
      "Tenute 45309 relazioni su 61114\n"
     ]
    },
    {
     "name": "stderr",
     "output_type": "stream",
     "text": [
      "\n"
     ]
    },
    {
     "data": {
      "application/vnd.plotly.v1+json": {
       "config": {
        "plotlyServerURL": "https://plot.ly"
       },
       "data": [
        {
         "alignmentgroup": "True",
         "hovertemplate": "type=%{x}<br>count=%{y}<extra></extra>",
         "legendgroup": "",
         "marker": {
          "color": "#636efa",
          "pattern": {
           "shape": ""
          }
         },
         "name": "",
         "offsetgroup": "",
         "orientation": "v",
         "showlegend": false,
         "textposition": "auto",
         "type": "bar",
         "width": 0.25,
         "x": [
          "Relazioni tenute",
          "Relazioni scartate"
         ],
         "xaxis": "x",
         "y": [
          45309,
          15805
         ],
         "yaxis": "y"
        }
       ],
       "layout": {
        "barmode": "relative",
        "legend": {
         "tracegroupgap": 0
        },
        "margin": {
         "t": 60
        },
        "template": {
         "data": {
          "bar": [
           {
            "error_x": {
             "color": "#2a3f5f"
            },
            "error_y": {
             "color": "#2a3f5f"
            },
            "marker": {
             "line": {
              "color": "#E5ECF6",
              "width": 0.5
             },
             "pattern": {
              "fillmode": "overlay",
              "size": 10,
              "solidity": 0.2
             }
            },
            "type": "bar"
           }
          ],
          "barpolar": [
           {
            "marker": {
             "line": {
              "color": "#E5ECF6",
              "width": 0.5
             },
             "pattern": {
              "fillmode": "overlay",
              "size": 10,
              "solidity": 0.2
             }
            },
            "type": "barpolar"
           }
          ],
          "carpet": [
           {
            "aaxis": {
             "endlinecolor": "#2a3f5f",
             "gridcolor": "white",
             "linecolor": "white",
             "minorgridcolor": "white",
             "startlinecolor": "#2a3f5f"
            },
            "baxis": {
             "endlinecolor": "#2a3f5f",
             "gridcolor": "white",
             "linecolor": "white",
             "minorgridcolor": "white",
             "startlinecolor": "#2a3f5f"
            },
            "type": "carpet"
           }
          ],
          "choropleth": [
           {
            "colorbar": {
             "outlinewidth": 0,
             "ticks": ""
            },
            "type": "choropleth"
           }
          ],
          "contour": [
           {
            "colorbar": {
             "outlinewidth": 0,
             "ticks": ""
            },
            "colorscale": [
             [
              0,
              "#0d0887"
             ],
             [
              0.1111111111111111,
              "#46039f"
             ],
             [
              0.2222222222222222,
              "#7201a8"
             ],
             [
              0.3333333333333333,
              "#9c179e"
             ],
             [
              0.4444444444444444,
              "#bd3786"
             ],
             [
              0.5555555555555556,
              "#d8576b"
             ],
             [
              0.6666666666666666,
              "#ed7953"
             ],
             [
              0.7777777777777778,
              "#fb9f3a"
             ],
             [
              0.8888888888888888,
              "#fdca26"
             ],
             [
              1,
              "#f0f921"
             ]
            ],
            "type": "contour"
           }
          ],
          "contourcarpet": [
           {
            "colorbar": {
             "outlinewidth": 0,
             "ticks": ""
            },
            "type": "contourcarpet"
           }
          ],
          "heatmap": [
           {
            "colorbar": {
             "outlinewidth": 0,
             "ticks": ""
            },
            "colorscale": [
             [
              0,
              "#0d0887"
             ],
             [
              0.1111111111111111,
              "#46039f"
             ],
             [
              0.2222222222222222,
              "#7201a8"
             ],
             [
              0.3333333333333333,
              "#9c179e"
             ],
             [
              0.4444444444444444,
              "#bd3786"
             ],
             [
              0.5555555555555556,
              "#d8576b"
             ],
             [
              0.6666666666666666,
              "#ed7953"
             ],
             [
              0.7777777777777778,
              "#fb9f3a"
             ],
             [
              0.8888888888888888,
              "#fdca26"
             ],
             [
              1,
              "#f0f921"
             ]
            ],
            "type": "heatmap"
           }
          ],
          "heatmapgl": [
           {
            "colorbar": {
             "outlinewidth": 0,
             "ticks": ""
            },
            "colorscale": [
             [
              0,
              "#0d0887"
             ],
             [
              0.1111111111111111,
              "#46039f"
             ],
             [
              0.2222222222222222,
              "#7201a8"
             ],
             [
              0.3333333333333333,
              "#9c179e"
             ],
             [
              0.4444444444444444,
              "#bd3786"
             ],
             [
              0.5555555555555556,
              "#d8576b"
             ],
             [
              0.6666666666666666,
              "#ed7953"
             ],
             [
              0.7777777777777778,
              "#fb9f3a"
             ],
             [
              0.8888888888888888,
              "#fdca26"
             ],
             [
              1,
              "#f0f921"
             ]
            ],
            "type": "heatmapgl"
           }
          ],
          "histogram": [
           {
            "marker": {
             "pattern": {
              "fillmode": "overlay",
              "size": 10,
              "solidity": 0.2
             }
            },
            "type": "histogram"
           }
          ],
          "histogram2d": [
           {
            "colorbar": {
             "outlinewidth": 0,
             "ticks": ""
            },
            "colorscale": [
             [
              0,
              "#0d0887"
             ],
             [
              0.1111111111111111,
              "#46039f"
             ],
             [
              0.2222222222222222,
              "#7201a8"
             ],
             [
              0.3333333333333333,
              "#9c179e"
             ],
             [
              0.4444444444444444,
              "#bd3786"
             ],
             [
              0.5555555555555556,
              "#d8576b"
             ],
             [
              0.6666666666666666,
              "#ed7953"
             ],
             [
              0.7777777777777778,
              "#fb9f3a"
             ],
             [
              0.8888888888888888,
              "#fdca26"
             ],
             [
              1,
              "#f0f921"
             ]
            ],
            "type": "histogram2d"
           }
          ],
          "histogram2dcontour": [
           {
            "colorbar": {
             "outlinewidth": 0,
             "ticks": ""
            },
            "colorscale": [
             [
              0,
              "#0d0887"
             ],
             [
              0.1111111111111111,
              "#46039f"
             ],
             [
              0.2222222222222222,
              "#7201a8"
             ],
             [
              0.3333333333333333,
              "#9c179e"
             ],
             [
              0.4444444444444444,
              "#bd3786"
             ],
             [
              0.5555555555555556,
              "#d8576b"
             ],
             [
              0.6666666666666666,
              "#ed7953"
             ],
             [
              0.7777777777777778,
              "#fb9f3a"
             ],
             [
              0.8888888888888888,
              "#fdca26"
             ],
             [
              1,
              "#f0f921"
             ]
            ],
            "type": "histogram2dcontour"
           }
          ],
          "mesh3d": [
           {
            "colorbar": {
             "outlinewidth": 0,
             "ticks": ""
            },
            "type": "mesh3d"
           }
          ],
          "parcoords": [
           {
            "line": {
             "colorbar": {
              "outlinewidth": 0,
              "ticks": ""
             }
            },
            "type": "parcoords"
           }
          ],
          "pie": [
           {
            "automargin": true,
            "type": "pie"
           }
          ],
          "scatter": [
           {
            "marker": {
             "colorbar": {
              "outlinewidth": 0,
              "ticks": ""
             }
            },
            "type": "scatter"
           }
          ],
          "scatter3d": [
           {
            "line": {
             "colorbar": {
              "outlinewidth": 0,
              "ticks": ""
             }
            },
            "marker": {
             "colorbar": {
              "outlinewidth": 0,
              "ticks": ""
             }
            },
            "type": "scatter3d"
           }
          ],
          "scattercarpet": [
           {
            "marker": {
             "colorbar": {
              "outlinewidth": 0,
              "ticks": ""
             }
            },
            "type": "scattercarpet"
           }
          ],
          "scattergeo": [
           {
            "marker": {
             "colorbar": {
              "outlinewidth": 0,
              "ticks": ""
             }
            },
            "type": "scattergeo"
           }
          ],
          "scattergl": [
           {
            "marker": {
             "colorbar": {
              "outlinewidth": 0,
              "ticks": ""
             }
            },
            "type": "scattergl"
           }
          ],
          "scattermapbox": [
           {
            "marker": {
             "colorbar": {
              "outlinewidth": 0,
              "ticks": ""
             }
            },
            "type": "scattermapbox"
           }
          ],
          "scatterpolar": [
           {
            "marker": {
             "colorbar": {
              "outlinewidth": 0,
              "ticks": ""
             }
            },
            "type": "scatterpolar"
           }
          ],
          "scatterpolargl": [
           {
            "marker": {
             "colorbar": {
              "outlinewidth": 0,
              "ticks": ""
             }
            },
            "type": "scatterpolargl"
           }
          ],
          "scatterternary": [
           {
            "marker": {
             "colorbar": {
              "outlinewidth": 0,
              "ticks": ""
             }
            },
            "type": "scatterternary"
           }
          ],
          "surface": [
           {
            "colorbar": {
             "outlinewidth": 0,
             "ticks": ""
            },
            "colorscale": [
             [
              0,
              "#0d0887"
             ],
             [
              0.1111111111111111,
              "#46039f"
             ],
             [
              0.2222222222222222,
              "#7201a8"
             ],
             [
              0.3333333333333333,
              "#9c179e"
             ],
             [
              0.4444444444444444,
              "#bd3786"
             ],
             [
              0.5555555555555556,
              "#d8576b"
             ],
             [
              0.6666666666666666,
              "#ed7953"
             ],
             [
              0.7777777777777778,
              "#fb9f3a"
             ],
             [
              0.8888888888888888,
              "#fdca26"
             ],
             [
              1,
              "#f0f921"
             ]
            ],
            "type": "surface"
           }
          ],
          "table": [
           {
            "cells": {
             "fill": {
              "color": "#EBF0F8"
             },
             "line": {
              "color": "white"
             }
            },
            "header": {
             "fill": {
              "color": "#C8D4E3"
             },
             "line": {
              "color": "white"
             }
            },
            "type": "table"
           }
          ]
         },
         "layout": {
          "annotationdefaults": {
           "arrowcolor": "#2a3f5f",
           "arrowhead": 0,
           "arrowwidth": 1
          },
          "autotypenumbers": "strict",
          "coloraxis": {
           "colorbar": {
            "outlinewidth": 0,
            "ticks": ""
           }
          },
          "colorscale": {
           "diverging": [
            [
             0,
             "#8e0152"
            ],
            [
             0.1,
             "#c51b7d"
            ],
            [
             0.2,
             "#de77ae"
            ],
            [
             0.3,
             "#f1b6da"
            ],
            [
             0.4,
             "#fde0ef"
            ],
            [
             0.5,
             "#f7f7f7"
            ],
            [
             0.6,
             "#e6f5d0"
            ],
            [
             0.7,
             "#b8e186"
            ],
            [
             0.8,
             "#7fbc41"
            ],
            [
             0.9,
             "#4d9221"
            ],
            [
             1,
             "#276419"
            ]
           ],
           "sequential": [
            [
             0,
             "#0d0887"
            ],
            [
             0.1111111111111111,
             "#46039f"
            ],
            [
             0.2222222222222222,
             "#7201a8"
            ],
            [
             0.3333333333333333,
             "#9c179e"
            ],
            [
             0.4444444444444444,
             "#bd3786"
            ],
            [
             0.5555555555555556,
             "#d8576b"
            ],
            [
             0.6666666666666666,
             "#ed7953"
            ],
            [
             0.7777777777777778,
             "#fb9f3a"
            ],
            [
             0.8888888888888888,
             "#fdca26"
            ],
            [
             1,
             "#f0f921"
            ]
           ],
           "sequentialminus": [
            [
             0,
             "#0d0887"
            ],
            [
             0.1111111111111111,
             "#46039f"
            ],
            [
             0.2222222222222222,
             "#7201a8"
            ],
            [
             0.3333333333333333,
             "#9c179e"
            ],
            [
             0.4444444444444444,
             "#bd3786"
            ],
            [
             0.5555555555555556,
             "#d8576b"
            ],
            [
             0.6666666666666666,
             "#ed7953"
            ],
            [
             0.7777777777777778,
             "#fb9f3a"
            ],
            [
             0.8888888888888888,
             "#fdca26"
            ],
            [
             1,
             "#f0f921"
            ]
           ]
          },
          "colorway": [
           "#636efa",
           "#EF553B",
           "#00cc96",
           "#ab63fa",
           "#FFA15A",
           "#19d3f3",
           "#FF6692",
           "#B6E880",
           "#FF97FF",
           "#FECB52"
          ],
          "font": {
           "color": "#2a3f5f"
          },
          "geo": {
           "bgcolor": "white",
           "lakecolor": "white",
           "landcolor": "#E5ECF6",
           "showlakes": true,
           "showland": true,
           "subunitcolor": "white"
          },
          "hoverlabel": {
           "align": "left"
          },
          "hovermode": "closest",
          "mapbox": {
           "style": "light"
          },
          "paper_bgcolor": "white",
          "plot_bgcolor": "#E5ECF6",
          "polar": {
           "angularaxis": {
            "gridcolor": "white",
            "linecolor": "white",
            "ticks": ""
           },
           "bgcolor": "#E5ECF6",
           "radialaxis": {
            "gridcolor": "white",
            "linecolor": "white",
            "ticks": ""
           }
          },
          "scene": {
           "xaxis": {
            "backgroundcolor": "#E5ECF6",
            "gridcolor": "white",
            "gridwidth": 2,
            "linecolor": "white",
            "showbackground": true,
            "ticks": "",
            "zerolinecolor": "white"
           },
           "yaxis": {
            "backgroundcolor": "#E5ECF6",
            "gridcolor": "white",
            "gridwidth": 2,
            "linecolor": "white",
            "showbackground": true,
            "ticks": "",
            "zerolinecolor": "white"
           },
           "zaxis": {
            "backgroundcolor": "#E5ECF6",
            "gridcolor": "white",
            "gridwidth": 2,
            "linecolor": "white",
            "showbackground": true,
            "ticks": "",
            "zerolinecolor": "white"
           }
          },
          "shapedefaults": {
           "line": {
            "color": "#2a3f5f"
           }
          },
          "ternary": {
           "aaxis": {
            "gridcolor": "white",
            "linecolor": "white",
            "ticks": ""
           },
           "baxis": {
            "gridcolor": "white",
            "linecolor": "white",
            "ticks": ""
           },
           "bgcolor": "#E5ECF6",
           "caxis": {
            "gridcolor": "white",
            "linecolor": "white",
            "ticks": ""
           }
          },
          "title": {
           "x": 0.05
          },
          "xaxis": {
           "automargin": true,
           "gridcolor": "white",
           "linecolor": "white",
           "ticks": "",
           "title": {
            "standoff": 15
           },
           "zerolinecolor": "white",
           "zerolinewidth": 2
          },
          "yaxis": {
           "automargin": true,
           "gridcolor": "white",
           "linecolor": "white",
           "ticks": "",
           "title": {
            "standoff": 15
           },
           "zerolinecolor": "white",
           "zerolinewidth": 2
          }
         }
        },
        "width": 700,
        "xaxis": {
         "anchor": "y",
         "domain": [
          0,
          1
         ],
         "title": {
          "text": "type"
         }
        },
        "yaxis": {
         "anchor": "x",
         "domain": [
          0,
          1
         ],
         "title": {
          "text": "count"
         }
        }
       }
      }
     },
     "metadata": {},
     "output_type": "display_data"
    }
   ],
   "source": [
    "character_dataset_scraping = pd.read_csv(\"./Datasets/scraping_personaggi_completo_filtered_name.csv\")\n",
    "linked = 0\n",
    "totale = 0\n",
    "for idx, row in tqdm(character_dataset_scraping.iterrows(), total=character_dataset_scraping.shape[0]):\n",
    "  try:\n",
    "    relations = json.loads(row[\"Relazioni\"])\n",
    "    filtered_relations = []\n",
    "    for relation in relations:\n",
    "        totale += 1\n",
    "        querystring = \"Processed_Name == '%s'\" % (\n",
    "            relation[0].replace(\"'\", \" \").replace('\"', \" \").replace(\" \\u2020\", \"\"))\n",
    "        if len(character_dataset_scraping.query(querystring)) != 0:\n",
    "          linked +=1 \n",
    "  except Exception as e:\n",
    "   None\n",
    "print(\"Tenute %s relazioni su %s\"%(linked, totale))\n",
    "dataframe = pd.DataFrame([[\"Relazioni tenute\", linked],[\"Relazioni scartate\", totale - linked]], columns=[\"type\", \"count\"])\n",
    "fig = px.bar(dataframe, x='type', y='count', width=700)\n",
    "fig.update_traces(width=0.25)\n",
    "fig.show()\n"
   ]
  },
  {
   "cell_type": "markdown",
   "metadata": {},
   "source": [
    "Analisi dati biografie"
   ]
  },
  {
   "cell_type": "code",
   "execution_count": 7,
   "metadata": {},
   "outputs": [
    {
     "name": "stderr",
     "output_type": "stream",
     "text": [
      "100%|██████████| 3746/3746 [00:00<00:00, 27539.74it/s]"
     ]
    },
    {
     "name": "stdout",
     "output_type": "stream",
     "text": [
      "Tenute 0 relazioni su 0\n"
     ]
    },
    {
     "name": "stderr",
     "output_type": "stream",
     "text": [
      "\n"
     ]
    }
   ],
   "source": [
    "character_dataset_scraping = pd.read_csv(\n",
    "    \"./Datasets/scraping_personaggi_completo_filtered_name.csv\")\n",
    "linked = 0\n",
    "totale = 0\n",
    "for idx, row in tqdm(character_dataset_scraping.iterrows(), total=character_dataset_scraping.shape[0]):\n",
    "  try:\n",
    "    if len(row[\"Processed_Biography\"]) < 10:\n",
    "      print(row[\"Processed_Biography\"])\n",
    "    if row[\"Processed_Biography\"].isdigit():\n",
    "      print(row[\"Processed_Biography\"])\n",
    "  except Exception as e:\n",
    "   None\n",
    "print(\"Tenute %s relazioni su %s\" % (linked, totale))\n"
   ]
  },
  {
   "cell_type": "markdown",
   "metadata": {},
   "source": [
    "# Analisi fumetti\n",
    "\n",
    "Analisi descrizioni fumetti\n"
   ]
  },
  {
   "cell_type": "code",
   "execution_count": 8,
   "metadata": {},
   "outputs": [
    {
     "ename": "ModuleNotFoundError",
     "evalue": "No module named 'neo4j'",
     "output_type": "error",
     "traceback": [
      "\u001b[1;31m---------------------------------------------------------------------------\u001b[0m",
      "\u001b[1;31mModuleNotFoundError\u001b[0m                       Traceback (most recent call last)",
      "\u001b[1;32m~\\AppData\\Local\\Temp/ipykernel_13080/2624820955.py\u001b[0m in \u001b[0;36m<module>\u001b[1;34m\u001b[0m\n\u001b[1;32m----> 1\u001b[1;33m \u001b[1;32mfrom\u001b[0m \u001b[0mneo4j\u001b[0m \u001b[1;32mimport\u001b[0m \u001b[0mGraphDatabase\u001b[0m\u001b[1;33m\u001b[0m\u001b[1;33m\u001b[0m\u001b[0m\n\u001b[0m\u001b[0;32m      2\u001b[0m \u001b[0mdb_host\u001b[0m \u001b[1;33m=\u001b[0m \u001b[1;34m\"bolt://localhost:7687\"\u001b[0m\u001b[1;33m\u001b[0m\u001b[1;33m\u001b[0m\u001b[0m\n\u001b[0;32m      3\u001b[0m \u001b[0mpassword\u001b[0m \u001b[1;33m=\u001b[0m \u001b[1;34m\"1234qwer\"\u001b[0m\u001b[1;33m\u001b[0m\u001b[1;33m\u001b[0m\u001b[0m\n\u001b[0;32m      4\u001b[0m \u001b[0mdriver\u001b[0m \u001b[1;33m=\u001b[0m \u001b[0mGraphDatabase\u001b[0m\u001b[1;33m.\u001b[0m\u001b[0mdriver\u001b[0m\u001b[1;33m(\u001b[0m\u001b[0mdb_host\u001b[0m\u001b[1;33m,\u001b[0m \u001b[0mauth\u001b[0m\u001b[1;33m=\u001b[0m\u001b[1;33m(\u001b[0m\u001b[1;34m\"neo4j\"\u001b[0m\u001b[1;33m,\u001b[0m \u001b[0mpassword\u001b[0m\u001b[1;33m)\u001b[0m\u001b[1;33m)\u001b[0m\u001b[1;33m\u001b[0m\u001b[1;33m\u001b[0m\u001b[0m\n\u001b[0;32m      5\u001b[0m \u001b[1;32mwith\u001b[0m \u001b[0mdriver\u001b[0m\u001b[1;33m.\u001b[0m\u001b[0msession\u001b[0m\u001b[1;33m(\u001b[0m\u001b[1;33m)\u001b[0m \u001b[1;32mas\u001b[0m \u001b[0msession\u001b[0m\u001b[1;33m:\u001b[0m\u001b[1;33m\u001b[0m\u001b[1;33m\u001b[0m\u001b[0m\n",
      "\u001b[1;31mModuleNotFoundError\u001b[0m: No module named 'neo4j'"
     ]
    }
   ],
   "source": [
    "from neo4j import GraphDatabase\n",
    "db_host = \"bolt://localhost:7687\"\n",
    "password = \"1234qwer\"\n",
    "driver = GraphDatabase.driver(db_host, auth=(\"neo4j\", password))\n",
    "with driver.session() as session:\n",
    "  try:\n",
    "    comics = session.run(\"MATCH (n:comic) WHERE n.comic_description = 'nan' WITH count(n) AS numero return numero\").single()[0]\n",
    "    \n",
    "    total = session.run(\"MATCH (n:comic) WITH count(n) as totale RETURN totale\").single()[0]\n",
    "    # print(\"Ci sono %s fumetti senza descrizione su %s fumetti\" % (comics, total))\n",
    "    import plotly.express as px\n",
    "    import pandas as pd\n",
    "    dataframe = pd.DataFrame([[\"Fumetti senza descrizione\", comics], [\n",
    "                             \"Fumetti con descrizione\", total - comics]], columns=[\"type\", \"count\"])\n",
    "    dataframe.head()\n",
    "    fig = px.bar(dataframe, x='type', y='count', width=700)\n",
    "    fig.update_traces(width = 0.25)\n",
    "    fig.show()\n",
    "  except Exception as e:\n",
    "    print(e)"
   ]
  },
  {
   "cell_type": "markdown",
   "metadata": {},
   "source": [
    "# Redundancy"
   ]
  },
  {
   "cell_type": "markdown",
   "metadata": {},
   "source": [
    "Personaggi API\n"
   ]
  },
  {
   "cell_type": "code",
   "execution_count": 15,
   "metadata": {},
   "outputs": [
    {
     "name": "stdout",
     "output_type": "stream",
     "text": [
      "1\n"
     ]
    }
   ],
   "source": [
    "tot = api_characters_dataset.shape[0]\n",
    "dups_color = api_characters_dataset.pivot_table(columns=['name'], aggfunc='size')\n",
    "dups_color.shape\n",
    "print(tot - dups_color.shape[0] )"
   ]
  },
  {
   "cell_type": "markdown",
   "metadata": {},
   "source": [
    "Personaggi Scraping"
   ]
  },
  {
   "cell_type": "code",
   "execution_count": 16,
   "metadata": {},
   "outputs": [
    {
     "name": "stdout",
     "output_type": "stream",
     "text": [
      "0\n"
     ]
    }
   ],
   "source": [
    "tot = scraping_characters_dataset.shape[0]\n",
    "dups_color = scraping_characters_dataset.pivot_table(columns=['Nome'], aggfunc='size')\n",
    "dups_color.shape\n",
    "print(tot - dups_color.shape[0] )"
   ]
  },
  {
   "cell_type": "markdown",
   "metadata": {},
   "source": [
    "Comics"
   ]
  },
  {
   "cell_type": "code",
   "execution_count": 17,
   "metadata": {},
   "outputs": [
    {
     "name": "stdout",
     "output_type": "stream",
     "text": [
      "2216\n"
     ]
    }
   ],
   "source": [
    "tot = comics.shape[0]\n",
    "dups_color = comics.pivot_table(columns=['title'], aggfunc='size')\n",
    "dups_color.shape\n",
    "print(tot - dups_color.shape[0] )"
   ]
  },
  {
   "cell_type": "markdown",
   "metadata": {},
   "source": [
    "Film"
   ]
  },
  {
   "cell_type": "code",
   "execution_count": 18,
   "metadata": {},
   "outputs": [
    {
     "name": "stdout",
     "output_type": "stream",
     "text": [
      "0\n"
     ]
    }
   ],
   "source": [
    "tot = film_dataset.shape[0]\n",
    "dups_color = film_dataset.pivot_table(columns=['Title'], aggfunc='size')\n",
    "dups_color.shape\n",
    "print(tot - dups_color.shape[0] )"
   ]
  },
  {
   "cell_type": "markdown",
   "metadata": {},
   "source": [
    "Serie Tv\n"
   ]
  },
  {
   "cell_type": "code",
   "execution_count": 19,
   "metadata": {},
   "outputs": [
    {
     "name": "stdout",
     "output_type": "stream",
     "text": [
      "0\n"
     ]
    }
   ],
   "source": [
    "tot = tv_series_dataset.shape[0]\n",
    "dups_color = tv_series_dataset.pivot_table(columns=['Title'], aggfunc='size')\n",
    "dups_color.shape\n",
    "print(tot - dups_color.shape[0] )"
   ]
  },
  {
   "cell_type": "markdown",
   "metadata": {},
   "source": [
    "# Completezza"
   ]
  },
  {
   "cell_type": "markdown",
   "metadata": {},
   "source": [
    "personaggi api"
   ]
  },
  {
   "cell_type": "code",
   "execution_count": 20,
   "metadata": {},
   "outputs": [
    {
     "name": "stdout",
     "output_type": "stream",
     "text": [
      "0.9269928275701207\n"
     ]
    }
   ],
   "source": [
    "tot = 0\n",
    "for item in api_characters_dataset.isna().sum():\n",
    "  tot += item\n",
    "completezza_tab =1 -(tot /(api_characters_dataset.shape[0]*api_characters_dataset.shape[1])) \n",
    "print(completezza_tab)"
   ]
  },
  {
   "cell_type": "markdown",
   "metadata": {},
   "source": [
    "personaggi Scraping"
   ]
  },
  {
   "cell_type": "code",
   "execution_count": 21,
   "metadata": {},
   "outputs": [
    {
     "name": "stdout",
     "output_type": "stream",
     "text": [
      "0.956976330307884\n"
     ]
    }
   ],
   "source": [
    "tot = 0\n",
    "for item in scraping_characters_dataset.isna().sum():\n",
    "  tot += item\n",
    "completezza_tab =1 -(tot /(scraping_characters_dataset.shape[0]*scraping_characters_dataset.shape[1])) \n",
    "print(completezza_tab)"
   ]
  },
  {
   "cell_type": "markdown",
   "metadata": {},
   "source": [
    "Comics"
   ]
  },
  {
   "cell_type": "code",
   "execution_count": 22,
   "metadata": {},
   "outputs": [
    {
     "name": "stdout",
     "output_type": "stream",
     "text": [
      "0.8396189159838089\n"
     ]
    }
   ],
   "source": [
    "tot = 0\n",
    "for item in comics.isna().sum():\n",
    "  tot += item\n",
    "completezza_tab =1-(tot /(comics.shape[0]*comics.shape[1])) \n",
    "print(completezza_tab)"
   ]
  },
  {
   "cell_type": "markdown",
   "metadata": {},
   "source": [
    "Film"
   ]
  },
  {
   "cell_type": "code",
   "execution_count": 23,
   "metadata": {},
   "outputs": [
    {
     "name": "stdout",
     "output_type": "stream",
     "text": [
      "0.8915343915343915\n"
     ]
    }
   ],
   "source": [
    "tot = 0\n",
    "for item in film_dataset.isna().sum():\n",
    "  tot += item\n",
    "completezza_tab = 1 - (tot /(film_dataset.shape[0]*film_dataset.shape[1]))\n",
    "print(completezza_tab)"
   ]
  },
  {
   "cell_type": "markdown",
   "metadata": {},
   "source": [
    "Serie TV"
   ]
  },
  {
   "cell_type": "code",
   "execution_count": 24,
   "metadata": {},
   "outputs": [
    {
     "name": "stdout",
     "output_type": "stream",
     "text": [
      "0.9671052631578947\n"
     ]
    }
   ],
   "source": [
    "tot = 0\n",
    "for item in tv_series_dataset.isna().sum():\n",
    "  tot += item\n",
    "completezza_tab = 1 -(tot /(tv_series_dataset.shape[0]*tv_series_dataset.shape[1]))\n",
    "print(completezza_tab)"
   ]
  }
 ],
 "metadata": {
  "interpreter": {
   "hash": "63fd5069d213b44bf678585dea6b12cceca9941eaf7f819626cde1f2670de90d"
  },
  "kernelspec": {
   "display_name": "Python 3.9.1 64-bit",
   "language": "python",
   "name": "python3"
  },
  "language_info": {
   "codemirror_mode": {
    "name": "ipython",
    "version": 3
   },
   "file_extension": ".py",
   "mimetype": "text/x-python",
   "name": "python",
   "nbconvert_exporter": "python",
   "pygments_lexer": "ipython3",
   "version": "3.10.1"
  },
  "orig_nbformat": 4
 },
 "nbformat": 4,
 "nbformat_minor": 2
}
