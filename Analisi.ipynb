{
 "cells": [
  {
   "cell_type": "markdown",
   "metadata": {},
   "source": [
    "# Analisi dati"
   ]
  },
  {
   "cell_type": "markdown",
   "metadata": {},
   "source": [
    "### Analisi dei personaggi\n",
    "\n",
    "Confronto fra i personaggi della web api e dello scraping, confrontare il nome in modo da porter collegare i dati dei personaggi ottenuti dallo scriping ai dati della web api\n"
   ]
  },
  {
   "cell_type": "code",
   "execution_count": 21,
   "metadata": {},
   "outputs": [],
   "source": [
    "import pandas as pd\n",
    "import re\n",
    "from tqdm import tqdm\n",
    "import json\n"
   ]
  },
  {
   "cell_type": "code",
   "execution_count": 19,
   "metadata": {},
   "outputs": [],
   "source": [
    "api_characters_dataset = pd.read_csv(\"./Datasets/api_character_list.csv\")\n",
    "scraping_characters_dataset = pd.read_csv(\"./Datasets/scraping_personaggi_completo_filtered_relations.csv\")"
   ]
  },
  {
   "cell_type": "code",
   "execution_count": 6,
   "metadata": {},
   "outputs": [],
   "source": [
    "def matching_characters(first_name, second_name):\n",
    "  first_name_without_paranthesys = re.sub(\"[\\(\\[].*?[\\)\\]]\", \"\", first_name.strip()).strip()\n",
    "  first_name_without_paranthesys = first_name_without_paranthesys.replace(\"'\", \" \").replace('\"', \" \").replace(\"-\",\" \").strip()\n",
    "  second_name_without_paranthesys = re.sub(\n",
    "      \"[\\(\\[].*?[\\)\\]]\", \"\", second_name.strip()).strip()\n",
    "  secondt_name_without_paranthesys = second_name_without_paranthesys.replace(\n",
    "      \"'\", \" \").replace('\"', \" \").replace(\"-\", \" \").strip()\n",
    "  return first_name_without_paranthesys == second_name_without_paranthesys\n"
   ]
  },
  {
   "cell_type": "code",
   "execution_count": 15,
   "metadata": {},
   "outputs": [
    {
     "name": "stderr",
     "output_type": "stream",
     "text": [
      "100%|██████████| 3746/3746 [00:00<00:00, 22160.78it/s]\n"
     ]
    }
   ],
   "source": [
    "for idx, row in tqdm(scraping_characters_dataset.iterrows(), total=scraping_characters_dataset.shape[0]):\n",
    "  proc_name = re.sub(\n",
    "      \"[\\(\\[].*?[\\)\\]]\", \"\", row[\"Processed_Name\"].strip()).strip()\n",
    "  scraping_characters_dataset.at[idx, \"Processed_Name\"] = proc_name\n",
    "scraping_characters_dataset.head(10)\n",
    "scraping_characters_dataset.to_csv(\n",
    "    \"./Datasets/scraping_personaggi_completo_filtered_relations.csv\")\n"
   ]
  },
  {
   "cell_type": "code",
   "execution_count": 20,
   "metadata": {},
   "outputs": [
    {
     "name": "stderr",
     "output_type": "stream",
     "text": [
      "100%|██████████| 1559/1559 [00:01<00:00, 1157.91it/s]"
     ]
    },
    {
     "name": "stdout",
     "output_type": "stream",
     "text": [
      "Numero di corrispondenze: 323\n"
     ]
    },
    {
     "name": "stderr",
     "output_type": "stream",
     "text": [
      "\n"
     ]
    }
   ],
   "source": [
    "num_link = 0\n",
    "for idx, row in tqdm(api_characters_dataset.iterrows(), total=api_characters_dataset.shape[0]):\n",
    "  formatted_name = re.sub(\n",
    "      \"[\\(\\[].*?[\\)\\]]\", \"\", row[\"name\"].strip()).strip()\n",
    "  querystring = \"Processed_Name == '%s'\" % (\n",
    "      formatted_name.replace(\"'\", \" \").replace('\"', \" \").replace(\" \\u2020\", \"\"))\n",
    "  if len(scraping_characters_dataset.query(querystring)) != 0:\n",
    "    num_link += 1\n",
    "print(\"Numero di corrispondenze: %s\"%(num_link))\n"
   ]
  },
  {
   "cell_type": "markdown",
   "metadata": {},
   "source": [
    "323 personaggi ottenuti dalla web api sono collegabili con i personaggi ottenuti tramite scraping"
   ]
  },
  {
   "cell_type": "markdown",
   "metadata": {},
   "source": [
    "# Filtering relazioni"
   ]
  },
  {
   "cell_type": "markdown",
   "metadata": {},
   "source": [
    "Identificazione preliminare delle relazioni che non trovano corrispondenza nella lista di personaggi"
   ]
  },
  {
   "cell_type": "code",
   "execution_count": 24,
   "metadata": {},
   "outputs": [
    {
     "name": "stderr",
     "output_type": "stream",
     "text": [
      "100%|██████████| 3746/3746 [00:46<00:00, 81.14it/s] "
     ]
    },
    {
     "name": "stdout",
     "output_type": "stream",
     "text": [
      "Tenute 45309 relazioni su 61114\n"
     ]
    },
    {
     "name": "stderr",
     "output_type": "stream",
     "text": [
      "\n"
     ]
    }
   ],
   "source": [
    "character_dataset_scraping = pd.read_csv(\"./Datasets/scraping_personaggi_completo_filtered_name.csv\")\n",
    "linked = 0\n",
    "totale = 0\n",
    "for idx, row in tqdm(character_dataset_scraping.iterrows(), total=character_dataset_scraping.shape[0]):\n",
    "  try:\n",
    "    relations = json.loads(row[\"Relazioni\"])\n",
    "    filtered_relations = []\n",
    "    for relation in relations:\n",
    "        totale += 1\n",
    "        querystring = \"Processed_Name == '%s'\" % (\n",
    "            relation[0].replace(\"'\", \" \").replace('\"', \" \").replace(\" \\u2020\", \"\"))\n",
    "        if len(character_dataset_scraping.query(querystring)) != 0:\n",
    "          linked +=1 \n",
    "  except Exception as e:\n",
    "   None\n",
    "print(\"Tenute %s relazioni su %s\"%(linked, totale))\n"
   ]
  },
  {
   "cell_type": "code",
   "execution_count": null,
   "metadata": {},
   "outputs": [],
   "source": []
  }
 ],
 "metadata": {
  "interpreter": {
   "hash": "63fd5069d213b44bf678585dea6b12cceca9941eaf7f819626cde1f2670de90d"
  },
  "kernelspec": {
   "display_name": "Python 3.9.1 64-bit",
   "language": "python",
   "name": "python3"
  },
  "language_info": {
   "codemirror_mode": {
    "name": "ipython",
    "version": 3
   },
   "file_extension": ".py",
   "mimetype": "text/x-python",
   "name": "python",
   "nbconvert_exporter": "python",
   "pygments_lexer": "ipython3",
   "version": "3.9.1"
  },
  "orig_nbformat": 4
 },
 "nbformat": 4,
 "nbformat_minor": 2
}
